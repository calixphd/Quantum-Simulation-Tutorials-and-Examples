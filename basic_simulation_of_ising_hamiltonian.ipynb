{
  "cells": [
    {
      "cell_type": "markdown",
      "metadata": {
        "id": "view-in-github",
        "colab_type": "text"
      },
      "source": [
        "<a href=\"https://colab.research.google.com/github/calixphd/Quantum-Simulation-Tutorials-and-Examples/blob/main/basic_simulation_of_ising_hamiltonian.ipynb\" target=\"_parent\"><img src=\"https://colab.research.google.com/assets/colab-badge.svg\" alt=\"Open In Colab\"/></a>"
      ]
    },
    {
      "cell_type": "code",
      "execution_count": null,
      "id": "a4df7925-0cb2-4942-a1b4-fff3f56be5e7",
      "metadata": {
        "id": "a4df7925-0cb2-4942-a1b4-fff3f56be5e7",
        "outputId": "c4f33aea-e3c6-4d6f-81da-ad9e192d53e5"
      },
      "outputs": [
        {
          "name": "stderr",
          "output_type": "stream",
          "text": [
            "<frozen importlib._bootstrap>:219: RuntimeWarning: scipy._lib.messagestream.MessageStream size changed, may indicate binary incompatibility. Expected 56 from C header, got 64 from PyObject\n"
          ]
        }
      ],
      "source": [
        "import numpy as np\n",
        "\n",
        "# Importing standard Qiskit libraries\n",
        "from qiskit import QuantumCircuit, transpile, Aer, IBMQ\n",
        "from qiskit.tools.jupyter import *\n",
        "from qiskit.visualization import *\n",
        "from ibm_quantum_widgets import *\n",
        "from qiskit.providers.aer import QasmSimulator\n",
        "import matplotlib.pyplot as plt\n",
        "\n",
        "# Loading your IBM Quantum account(s)\n",
        "provider = IBMQ.load_account()"
      ]
    },
    {
      "cell_type": "code",
      "execution_count": null,
      "id": "a05cdf2e-4a05-4074-b7d9-95bb852345dd",
      "metadata": {
        "id": "a05cdf2e-4a05-4074-b7d9-95bb852345dd"
      },
      "outputs": [],
      "source": [
        "# Let's import all functions\n",
        "import numpy as np\n",
        "import scipy as sp\n",
        "from qiskit import Aer\n",
        "from qiskit.opflow import PauliTrotterEvolution, StateFn, PauliExpectation\n",
        "from qiskit.opflow import CircuitSampler, PauliOp\n",
        "from qiskit.opflow import I, X, Y, Z, Zero, One, Plus, Minus\n",
        "from qiskit.circuit import Parameter"
      ]
    },
    {
      "cell_type": "code",
      "execution_count": null,
      "id": "76a85a21-afb2-4da3-a63c-11344703d543",
      "metadata": {
        "id": "76a85a21-afb2-4da3-a63c-11344703d543"
      },
      "outputs": [],
      "source": [
        "#We state the hamiltonian using simple notation:"
      ]
    },
    {
      "cell_type": "code",
      "execution_count": null,
      "id": "f7c4819c-4bf9-4fe1-b7ad-4f7348e20b0b",
      "metadata": {
        "id": "f7c4819c-4bf9-4fe1-b7ad-4f7348e20b0b"
      },
      "outputs": [],
      "source": [
        "hamiltonian = (Z^Z) + (X^I)\n",
        "observable = hamiltonian\n",
        "evo_time = Parameter('t')\n",
        "evolution_op = (evo_time*hamiltonian).exp_i()"
      ]
    },
    {
      "cell_type": "code",
      "execution_count": null,
      "id": "f33299ce-84c3-4922-9bcf-222b79064524",
      "metadata": {
        "id": "f33299ce-84c3-4922-9bcf-222b79064524",
        "outputId": "48b48878-09fb-41b7-e956-10bc54dcd484"
      },
      "outputs": [
        {
          "data": {
            "image/png": "[encoded data removed]",
            "text/plain": [
              "<Figure size 267.052x144.48 with 1 Axes>"
            ]
          },
          "execution_count": 5,
          "metadata": {},
          "output_type": "execute_result"
        }
      ],
      "source": [
        "# We now convert this evolution operator into a circuit using Trotter Expansion:\n",
        "num_time_slices = 1\n",
        "trotterized_op = PauliTrotterEvolution(\n",
        "                    trotter_mode='trotter', \n",
        "                    reps=num_time_slices).convert(evolution_op)\n",
        "trotterized_op.to_circuit().draw()"
      ]
    },
    {
      "cell_type": "code",
      "execution_count": null,
      "id": "af8b7295-db05-4a99-bc79-5341bcff061b",
      "metadata": {
        "id": "af8b7295-db05-4a99-bc79-5341bcff061b"
      },
      "outputs": [],
      "source": [
        "observable_measurement = StateFn(observable).adjoint()"
      ]
    },
    {
      "cell_type": "code",
      "execution_count": null,
      "id": "ac25acdf-631c-4e7a-a5d0-14627f34fefb",
      "metadata": {
        "id": "ac25acdf-631c-4e7a-a5d0-14627f34fefb",
        "outputId": "b13071b9-e66c-4970-ea47-128b79ae7112"
      },
      "outputs": [
        {
          "name": "stdout",
          "output_type": "stream",
          "text": [
            "CircuitStateFn(\n",
            "     ┌───────────────────────────────────────────┐\n",
            "q_0: ┤0                                          ├\n",
            "     │  State Preparation(-0.38268,0,0,-0.92388) │\n",
            "q_1: ┤1                                          ├\n",
            "     └───────────────────────────────────────────┘\n",
            ")\n"
          ]
        }
      ],
      "source": [
        "#we need an initial state that is an eigenvalue of the Hamiltonian\n",
        "eigenvalues, eigenstates = np.linalg.eigh(hamiltonian.to_matrix())\n",
        "initial_state = StateFn(eigenstates[0])\n",
        "print(initial_state.to_circuit_op())\n"
      ]
    },
    {
      "cell_type": "code",
      "execution_count": null,
      "id": "1092a0c5-8585-4390-a111-d7e59ce89802",
      "metadata": {
        "id": "1092a0c5-8585-4390-a111-d7e59ce89802",
        "outputId": "fc28dbbd-243f-4d41-ecd2-6265cc30755e"
      },
      "outputs": [
        {
          "name": "stdout",
          "output_type": "stream",
          "text": [
            "ComposedOp([\n",
            "  OperatorMeasurement(1.0 * ZZ\n",
            "  + 1.0 * XI),\n",
            "  e^(-i*1.0*t * (\n",
            "    1.0 * ZZ\n",
            "    + 1.0 * XI\n",
            "  )),\n",
            "  VectorStateFn(Statevector([-0.38268343+0.j, -0.        +0.j,  0.        +0.j,\n",
            "               -0.92387953+0.j],\n",
            "              dims=(2, 2)))\n",
            "])\n"
          ]
        }
      ],
      "source": [
        "# we now combine circuits using the operator flow according to the following equation:\n",
        "evo_and_measure = observable_measurement @ evolution_op @ initial_state\n",
        "print(evo_and_measure)"
      ]
    },
    {
      "cell_type": "code",
      "execution_count": null,
      "id": "8d61dd0d-375c-48c9-9681-4cb2647f4256",
      "metadata": {
        "id": "8d61dd0d-375c-48c9-9681-4cb2647f4256",
        "outputId": "5232f6c2-a9df-46ab-8557-dd07f768859c"
      },
      "outputs": [
        {
          "name": "stdout",
          "output_type": "stream",
          "text": [
            "ComposedOp([\n",
            "  OperatorMeasurement(1.0 * ZZ\n",
            "  + 1.0 * XI),\n",
            "       ┌────────────────────────────┐\n",
            "  q_0: ┤0                           ├\n",
            "       │  exp(-it (ZZ + XI))(1.0*t) │\n",
            "  q_1: ┤1                           ├\n",
            "       └────────────────────────────┘,\n",
            "  VectorStateFn(Statevector([-0.38268343+0.j, -0.        +0.j,  0.        +0.j,\n",
            "               -0.92387953+0.j],\n",
            "              dims=(2, 2)))\n",
            "])\n"
          ]
        }
      ],
      "source": [
        "# convert our hamiltonian using the PauliTrotter evolution:\n",
        "num_time_slices = 1\n",
        "trotterized_op = PauliTrotterEvolution(\n",
        "                    trotter_mode='trotter', \n",
        "                    reps=num_time_slices).convert(evo_and_measure)\n",
        "print(trotterized_op)"
      ]
    },
    {
      "cell_type": "code",
      "execution_count": null,
      "id": "1df3d5d0-5cf1-42c4-9cf2-b254f1bbee02",
      "metadata": {
        "id": "1df3d5d0-5cf1-42c4-9cf2-b254f1bbee02",
        "outputId": "54a2f8eb-063c-4de7-f1c9-30f7b8d9ee68"
      },
      "outputs": [
        {
          "name": "stdout",
          "output_type": "stream",
          "text": [
            "SummedOp([\n",
            "  ComposedOp([\n",
            "    OperatorMeasurement(1.0 * ZZ),\n",
            "         ┌────────────────────────────┐\n",
            "    q_0: ┤0                           ├\n",
            "         │  exp(-it (ZZ + XI))(1.0*t) │\n",
            "    q_1: ┤1                           ├\n",
            "         └────────────────────────────┘,\n",
            "    VectorStateFn(Statevector([-0.38268343+0.j, -0.        +0.j,  0.        +0.j,\n",
            "                 -0.92387953+0.j],\n",
            "                dims=(2, 2)))\n",
            "  ]),\n",
            "  ComposedOp([\n",
            "    OperatorMeasurement(1.0 * ZI),\n",
            "         ┌────────────────────────────┐     \n",
            "    q_0: ┤0                           ├─────\n",
            "         │  exp(-it (ZZ + XI))(1.0*t) │┌───┐\n",
            "    q_1: ┤1                           ├┤ H ├\n",
            "         └────────────────────────────┘└───┘,\n",
            "    VectorStateFn(Statevector([-0.38268343+0.j, -0.        +0.j,  0.        +0.j,\n",
            "                 -0.92387953+0.j],\n",
            "                dims=(2, 2)))\n",
            "  ])\n",
            "])\n"
          ]
        }
      ],
      "source": [
        "#Next step is to convert our circuit to suitable basis in order to measure \\\n",
        "#in a real quantum computer, this is done by using PauliExpectation().\n",
        "#it yields the expectation values as follows\n",
        "diagonalized_meas_op = PauliExpectation().convert(trotterized_op)\n",
        "print(diagonalized_meas_op)"
      ]
    },
    {
      "cell_type": "code",
      "execution_count": null,
      "id": "45243f43-128f-4aeb-96b6-ae49b959dfe8",
      "metadata": {
        "id": "45243f43-128f-4aeb-96b6-ae49b959dfe8",
        "outputId": "e32b1266-fecb-4c43-ceb1-89b62277f905"
      },
      "outputs": [
        {
          "name": "stdout",
          "output_type": "stream",
          "text": [
            "Observable at time [0.1, 0.2, 0.3, 0.4, 0.5, 0.6, 0.7, 0.8, 0.9, 0.95, 1.1]: [ 0.98 +0.j  0.921+0.j  0.825+0.j  0.697+0.j  0.54 +0.j  0.362+0.j\n",
            "  0.17 +0.j -0.029+0.j -0.227+0.j -0.323+0.j -0.589+0.j]\n"
          ]
        }
      ],
      "source": [
        "#let's run our hamiltonian simulation on an ideal quantum computer.\n",
        "evo_time_points = [0.1, 0.2, 0.3, 0.4, 0.5, 0.6, 0.7, 0.8, 0.9, 0.95, 1.1]\n",
        "hamiltonian_trotter_expectations = diagonalized_meas_op.bind_parameters({evo_time: evo_time_points})\n",
        "print(f\"Observable at time {evo_time_points}: {np.round(hamiltonian_trotter_expectations.eval(), 3)}\")"
      ]
    },
    {
      "cell_type": "code",
      "execution_count": null,
      "id": "2926e2dd-1e58-4ca5-8627-4ac36b063e7b",
      "metadata": {
        "id": "2926e2dd-1e58-4ca5-8627-4ac36b063e7b",
        "outputId": "25017fde-774a-4cc8-d1ae-e748a05d2758"
      },
      "outputs": [
        {
          "name": "stdout",
          "output_type": "stream",
          "text": [
            "Energies: [ 0.95   0.888  0.816  0.702  0.522  0.39   0.164 -0.132 -0.186 -0.294\n",
            " -0.62 ]\n"
          ]
        }
      ],
      "source": [
        "#the above is nothing but calculation of expectation values at two different time steps\n",
        "#we need to run several measurements on a quantum computer. this is called sampling\n",
        "#to do this we sould convert our operator flow program using CircuitSampler and choose a device to run it.\n",
        "sampler = CircuitSampler(backend=Aer.get_backend(\"qasm_simulator\"))\n",
        "sampler.quantum_instance.run_config.shots = 1000\n",
        "sampled_trotter_exp_op = sampler.convert(hamiltonian_trotter_expectations)\n",
        "sampled_trotter_energies = sampled_trotter_exp_op.eval()\n",
        "print(f\"Energies: {np.round(np.real(sampled_trotter_energies),3)}\")\n"
      ]
    },
    {
      "cell_type": "code",
      "execution_count": null,
      "id": "1d322eb4-79e3-4c22-a0aa-f913f2ec7e40",
      "metadata": {
        "id": "1d322eb4-79e3-4c22-a0aa-f913f2ec7e40"
      },
      "outputs": [],
      "source": [
        "y = np.round(np.real(sampled_trotter_energies),3)"
      ]
    },
    {
      "cell_type": "code",
      "execution_count": null,
      "id": "ccac896d-2645-4ffc-bee5-9f23f54aa2d9",
      "metadata": {
        "id": "ccac896d-2645-4ffc-bee5-9f23f54aa2d9"
      },
      "outputs": [],
      "source": [
        "#Run several measurements at different time to capture dynamics\n",
        "#this is where I run out of technical know how  and help is needed to make the computer run several measurements,\\\n",
        "#CREATE TABLES AND MAKE PLOTS\n"
      ]
    },
    {
      "cell_type": "code",
      "execution_count": null,
      "id": "c6616788-dbbc-4050-82f8-d86e3718563e",
      "metadata": {
        "id": "c6616788-dbbc-4050-82f8-d86e3718563e",
        "outputId": "53e24866-aea0-4bc8-f31a-70ed2120c145"
      },
      "outputs": [
        {
          "name": "stdout",
          "output_type": "stream",
          "text": [
            "Traceback \u001b[1;36m(most recent call last)\u001b[0m:\n",
            "  Input \u001b[0;32mIn [23]\u001b[0m in \u001b[0;35m<cell line: 1>\u001b[0m\n",
            "    plt.plot(evo_time_points, y, 'H', label=f\"t={0.5}\")\n",
            "  File \u001b[0;32m/opt/conda/lib/python3.8/site-packages/matplotlib/pyplot.py:2757\u001b[0m in \u001b[0;35mplot\u001b[0m\n",
            "    return gca().plot(\n",
            "  File \u001b[0;32m/opt/conda/lib/python3.8/site-packages/matplotlib/axes/_axes.py:1632\u001b[0m in \u001b[0;35mplot\u001b[0m\n",
            "    lines = [*self._get_lines(*args, data=data, **kwargs)]\n",
            "  File \u001b[0;32m/opt/conda/lib/python3.8/site-packages/matplotlib/axes/_base.py:312\u001b[0m in \u001b[0;35m__call__\u001b[0m\n",
            "    yield from self._plot_args(this, kwargs)\n",
            "\u001b[1;36m  File \u001b[1;32m/opt/conda/lib/python3.8/site-packages/matplotlib/axes/_base.py:498\u001b[1;36m in \u001b[1;35m_plot_args\u001b[1;36m\u001b[0m\n",
            "\u001b[1;33m    raise ValueError(f\"x and y must have same first dimension, but \"\u001b[0m\n",
            "\u001b[1;31mValueError\u001b[0m\u001b[1;31m:\u001b[0m x and y must have same first dimension, but have shapes (11,) and (1,)\n",
            "\n",
            "Use %tb to get the full traceback.\n"
          ]
        },
        {
          "data": {
            "text/html": [
              "\n",
              "<style>\n",
              ".button {\n",
              "  border: none;\n",
              "  color: white;\n",
              "  padding: 4px 8px;\n",
              "  text-align: center;\n",
              "  text-decoration: none;\n",
              "  display: inline-block;\n",
              "  font-size: 12px;\n",
              "  margin: 4px 2px;\n",
              "  transition-duration: 0.2s;\n",
              "  cursor: pointer;\n",
              "}\n",
              ".iqx-button {\n",
              "  background-color: #0f62fe; \n",
              "  color: white; \n",
              "}\n",
              ".iqx-button:hover {\n",
              "  background-color: #0043ce;\n",
              "  color: white;\n",
              "}\n",
              "</style>\n",
              "<a href=\"https://stackoverflow.com/search?q=ValueError: x and y must have same first dimension, but have shapes (11,) and (1,)\" target='_blank'><button class='button iqx-button'>Search for solution online</button></a>\n"
            ],
            "text/plain": [
              "<IPython.core.display.HTML object>"
            ]
          },
          "metadata": {},
          "output_type": "display_data"
        },
        {
          "data": {
            "image/png": "[encoded data removed]",
            "text/plain": [
              "<Figure size 432x288 with 1 Axes>"
            ]
          },
          "metadata": {
            "needs_background": "light"
          },
          "output_type": "display_data"
        }
      ],
      "source": [
        "plt.plot(evo_time_points, y, 'H', label=f\"t={0.5}\")\n",
        "#plt.hlines(y=0., xmin=min(n_shots), xmax=max(n_shots) + 1, colors='red')\n",
        "plt.xlabel(\"# shots\", size=16)\n",
        "plt.ylabel(r\"$ \\langle H \\rangle $\", size=16)\n",
        "plt.show()"
      ]
    },
    {
      "cell_type": "code",
      "execution_count": null,
      "id": "c6f52671-0da3-4fc1-8da7-60c78ce7251b",
      "metadata": {
        "id": "c6f52671-0da3-4fc1-8da7-60c78ce7251b"
      },
      "outputs": [],
      "source": []
    }
  ],
  "metadata": {
    "kernelspec": {
      "display_name": "Python 3 (ipykernel)",
      "language": "python",
      "name": "python3"
    },
    "language_info": {
      "codemirror_mode": {
        "name": "ipython",
        "version": 3
      },
      "file_extension": ".py",
      "mimetype": "text/x-python",
      "name": "python",
      "nbconvert_exporter": "python",
      "pygments_lexer": "ipython3",
      "version": "3.8.13"
    },
    "colab": {
      "provenance": [],
      "collapsed_sections": [],
      "include_colab_link": true
    }
  },
  "nbformat": 4,
  "nbformat_minor": 5
}