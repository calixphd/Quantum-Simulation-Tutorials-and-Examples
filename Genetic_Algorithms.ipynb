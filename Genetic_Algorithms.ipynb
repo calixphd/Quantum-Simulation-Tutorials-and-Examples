{
  "nbformat": 4,
  "nbformat_minor": 0,
  "metadata": {
    "colab": {
      "provenance": [],
      "include_colab_link": true
    },
    "kernelspec": {
      "name": "python3",
      "display_name": "Python 3"
    },
    "language_info": {
      "name": "python"
    }
  },
  "cells": [
    {
      "cell_type": "markdown",
      "metadata": {
        "id": "view-in-github",
        "colab_type": "text"
      },
      "source": [
        "<a href=\"https://colab.research.google.com/github/calixphd/Quantum-Simulation-Tutorials-and-Examples/blob/main/Genetic_Algorithms.ipynb\" target=\"_parent\"><img src=\"https://colab.research.google.com/assets/colab-badge.svg\" alt=\"Open In Colab\"/></a>"
      ]
    },
    {
      "cell_type": "markdown",
      "metadata": {
        "id": "zfA7vABEdwVs"
      },
      "source": [
        "# Genetic algorithms & Combinatorial Optimization"
      ]
    },
    {
      "cell_type": "markdown",
      "metadata": {
        "id": "l_0w2n7JdzVo"
      },
      "source": [
        "# Product class"
      ]
    },
    {
      "cell_type": "code",
      "metadata": {
        "id": "SUGxd6R7Ssb3"
      },
      "source": [
        "class Product():\n",
        "  def __init__(self, name, space, price):\n",
        "    self.name = name\n",
        "    self.space = space\n",
        "    self.price = price"
      ],
      "execution_count": null,
      "outputs": []
    },
    {
      "cell_type": "code",
      "metadata": {
        "id": "Tp9-fMhYTm8w"
      },
      "source": [
        "p1 = Product('Refrigerator A', 0.751, 999.9)"
      ],
      "execution_count": null,
      "outputs": []
    },
    {
      "cell_type": "code",
      "metadata": {
        "colab": {
          "base_uri": "https://localhost:8080/"
        },
        "id": "2iQUNo1FUUFY",
        "outputId": "bc67ee60-5314-474f-d97c-f708a6f7d5ce"
      },
      "source": [
        "p1.name, p1.space, p1.price"
      ],
      "execution_count": null,
      "outputs": [
        {
          "output_type": "execute_result",
          "data": {
            "text/plain": [
              "('Refrigerator A', 0.751, 999.9)"
            ]
          },
          "metadata": {},
          "execution_count": 3
        }
      ]
    },
    {
      "cell_type": "code",
      "metadata": {
        "id": "zPd3bhTSUpYb"
      },
      "source": [
        "p2 = Product('Cell phone', 0.00000899, 2199.12)"
      ],
      "execution_count": null,
      "outputs": []
    },
    {
      "cell_type": "code",
      "metadata": {
        "colab": {
          "base_uri": "https://localhost:8080/"
        },
        "id": "kpnAjmfPU4rl",
        "outputId": "14825d9d-d9a5-4c07-fb95-6ad3f99407cf"
      },
      "source": [
        "p2.name, p2.space, p2.price"
      ],
      "execution_count": null,
      "outputs": [
        {
          "output_type": "execute_result",
          "data": {
            "text/plain": [
              "('Cell phone', 8.99e-06, 2199.12)"
            ]
          },
          "metadata": {},
          "execution_count": 5
        }
      ]
    },
    {
      "cell_type": "code",
      "metadata": {
        "id": "bDqNX7pUVJab"
      },
      "source": [
        "products_list = []\n",
        "products_list.append(Product('Refrigerator A', 0.751, 999.90))\n",
        "products_list.append(Product('Cell phone', 0.00000899, 2199.12))\n",
        "products_list.append(Product('TV 55', 0.400, 4346.99))\n",
        "products_list.append(Product(\"TV 50' \", 0.290, 3999.90))\n",
        "products_list.append(Product(\"TV 42' \", 0.200, 2999.00))\n",
        "products_list.append(Product(\"Notebook A\", 0.00350, 2499.90))\n",
        "products_list.append(Product(\"Ventilator\", 0.496, 199.90))\n",
        "products_list.append(Product(\"Microwave A\", 0.0424, 308.66))\n",
        "products_list.append(Product(\"Microwave B\", 0.0544, 429.90))\n",
        "products_list.append(Product(\"Microwave C\", 0.0319, 299.29))\n",
        "products_list.append(Product(\"Refrigerator B\", 0.635, 849.00))\n",
        "products_list.append(Product(\"Refrigerator C\", 0.870, 1199.89))\n",
        "products_list.append(Product(\"Notebook B\", 0.498, 1999.90))\n",
        "products_list.append(Product(\"Notebook C\", 0.527, 3999.00)) "
      ],
      "execution_count": null,
      "outputs": []
    },
    {
      "cell_type": "code",
      "metadata": {
        "colab": {
          "base_uri": "https://localhost:8080/"
        },
        "id": "4SWtAMcpVs55",
        "outputId": "934985c5-6476-40f6-f7e2-7c99d347a5e0"
      },
      "source": [
        "for product in products_list:\n",
        "  print(product.name, ' - ', product.price, ' - ', product.space)"
      ],
      "execution_count": null,
      "outputs": [
        {
          "output_type": "stream",
          "name": "stdout",
          "text": [
            "Refrigerator A  -  999.9  -  0.751\n",
            "Cell phone  -  2199.12  -  8.99e-06\n",
            "TV 55  -  4346.99  -  0.4\n",
            "TV 50'   -  3999.9  -  0.29\n",
            "TV 42'   -  2999.0  -  0.2\n",
            "Notebook A  -  2499.9  -  0.0035\n",
            "Ventilator  -  199.9  -  0.496\n",
            "Microwave A  -  308.66  -  0.0424\n",
            "Microwave B  -  429.9  -  0.0544\n",
            "Microwave C  -  299.29  -  0.0319\n",
            "Refrigerator B  -  849.0  -  0.635\n",
            "Refrigerator C  -  1199.89  -  0.87\n",
            "Notebook B  -  1999.9  -  0.498\n",
            "Notebook C  -  3999.0  -  0.527\n"
          ]
        }
      ]
    },
    {
      "cell_type": "markdown",
      "metadata": {
        "id": "BB7Y3hTzhP5t"
      },
      "source": [
        "# Individual class"
      ]
    },
    {
      "cell_type": "code",
      "metadata": {
        "id": "h3ZS8c4ckPpe"
      },
      "source": [
        "from random import random"
      ],
      "execution_count": null,
      "outputs": []
    },
    {
      "cell_type": "code",
      "metadata": {
        "colab": {
          "base_uri": "https://localhost:8080/"
        },
        "id": "PNoFhToEkSSy",
        "outputId": "48d7b526-6f50-49c5-b705-e68e8ec55c51"
      },
      "source": [
        "random()"
      ],
      "execution_count": null,
      "outputs": [
        {
          "output_type": "execute_result",
          "data": {
            "text/plain": [
              "0.8719626427907401"
            ]
          },
          "metadata": {},
          "execution_count": 9
        }
      ]
    },
    {
      "cell_type": "code",
      "metadata": {
        "id": "kdwdPe27kJh3"
      },
      "source": [
        "class Individual():\n",
        "  def __init__(self, spaces, prices, space_limit, generation=0):\n",
        "    self.spaces = spaces\n",
        "    self.prices = prices\n",
        "    self.space_limit = space_limit\n",
        "    self.score_evaluation = 0\n",
        "    self.used_space = 0\n",
        "    self.generation = generation\n",
        "    self.chromosome = []\n",
        "\n",
        "    for i in range(len(spaces)):\n",
        "      if random() < 0.5:\n",
        "        self.chromosome.append('0')\n",
        "      else:\n",
        "        self.chromosome.append('1')\n",
        "\n",
        "  def fitness(self):\n",
        "    score = 0\n",
        "    sum_spaces = 0\n",
        "    for i in range(len(self.chromosome)):\n",
        "      if self.chromosome[i] == '1':\n",
        "        score += self.prices[i]\n",
        "        sum_spaces += self.spaces[i]\n",
        "    if sum_spaces > self.space_limit:\n",
        "      score = 1\n",
        "    self.score_evaluation = score\n",
        "    self.used_space = sum_spaces\n",
        "\n",
        "  def crossover(self, other_individual):\n",
        "    cutoff = round(random() * len(self.chromosome))\n",
        "    #print(cutoff)\n",
        "\n",
        "    child1 = other_individual.chromosome[0:cutoff] + self.chromosome[cutoff::]\n",
        "    child2 = self.chromosome[0:cutoff] + other_individual.chromosome[cutoff::]\n",
        "    #print(child1)\n",
        "    #print(child2)\n",
        "    children = [Individual(self.spaces, self.prices, self.space_limit, self.generation + 1),\n",
        "                Individual(self.spaces, self.prices, self.space_limit, self.generation + 1)]\n",
        "    children[0].chromosome = child1\n",
        "    children[1].chromosome = child2\n",
        "    return children\n",
        "\n",
        "  def mutation(self, rate):\n",
        "    #print('Before:', self.chromosome)\n",
        "    for i in range(len(self.chromosome)):\n",
        "      if random() < rate:\n",
        "        if self.chromosome[i] == '1':\n",
        "          self.chromosome[i] = '0'\n",
        "        else:\n",
        "          self.chromosome[i] = '1'\n",
        "    #print('After: ', self.chromosome)\n",
        "    return self"
      ],
      "execution_count": null,
      "outputs": []
    },
    {
      "cell_type": "code",
      "metadata": {
        "id": "Ah1BqM1kjpDX",
        "colab": {
          "base_uri": "https://localhost:8080/"
        },
        "outputId": "b519dd22-a22e-4fba-dc93-4f5e7449b67b"
      },
      "source": [
        "0.01"
      ],
      "execution_count": null,
      "outputs": [
        {
          "output_type": "execute_result",
          "data": {
            "text/plain": [
              "0.01"
            ]
          },
          "metadata": {},
          "execution_count": 11
        }
      ]
    },
    {
      "cell_type": "code",
      "metadata": {
        "colab": {
          "base_uri": "https://localhost:8080/"
        },
        "id": "Z8bIsum_jqcU",
        "outputId": "3a7054b3-2fc5-441f-d51e-988f0d2a8235"
      },
      "source": [
        "random()"
      ],
      "execution_count": null,
      "outputs": [
        {
          "output_type": "execute_result",
          "data": {
            "text/plain": [
              "0.21006479225262975"
            ]
          },
          "metadata": {},
          "execution_count": 12
        }
      ]
    },
    {
      "cell_type": "markdown",
      "metadata": {
        "id": "JNMT0eTHmUR4"
      },
      "source": [
        "# Genectic Algorithm class"
      ]
    },
    {
      "cell_type": "code",
      "metadata": {
        "id": "h0qDsZwmndl2"
      },
      "source": [
        "class GeneticAlgorithm():\n",
        "  def __init__(self, population_size):\n",
        "    self.population_size = population_size\n",
        "    self.population = []\n",
        "    self.generation = 0\n",
        "    self.best_solution = None\n",
        "    self.list_of_solutions = []\n",
        "\n",
        "  def initialize_population(self, spaces, prices, space_limit):\n",
        "    for i in range(self.population_size):\n",
        "      self.population.append(Individual(spaces, prices, space_limit))\n",
        "    self.best_solution = self.population[0]\n",
        "\n",
        "  def order_population(self):\n",
        "    self.population = sorted(self.population, key=lambda population: population.score_evaluation, reverse=True)\n",
        "\n",
        "  def best_individual(self, individual):\n",
        "    if individual.score_evaluation > self.best_solution.score_evaluation:\n",
        "      self.best_solution = individual\n",
        "\n",
        "  def sum_evaluations(self):\n",
        "    sum = 0\n",
        "    for individual in self.population:\n",
        "      sum += individual.score_evaluation\n",
        "    return sum\n",
        "\n",
        "  def select_parent(self, sum_evaluation):\n",
        "    parent = -1\n",
        "    random_value = random() * sum_evaluation\n",
        "    sum = 0\n",
        "    i = 0\n",
        "    #print('*** random value:', random_value)\n",
        "    while i < len(self.population) and sum < random_value:\n",
        "      #print('i:', i, ' - sum: ', sum)\n",
        "      sum += self.population[i].score_evaluation\n",
        "      parent += 1\n",
        "      i += 1\n",
        "    return parent\n",
        "\n",
        "  def visualize_generation(self):\n",
        "    best = self.population[0]\n",
        "    print('Generation: ', self.population[0].generation,\n",
        "          'Total price: ', best.score_evaluation, 'Space: ', best.used_space,\n",
        "          'Chromosome: ', best.chromosome)\n",
        "    \n",
        "  def solve(self, mutation_probability, number_of_generations, spaces, prices, limit):\n",
        "    self.initialize_population(spaces, prices, limit)\n",
        "    \n",
        "    for individual in self.population:\n",
        "      individual.fitness()\n",
        "    self.order_population()\n",
        "    self.best_solution = self.population[0]\n",
        "    self.list_of_solutions.append(self.best_solution.score_evaluation)\n",
        "\n",
        "    self.visualize_generation()\n",
        "    \n",
        "    for generation in range(number_of_generations):\n",
        "      sum = self.sum_evaluations()\n",
        "      new_population = []\n",
        "      for new_individuals in range(0, self.population_size, 2):\n",
        "        parent1 = self.select_parent(sum)\n",
        "        parent2 = self.select_parent(sum)\n",
        "        children = self.population[parent1].crossover(self.population[parent2])\n",
        "        new_population.append(children[0].mutation(mutation_probability))\n",
        "        new_population.append(children[1].mutation(mutation_probability))\n",
        "      \n",
        "      self.population = list(new_population)\n",
        "\n",
        "      for individual in self.population:\n",
        "        individual.fitness()\n",
        "      self.visualize_generation()\n",
        "      best = self.population[0]\n",
        "      self.list_of_solutions.append(best.score_evaluation)\n",
        "      self.best_individual(best)\n",
        "\n",
        "    print('**** Best solution - Generation: ', self.best_solution.generation,\n",
        "          'Total price: ', self.best_solution.score_evaluation, 'Space: ', self.best_solution.used_space,\n",
        "          'Chromosome: ', self.best_solution.chromosome)\n",
        "    \n",
        "    return self.best_solution.chromosome"
      ],
      "execution_count": null,
      "outputs": []
    },
    {
      "cell_type": "markdown",
      "metadata": {
        "id": "KpUVlN_d-yQ9"
      },
      "source": [
        "# Testing the code"
      ]
    },
    {
      "cell_type": "code",
      "metadata": {
        "colab": {
          "base_uri": "https://localhost:8080/"
        },
        "id": "JijkmDD4zPB-",
        "outputId": "3cdd3a60-6bfc-47ba-8e4b-b73d884d7d9a"
      },
      "source": [
        "round(random() * 14)"
      ],
      "execution_count": null,
      "outputs": [
        {
          "output_type": "execute_result",
          "data": {
            "text/plain": [
              "11"
            ]
          },
          "metadata": {},
          "execution_count": 14
        }
      ]
    },
    {
      "cell_type": "code",
      "metadata": {
        "id": "WpckOiNXkz8_"
      },
      "source": [
        "spaces = []\n",
        "prices = []\n",
        "names = []\n",
        "for product in products_list:\n",
        "  spaces.append(product.space)\n",
        "  prices.append(product.price)\n",
        "  names.append(product.name)\n",
        "limit = 3"
      ],
      "execution_count": null,
      "outputs": []
    },
    {
      "cell_type": "code",
      "metadata": {
        "colab": {
          "base_uri": "https://localhost:8080/"
        },
        "id": "y1e-9oXZlPlu",
        "outputId": "e1e919cd-912b-45a0-e82a-724f63927c50"
      },
      "source": [
        "print(spaces)"
      ],
      "execution_count": null,
      "outputs": [
        {
          "output_type": "stream",
          "name": "stdout",
          "text": [
            "[0.751, 8.99e-06, 0.4, 0.29, 0.2, 0.0035, 0.496, 0.0424, 0.0544, 0.0319, 0.635, 0.87, 0.498, 0.527]\n"
          ]
        }
      ]
    },
    {
      "cell_type": "code",
      "metadata": {
        "colab": {
          "base_uri": "https://localhost:8080/"
        },
        "id": "W0itRVv0lSJA",
        "outputId": "2ecfb830-e452-4349-a7ae-674d6b86e9fb"
      },
      "source": [
        "print(prices)"
      ],
      "execution_count": null,
      "outputs": [
        {
          "output_type": "stream",
          "name": "stdout",
          "text": [
            "[999.9, 2199.12, 4346.99, 3999.9, 2999.0, 2499.9, 199.9, 308.66, 429.9, 299.29, 849.0, 1199.89, 1999.9, 3999.0]\n"
          ]
        }
      ]
    },
    {
      "cell_type": "code",
      "metadata": {
        "colab": {
          "base_uri": "https://localhost:8080/"
        },
        "id": "uNp1OF89lUra",
        "outputId": "66c1a5b7-9a3c-45fa-e9c0-a7c90beda1ea"
      },
      "source": [
        "print(names)"
      ],
      "execution_count": null,
      "outputs": [
        {
          "output_type": "stream",
          "name": "stdout",
          "text": [
            "['Refrigerator A', 'Cell phone', 'TV 55', \"TV 50' \", \"TV 42' \", 'Notebook A', 'Ventilator', 'Microwave A', 'Microwave B', 'Microwave C', 'Refrigerator B', 'Refrigerator C', 'Notebook B', 'Notebook C']\n"
          ]
        }
      ]
    },
    {
      "cell_type": "code",
      "metadata": {
        "colab": {
          "base_uri": "https://localhost:8080/"
        },
        "id": "Znw146uIl9AG",
        "outputId": "5149aafc-cdbd-4bc8-d1a3-8a42d0572eb5"
      },
      "source": [
        "len(spaces)"
      ],
      "execution_count": null,
      "outputs": [
        {
          "output_type": "execute_result",
          "data": {
            "text/plain": [
              "14"
            ]
          },
          "metadata": {},
          "execution_count": 19
        }
      ]
    },
    {
      "cell_type": "code",
      "metadata": {
        "colab": {
          "base_uri": "https://localhost:8080/"
        },
        "id": "ftK2kcbblY7P",
        "outputId": "eee72b42-4c34-4df6-babc-e678c65f3fd2"
      },
      "source": [
        "names[5], prices[5], spaces[5]"
      ],
      "execution_count": null,
      "outputs": [
        {
          "output_type": "execute_result",
          "data": {
            "text/plain": [
              "('Notebook A', 2499.9, 0.0035)"
            ]
          },
          "metadata": {},
          "execution_count": 20
        }
      ]
    },
    {
      "cell_type": "code",
      "metadata": {
        "colab": {
          "base_uri": "https://localhost:8080/"
        },
        "id": "qnN6TbEnlmOL",
        "outputId": "6f274844-5aad-49ef-cef6-7176d263fd7f"
      },
      "source": [
        "individual1 = Individual(spaces, prices, limit)\n",
        "#print('Spaces: ', individual1.spaces)\n",
        "#print('Prices: ', individual1.prices)\n",
        "#print('Chromosome: ', individual1.chromosome)\n",
        "for i in range(len(products_list)):\n",
        "  #print(individual1.chromosome[i])\n",
        "  if individual1.chromosome[i] == '1':\n",
        "    print('Name: ', products_list[i].name)\n",
        "individual1.fitness()\n",
        "print('Score: ', individual1.score_evaluation)\n",
        "print('Used space: ', individual1.used_space)\n",
        "print('Chromosome: ', individual1.chromosome)"
      ],
      "execution_count": null,
      "outputs": [
        {
          "output_type": "stream",
          "name": "stdout",
          "text": [
            "Name:  Refrigerator A\n",
            "Name:  TV 50' \n",
            "Name:  TV 42' \n",
            "Name:  Notebook A\n",
            "Name:  Ventilator\n",
            "Name:  Microwave A\n",
            "Name:  Microwave C\n",
            "Name:  Refrigerator B\n",
            "Name:  Notebook B\n",
            "Name:  Notebook C\n",
            "Score:  1\n",
            "Used space:  3.4748\n",
            "Chromosome:  ['1', '0', '0', '1', '1', '1', '1', '1', '0', '1', '1', '0', '1', '1']\n"
          ]
        }
      ]
    },
    {
      "cell_type": "code",
      "metadata": {
        "colab": {
          "base_uri": "https://localhost:8080/"
        },
        "id": "ojYGN8T8yD-b",
        "outputId": "5fc830ff-d23f-41ea-ff9b-070b148ed9b0"
      },
      "source": [
        "individual2 = Individual(spaces, prices, limit)\n",
        "#print('Spaces: ', individual1.spaces)\n",
        "#print('Prices: ', individual1.prices)\n",
        "#print('Chromosome: ', individual1.chromosome)\n",
        "for i in range(len(products_list)):\n",
        "  #print(individual1.chromosome[i])\n",
        "  if individual2.chromosome[i] == '1':\n",
        "    print('Name: ', products_list[i].name)\n",
        "individual2.fitness()\n",
        "print('Score: ', individual2.score_evaluation)\n",
        "print('Used space: ', individual2.used_space)\n",
        "print('Chromosome: ', individual2.chromosome)"
      ],
      "execution_count": null,
      "outputs": [
        {
          "output_type": "stream",
          "name": "stdout",
          "text": [
            "Name:  Cell phone\n",
            "Name:  TV 55\n",
            "Name:  Notebook A\n",
            "Name:  Microwave A\n",
            "Name:  Microwave B\n",
            "Name:  Refrigerator B\n",
            "Name:  Refrigerator C\n",
            "Name:  Notebook C\n",
            "Score:  15832.46\n",
            "Used space:  2.53230899\n",
            "Chromosome:  ['0', '1', '1', '0', '0', '1', '0', '1', '1', '0', '1', '1', '0', '1']\n"
          ]
        }
      ]
    },
    {
      "cell_type": "code",
      "metadata": {
        "id": "qHs0k3vX1d2Q"
      },
      "source": [
        "children = individual1.crossover(individual2)"
      ],
      "execution_count": null,
      "outputs": []
    },
    {
      "cell_type": "code",
      "metadata": {
        "colab": {
          "base_uri": "https://localhost:8080/"
        },
        "id": "C8hQja0G3Tzx",
        "outputId": "7bef9544-aae2-4f89-b412-059a42f2e70f"
      },
      "source": [
        "children[0].fitness()\n",
        "print(children[0].score_evaluation)\n",
        "print(children[0].chromosome)"
      ],
      "execution_count": null,
      "outputs": [
        {
          "output_type": "stream",
          "name": "stdout",
          "text": [
            "16501.86\n",
            "['0', '1', '1', '0', '0', '1', '0', '1', '0', '1', '1', '0', '1', '1']\n"
          ]
        }
      ]
    },
    {
      "cell_type": "code",
      "metadata": {
        "id": "lAqv9tW14X0f",
        "colab": {
          "base_uri": "https://localhost:8080/"
        },
        "outputId": "81dbeb5a-2572-4a92-a5c5-6b0de84d9e4d"
      },
      "source": [
        "children[1].fitness()\n",
        "print(children[1].score_evaluation)\n",
        "print(children[1].chromosome)"
      ],
      "execution_count": null,
      "outputs": [
        {
          "output_type": "stream",
          "name": "stdout",
          "text": [
            "1\n",
            "['1', '0', '0', '1', '1', '1', '1', '1', '1', '0', '1', '1', '0', '1']\n"
          ]
        }
      ]
    },
    {
      "cell_type": "code",
      "metadata": {
        "colab": {
          "base_uri": "https://localhost:8080/"
        },
        "id": "P-6qmK2VkfXz",
        "outputId": "8d2b0846-0d57-4f84-dcf2-1bb45b5cfd73"
      },
      "source": [
        "individual1.mutation(0.01)"
      ],
      "execution_count": null,
      "outputs": [
        {
          "output_type": "stream",
          "name": "stdout",
          "text": [
            "Before: ['1', '0', '0', '1', '1', '1', '1', '1', '0', '1', '1', '0', '1', '1']\n",
            "After:  ['1', '0', '0', '1', '1', '1', '1', '1', '0', '1', '1', '0', '1', '1']\n"
          ]
        },
        {
          "output_type": "execute_result",
          "data": {
            "text/plain": [
              "<__main__.Individual at 0x7f1a10949610>"
            ]
          },
          "metadata": {},
          "execution_count": 26
        }
      ]
    },
    {
      "cell_type": "code",
      "metadata": {
        "id": "goKw19i4pF5f"
      },
      "source": [
        "population_size = 20\n",
        "ga = GeneticAlgorithm(population_size)\n",
        "ga.initialize_population(spaces, prices, limit)"
      ],
      "execution_count": null,
      "outputs": []
    },
    {
      "cell_type": "code",
      "metadata": {
        "colab": {
          "base_uri": "https://localhost:8080/"
        },
        "id": "pC-YNvEUpaUb",
        "outputId": "c6fb4d94-e55a-483e-bf08-4754cc95843d"
      },
      "source": [
        "len(ga.population)"
      ],
      "execution_count": null,
      "outputs": [
        {
          "output_type": "execute_result",
          "data": {
            "text/plain": [
              "20"
            ]
          },
          "metadata": {},
          "execution_count": 98
        }
      ]
    },
    {
      "cell_type": "code",
      "metadata": {
        "colab": {
          "base_uri": "https://localhost:8080/"
        },
        "id": "EZc7-Eyipj2e",
        "outputId": "7a571581-3e0b-404d-a045-fddc09186f3b"
      },
      "source": [
        "ga.population[0].chromosome"
      ],
      "execution_count": null,
      "outputs": [
        {
          "output_type": "execute_result",
          "data": {
            "text/plain": [
              "['1', '1', '1', '1', '1', '0', '0', '0', '1', '0', '0', '1', '0', '1']"
            ]
          },
          "metadata": {},
          "execution_count": 99
        }
      ]
    },
    {
      "cell_type": "code",
      "metadata": {
        "id": "g2NdJHuJpru_",
        "colab": {
          "base_uri": "https://localhost:8080/"
        },
        "outputId": "c7210f76-5125-4aa4-ed52-cb63e7fa10ba"
      },
      "source": [
        "ga.population[1].chromosome"
      ],
      "execution_count": null,
      "outputs": [
        {
          "output_type": "execute_result",
          "data": {
            "text/plain": [
              "['0', '0', '1', '1', '0', '1', '1', '1', '0', '0', '1', '0', '1', '1']"
            ]
          },
          "metadata": {},
          "execution_count": 112
        }
      ]
    },
    {
      "cell_type": "code",
      "metadata": {
        "colab": {
          "base_uri": "https://localhost:8080/"
        },
        "id": "uMBl-vn_MLQx",
        "outputId": "4efdfb5e-e042-4d69-c645-26d1bc57572e"
      },
      "source": [
        "for individual in ga.population:\n",
        "  individual.fitness()\n",
        "ga.order_population()\n",
        "for i in range(ga.population_size):\n",
        "  print('Individual: ', i, '\\nSpaces: ', ga.population[i].spaces, '\\nPrices: ', ga.population[i].prices,\n",
        "        '\\nChromosome: ', ga.population[i].chromosome, '\\nScore: ', ga.population[i].score_evaluation, '\\n')"
      ],
      "execution_count": null,
      "outputs": [
        {
          "output_type": "stream",
          "name": "stdout",
          "text": [
            "Individual:  0 \n",
            "Spaces:  [0.751, 8.99e-06, 0.4, 0.29, 0.2, 0.0035, 0.496, 0.0424, 0.0544, 0.0319, 0.635, 0.87, 0.498, 0.527] \n",
            "Prices:  [999.9, 2199.12, 4346.99, 3999.9, 2999.0, 2499.9, 199.9, 308.66, 429.9, 299.29, 849.0, 1199.89, 1999.9, 3999.0] \n",
            "Chromosome:  ['1', '0', '1', '1', '0', '1', '0', '1', '0', '1', '0', '0', '1', '1'] \n",
            "Score:  18453.54 \n",
            "\n",
            "Individual:  1 \n",
            "Spaces:  [0.751, 8.99e-06, 0.4, 0.29, 0.2, 0.0035, 0.496, 0.0424, 0.0544, 0.0319, 0.635, 0.87, 0.498, 0.527] \n",
            "Prices:  [999.9, 2199.12, 4346.99, 3999.9, 2999.0, 2499.9, 199.9, 308.66, 429.9, 299.29, 849.0, 1199.89, 1999.9, 3999.0] \n",
            "Chromosome:  ['0', '0', '1', '1', '0', '1', '1', '1', '0', '0', '1', '0', '1', '1'] \n",
            "Score:  18203.25 \n",
            "\n",
            "Individual:  2 \n",
            "Spaces:  [0.751, 8.99e-06, 0.4, 0.29, 0.2, 0.0035, 0.496, 0.0424, 0.0544, 0.0319, 0.635, 0.87, 0.498, 0.527] \n",
            "Prices:  [999.9, 2199.12, 4346.99, 3999.9, 2999.0, 2499.9, 199.9, 308.66, 429.9, 299.29, 849.0, 1199.89, 1999.9, 3999.0] \n",
            "Chromosome:  ['1', '0', '1', '1', '0', '1', '0', '1', '0', '1', '1', '0', '1', '0'] \n",
            "Score:  15303.539999999999 \n",
            "\n",
            "Individual:  3 \n",
            "Spaces:  [0.751, 8.99e-06, 0.4, 0.29, 0.2, 0.0035, 0.496, 0.0424, 0.0544, 0.0319, 0.635, 0.87, 0.498, 0.527] \n",
            "Prices:  [999.9, 2199.12, 4346.99, 3999.9, 2999.0, 2499.9, 199.9, 308.66, 429.9, 299.29, 849.0, 1199.89, 1999.9, 3999.0] \n",
            "Chromosome:  ['1', '0', '1', '0', '1', '0', '1', '0', '1', '1', '0', '0', '1', '1'] \n",
            "Score:  15273.88 \n",
            "\n",
            "Individual:  4 \n",
            "Spaces:  [0.751, 8.99e-06, 0.4, 0.29, 0.2, 0.0035, 0.496, 0.0424, 0.0544, 0.0319, 0.635, 0.87, 0.498, 0.527] \n",
            "Prices:  [999.9, 2199.12, 4346.99, 3999.9, 2999.0, 2499.9, 199.9, 308.66, 429.9, 299.29, 849.0, 1199.89, 1999.9, 3999.0] \n",
            "Chromosome:  ['1', '1', '0', '1', '0', '1', '0', '0', '0', '1', '1', '0', '0', '1'] \n",
            "Score:  14846.11 \n",
            "\n",
            "Individual:  5 \n",
            "Spaces:  [0.751, 8.99e-06, 0.4, 0.29, 0.2, 0.0035, 0.496, 0.0424, 0.0544, 0.0319, 0.635, 0.87, 0.498, 0.527] \n",
            "Prices:  [999.9, 2199.12, 4346.99, 3999.9, 2999.0, 2499.9, 199.9, 308.66, 429.9, 299.29, 849.0, 1199.89, 1999.9, 3999.0] \n",
            "Chromosome:  ['0', '0', '1', '0', '1', '1', '1', '1', '1', '1', '1', '0', '1', '0'] \n",
            "Score:  13932.539999999999 \n",
            "\n",
            "Individual:  6 \n",
            "Spaces:  [0.751, 8.99e-06, 0.4, 0.29, 0.2, 0.0035, 0.496, 0.0424, 0.0544, 0.0319, 0.635, 0.87, 0.498, 0.527] \n",
            "Prices:  [999.9, 2199.12, 4346.99, 3999.9, 2999.0, 2499.9, 199.9, 308.66, 429.9, 299.29, 849.0, 1199.89, 1999.9, 3999.0] \n",
            "Chromosome:  ['0', '0', '0', '1', '1', '1', '0', '1', '0', '0', '0', '1', '1', '0'] \n",
            "Score:  13007.249999999998 \n",
            "\n",
            "Individual:  7 \n",
            "Spaces:  [0.751, 8.99e-06, 0.4, 0.29, 0.2, 0.0035, 0.496, 0.0424, 0.0544, 0.0319, 0.635, 0.87, 0.498, 0.527] \n",
            "Prices:  [999.9, 2199.12, 4346.99, 3999.9, 2999.0, 2499.9, 199.9, 308.66, 429.9, 299.29, 849.0, 1199.89, 1999.9, 3999.0] \n",
            "Chromosome:  ['0', '1', '0', '0', '1', '0', '1', '0', '0', '1', '1', '0', '1', '1'] \n",
            "Score:  12545.21 \n",
            "\n",
            "Individual:  8 \n",
            "Spaces:  [0.751, 8.99e-06, 0.4, 0.29, 0.2, 0.0035, 0.496, 0.0424, 0.0544, 0.0319, 0.635, 0.87, 0.498, 0.527] \n",
            "Prices:  [999.9, 2199.12, 4346.99, 3999.9, 2999.0, 2499.9, 199.9, 308.66, 429.9, 299.29, 849.0, 1199.89, 1999.9, 3999.0] \n",
            "Chromosome:  ['1', '0', '0', '1', '0', '0', '0', '1', '0', '1', '1', '0', '1', '1'] \n",
            "Score:  12455.65 \n",
            "\n",
            "Individual:  9 \n",
            "Spaces:  [0.751, 8.99e-06, 0.4, 0.29, 0.2, 0.0035, 0.496, 0.0424, 0.0544, 0.0319, 0.635, 0.87, 0.498, 0.527] \n",
            "Prices:  [999.9, 2199.12, 4346.99, 3999.9, 2999.0, 2499.9, 199.9, 308.66, 429.9, 299.29, 849.0, 1199.89, 1999.9, 3999.0] \n",
            "Chromosome:  ['1', '1', '0', '0', '0', '1', '1', '1', '1', '1', '1', '0', '0', '1'] \n",
            "Score:  11784.669999999998 \n",
            "\n",
            "Individual:  10 \n",
            "Spaces:  [0.751, 8.99e-06, 0.4, 0.29, 0.2, 0.0035, 0.496, 0.0424, 0.0544, 0.0319, 0.635, 0.87, 0.498, 0.527] \n",
            "Prices:  [999.9, 2199.12, 4346.99, 3999.9, 2999.0, 2499.9, 199.9, 308.66, 429.9, 299.29, 849.0, 1199.89, 1999.9, 3999.0] \n",
            "Chromosome:  ['1', '0', '1', '0', '1', '0', '0', '1', '1', '1', '0', '1', '0', '0'] \n",
            "Score:  10583.63 \n",
            "\n",
            "Individual:  11 \n",
            "Spaces:  [0.751, 8.99e-06, 0.4, 0.29, 0.2, 0.0035, 0.496, 0.0424, 0.0544, 0.0319, 0.635, 0.87, 0.498, 0.527] \n",
            "Prices:  [999.9, 2199.12, 4346.99, 3999.9, 2999.0, 2499.9, 199.9, 308.66, 429.9, 299.29, 849.0, 1199.89, 1999.9, 3999.0] \n",
            "Chromosome:  ['0', '0', '0', '0', '1', '1', '1', '1', '1', '0', '0', '0', '0', '1'] \n",
            "Score:  10436.359999999999 \n",
            "\n",
            "Individual:  12 \n",
            "Spaces:  [0.751, 8.99e-06, 0.4, 0.29, 0.2, 0.0035, 0.496, 0.0424, 0.0544, 0.0319, 0.635, 0.87, 0.498, 0.527] \n",
            "Prices:  [999.9, 2199.12, 4346.99, 3999.9, 2999.0, 2499.9, 199.9, 308.66, 429.9, 299.29, 849.0, 1199.89, 1999.9, 3999.0] \n",
            "Chromosome:  ['0', '1', '0', '0', '0', '0', '0', '0', '1', '0', '0', '1', '0', '0'] \n",
            "Score:  3828.91 \n",
            "\n",
            "Individual:  13 \n",
            "Spaces:  [0.751, 8.99e-06, 0.4, 0.29, 0.2, 0.0035, 0.496, 0.0424, 0.0544, 0.0319, 0.635, 0.87, 0.498, 0.527] \n",
            "Prices:  [999.9, 2199.12, 4346.99, 3999.9, 2999.0, 2499.9, 199.9, 308.66, 429.9, 299.29, 849.0, 1199.89, 1999.9, 3999.0] \n",
            "Chromosome:  ['1', '1', '1', '1', '1', '0', '0', '0', '1', '0', '0', '1', '0', '1'] \n",
            "Score:  1 \n",
            "\n",
            "Individual:  14 \n",
            "Spaces:  [0.751, 8.99e-06, 0.4, 0.29, 0.2, 0.0035, 0.496, 0.0424, 0.0544, 0.0319, 0.635, 0.87, 0.498, 0.527] \n",
            "Prices:  [999.9, 2199.12, 4346.99, 3999.9, 2999.0, 2499.9, 199.9, 308.66, 429.9, 299.29, 849.0, 1199.89, 1999.9, 3999.0] \n",
            "Chromosome:  ['1', '1', '1', '0', '0', '0', '1', '0', '1', '0', '1', '0', '1', '1'] \n",
            "Score:  1 \n",
            "\n",
            "Individual:  15 \n",
            "Spaces:  [0.751, 8.99e-06, 0.4, 0.29, 0.2, 0.0035, 0.496, 0.0424, 0.0544, 0.0319, 0.635, 0.87, 0.498, 0.527] \n",
            "Prices:  [999.9, 2199.12, 4346.99, 3999.9, 2999.0, 2499.9, 199.9, 308.66, 429.9, 299.29, 849.0, 1199.89, 1999.9, 3999.0] \n",
            "Chromosome:  ['1', '0', '0', '0', '0', '1', '1', '0', '1', '1', '1', '1', '1', '0'] \n",
            "Score:  1 \n",
            "\n",
            "Individual:  16 \n",
            "Spaces:  [0.751, 8.99e-06, 0.4, 0.29, 0.2, 0.0035, 0.496, 0.0424, 0.0544, 0.0319, 0.635, 0.87, 0.498, 0.527] \n",
            "Prices:  [999.9, 2199.12, 4346.99, 3999.9, 2999.0, 2499.9, 199.9, 308.66, 429.9, 299.29, 849.0, 1199.89, 1999.9, 3999.0] \n",
            "Chromosome:  ['1', '1', '1', '1', '1', '0', '1', '1', '1', '1', '1', '0', '0', '1'] \n",
            "Score:  1 \n",
            "\n",
            "Individual:  17 \n",
            "Spaces:  [0.751, 8.99e-06, 0.4, 0.29, 0.2, 0.0035, 0.496, 0.0424, 0.0544, 0.0319, 0.635, 0.87, 0.498, 0.527] \n",
            "Prices:  [999.9, 2199.12, 4346.99, 3999.9, 2999.0, 2499.9, 199.9, 308.66, 429.9, 299.29, 849.0, 1199.89, 1999.9, 3999.0] \n",
            "Chromosome:  ['1', '1', '1', '1', '1', '0', '1', '0', '0', '0', '1', '1', '1', '1'] \n",
            "Score:  1 \n",
            "\n",
            "Individual:  18 \n",
            "Spaces:  [0.751, 8.99e-06, 0.4, 0.29, 0.2, 0.0035, 0.496, 0.0424, 0.0544, 0.0319, 0.635, 0.87, 0.498, 0.527] \n",
            "Prices:  [999.9, 2199.12, 4346.99, 3999.9, 2999.0, 2499.9, 199.9, 308.66, 429.9, 299.29, 849.0, 1199.89, 1999.9, 3999.0] \n",
            "Chromosome:  ['1', '1', '1', '0', '1', '0', '1', '1', '1', '0', '1', '1', '1', '0'] \n",
            "Score:  1 \n",
            "\n",
            "Individual:  19 \n",
            "Spaces:  [0.751, 8.99e-06, 0.4, 0.29, 0.2, 0.0035, 0.496, 0.0424, 0.0544, 0.0319, 0.635, 0.87, 0.498, 0.527] \n",
            "Prices:  [999.9, 2199.12, 4346.99, 3999.9, 2999.0, 2499.9, 199.9, 308.66, 429.9, 299.29, 849.0, 1199.89, 1999.9, 3999.0] \n",
            "Chromosome:  ['1', '1', '1', '1', '1', '0', '0', '1', '1', '1', '0', '1', '0', '1'] \n",
            "Score:  1 \n",
            "\n"
          ]
        }
      ]
    },
    {
      "cell_type": "code",
      "metadata": {
        "colab": {
          "base_uri": "https://localhost:8080/"
        },
        "id": "dlWa8YOdSqNU",
        "outputId": "fd7391dd-88ba-4557-af67-078d2555e3af"
      },
      "source": [
        "ga.best_solution.score_evaluation"
      ],
      "execution_count": null,
      "outputs": [
        {
          "output_type": "execute_result",
          "data": {
            "text/plain": [
              "1"
            ]
          },
          "metadata": {},
          "execution_count": 102
        }
      ]
    },
    {
      "cell_type": "code",
      "metadata": {
        "colab": {
          "base_uri": "https://localhost:8080/"
        },
        "id": "1xAsh8QWS46R",
        "outputId": "818025e3-2422-4282-fa4f-fd8830f597e6"
      },
      "source": [
        "ga.population[0].score_evaluation"
      ],
      "execution_count": null,
      "outputs": [
        {
          "output_type": "execute_result",
          "data": {
            "text/plain": [
              "18453.54"
            ]
          },
          "metadata": {},
          "execution_count": 103
        }
      ]
    },
    {
      "cell_type": "code",
      "metadata": {
        "id": "oa2O2UxOTB5H"
      },
      "source": [
        "ga.best_individual(ga.population[0])"
      ],
      "execution_count": null,
      "outputs": []
    },
    {
      "cell_type": "code",
      "metadata": {
        "colab": {
          "base_uri": "https://localhost:8080/"
        },
        "id": "FSmKFJSiTKn7",
        "outputId": "21432518-3467-49f4-f38f-16d3b10bf072"
      },
      "source": [
        "ga.best_solution.score_evaluation"
      ],
      "execution_count": null,
      "outputs": [
        {
          "output_type": "execute_result",
          "data": {
            "text/plain": [
              "18453.54"
            ]
          },
          "metadata": {},
          "execution_count": 105
        }
      ]
    },
    {
      "cell_type": "code",
      "metadata": {
        "colab": {
          "base_uri": "https://localhost:8080/"
        },
        "id": "6yTXZoz-TYdv",
        "outputId": "6e39458d-62c6-4830-8e9f-829299c70f06"
      },
      "source": [
        "ga.best_solution.chromosome"
      ],
      "execution_count": null,
      "outputs": [
        {
          "output_type": "execute_result",
          "data": {
            "text/plain": [
              "['1', '0', '1', '1', '0', '1', '0', '1', '0', '1', '0', '0', '1', '1']"
            ]
          },
          "metadata": {},
          "execution_count": 106
        }
      ]
    },
    {
      "cell_type": "code",
      "metadata": {
        "colab": {
          "base_uri": "https://localhost:8080/"
        },
        "id": "XEjr-4e-VStp",
        "outputId": "cb89c814-2939-4b68-d708-3b4f1cf78cb4"
      },
      "source": [
        "sum = ga.sum_evaluations()\n",
        "print('Sum of evaluations: ', sum)"
      ],
      "execution_count": null,
      "outputs": [
        {
          "output_type": "stream",
          "name": "stdout",
          "text": [
            "Sum of evaluations:  170661.54\n"
          ]
        }
      ]
    },
    {
      "cell_type": "code",
      "metadata": {
        "colab": {
          "base_uri": "https://localhost:8080/"
        },
        "id": "IMRAwHpDaRBs",
        "outputId": "d1092ea6-89eb-4030-8a47-34e09e02ed3d"
      },
      "source": [
        "random() * sum"
      ],
      "execution_count": null,
      "outputs": [
        {
          "output_type": "execute_result",
          "data": {
            "text/plain": [
              "129546.77230420671"
            ]
          },
          "metadata": {},
          "execution_count": 113
        }
      ]
    },
    {
      "cell_type": "code",
      "metadata": {
        "colab": {
          "base_uri": "https://localhost:8080/"
        },
        "id": "69FZ2JR6b_j0",
        "outputId": "2ffe78a8-2819-4d28-cf24-e4beb7187a7d"
      },
      "source": [
        "parent1 = ga.select_parent(sum)\n",
        "parent1"
      ],
      "execution_count": null,
      "outputs": [
        {
          "output_type": "stream",
          "name": "stdout",
          "text": [
            "*** random value: 64166.330798359275\n",
            "i: 0  - sum:  0\n",
            "i: 1  - sum:  19504.66\n",
            "i: 2  - sum:  34980.149999999994\n",
            "i: 3  - sum:  48113.49999999999\n",
            "i: 4  - sum:  60708.399999999994\n"
          ]
        },
        {
          "output_type": "execute_result",
          "data": {
            "text/plain": [
              "4"
            ]
          },
          "metadata": {},
          "execution_count": 91
        }
      ]
    },
    {
      "cell_type": "code",
      "metadata": {
        "colab": {
          "base_uri": "https://localhost:8080/"
        },
        "id": "BVuqaTNVdthx",
        "outputId": "9cae18fa-e047-493d-d2da-22290242e40e"
      },
      "source": [
        "parent2 = ga.select_parent(sum)\n",
        "parent2"
      ],
      "execution_count": null,
      "outputs": [
        {
          "output_type": "stream",
          "name": "stdout",
          "text": [
            "*** random value: 151889.77205909256\n",
            "i: 0  - sum:  0\n",
            "i: 1  - sum:  19504.66\n",
            "i: 2  - sum:  34980.149999999994\n",
            "i: 3  - sum:  48113.49999999999\n",
            "i: 4  - sum:  60708.399999999994\n",
            "i: 5  - sum:  73292.04\n",
            "i: 6  - sum:  85524.78\n",
            "i: 7  - sum:  97527.74\n",
            "i: 8  - sum:  109073.95000000001\n",
            "i: 9  - sum:  120609.6\n",
            "i: 10  - sum:  131894.03\n",
            "i: 11  - sum:  141118.83\n",
            "i: 12  - sum:  150046.03999999998\n"
          ]
        },
        {
          "output_type": "execute_result",
          "data": {
            "text/plain": [
              "12"
            ]
          },
          "metadata": {},
          "execution_count": 92
        }
      ]
    },
    {
      "cell_type": "code",
      "metadata": {
        "colab": {
          "base_uri": "https://localhost:8080/"
        },
        "id": "RVjNdW2YgXxS",
        "outputId": "6ca6c921-e4a2-4a32-fc16-477937b27628"
      },
      "source": [
        "new_population = []\n",
        "mutation_probability = 0.01\n",
        "for new_individuals in range(0, ga.population_size, 2):\n",
        "  #print(new_individuals)\n",
        "  parent1 = ga.select_parent(sum)\n",
        "  parent2 = ga.select_parent(sum)\n",
        "  print('\\n', parent1, parent2)\n",
        "  children = ga.population[parent1].crossover(ga.population[parent2])\n",
        "  print(ga.population[parent1].chromosome)\n",
        "  print(ga.population[parent2].chromosome)\n",
        "  print(children[0].chromosome)\n",
        "  print(children[1].chromosome)\n",
        "\n",
        "  new_population.append(children[0].mutation(mutation_probability))\n",
        "  new_population.append(children[1].mutation(mutation_probability))"
      ],
      "execution_count": null,
      "outputs": [
        {
          "output_type": "stream",
          "name": "stdout",
          "text": [
            "\n",
            " 3 9\n",
            "['1', '0', '1', '0', '1', '0', '1', '0', '1', '1', '0', '0', '1', '1']\n",
            "['1', '1', '0', '0', '0', '1', '1', '1', '1', '1', '1', '0', '0', '1']\n",
            "['1', '1', '0', '0', '0', '1', '1', '1', '1', '1', '1', '0', '0', '1']\n",
            "['1', '0', '1', '0', '1', '0', '1', '0', '1', '1', '0', '0', '1', '1']\n",
            "Before: ['1', '1', '0', '0', '0', '1', '1', '1', '1', '1', '1', '0', '0', '1']\n",
            "After:  ['1', '1', '0', '0', '0', '1', '1', '1', '1', '1', '1', '0', '0', '1']\n",
            "Before: ['1', '0', '1', '0', '1', '0', '1', '0', '1', '1', '0', '0', '1', '1']\n",
            "After:  ['1', '1', '1', '0', '1', '0', '1', '0', '1', '1', '0', '0', '1', '1']\n",
            "\n",
            " 6 1\n",
            "['0', '0', '0', '1', '1', '1', '0', '1', '0', '0', '0', '1', '1', '0']\n",
            "['0', '0', '1', '1', '0', '1', '1', '1', '0', '0', '1', '0', '1', '1']\n",
            "['0', '0', '1', '1', '0', '1', '1', '1', '0', '0', '1', '0', '1', '0']\n",
            "['0', '0', '0', '1', '1', '1', '0', '1', '0', '0', '0', '1', '1', '1']\n",
            "Before: ['0', '0', '1', '1', '0', '1', '1', '1', '0', '0', '1', '0', '1', '0']\n",
            "After:  ['0', '0', '1', '1', '0', '1', '1', '1', '0', '0', '1', '0', '1', '0']\n",
            "Before: ['0', '0', '0', '1', '1', '1', '0', '1', '0', '0', '0', '1', '1', '1']\n",
            "After:  ['0', '0', '0', '1', '1', '1', '0', '1', '0', '0', '0', '1', '1', '1']\n",
            "\n",
            " 6 2\n",
            "['0', '0', '0', '1', '1', '1', '0', '1', '0', '0', '0', '1', '1', '0']\n",
            "['1', '0', '1', '1', '0', '1', '0', '1', '0', '1', '1', '0', '1', '0']\n",
            "['1', '0', '1', '1', '0', '1', '0', '1', '0', '1', '0', '1', '1', '0']\n",
            "['0', '0', '0', '1', '1', '1', '0', '1', '0', '0', '1', '0', '1', '0']\n",
            "Before: ['1', '0', '1', '1', '0', '1', '0', '1', '0', '1', '0', '1', '1', '0']\n",
            "After:  ['1', '0', '1', '1', '0', '1', '0', '1', '0', '1', '0', '1', '1', '0']\n",
            "Before: ['0', '0', '0', '1', '1', '1', '0', '1', '0', '0', '1', '0', '1', '0']\n",
            "After:  ['0', '0', '0', '1', '1', '1', '0', '1', '0', '0', '1', '0', '1', '0']\n",
            "\n",
            " 1 8\n",
            "['0', '0', '1', '1', '0', '1', '1', '1', '0', '0', '1', '0', '1', '1']\n",
            "['1', '0', '0', '1', '0', '0', '0', '1', '0', '1', '1', '0', '1', '1']\n",
            "['1', '0', '0', '1', '0', '1', '1', '1', '0', '0', '1', '0', '1', '1']\n",
            "['0', '0', '1', '1', '0', '0', '0', '1', '0', '1', '1', '0', '1', '1']\n",
            "Before: ['1', '0', '0', '1', '0', '1', '1', '1', '0', '0', '1', '0', '1', '1']\n",
            "After:  ['1', '0', '0', '1', '0', '1', '1', '1', '0', '0', '1', '0', '1', '1']\n",
            "Before: ['0', '0', '1', '1', '0', '0', '0', '1', '0', '1', '1', '0', '1', '1']\n",
            "After:  ['0', '0', '1', '1', '0', '0', '0', '1', '0', '1', '1', '0', '1', '1']\n",
            "\n",
            " 8 9\n",
            "['1', '0', '0', '1', '0', '0', '0', '1', '0', '1', '1', '0', '1', '1']\n",
            "['1', '1', '0', '0', '0', '1', '1', '1', '1', '1', '1', '0', '0', '1']\n",
            "['1', '1', '0', '0', '0', '1', '1', '1', '0', '1', '1', '0', '1', '1']\n",
            "['1', '0', '0', '1', '0', '0', '0', '1', '1', '1', '1', '0', '0', '1']\n",
            "Before: ['1', '1', '0', '0', '0', '1', '1', '1', '0', '1', '1', '0', '1', '1']\n",
            "After:  ['1', '1', '0', '0', '0', '1', '1', '1', '0', '1', '1', '0', '1', '1']\n",
            "Before: ['1', '0', '0', '1', '0', '0', '0', '1', '1', '1', '1', '0', '0', '1']\n",
            "After:  ['1', '0', '0', '1', '0', '0', '0', '1', '1', '1', '1', '0', '0', '1']\n",
            "\n",
            " 7 0\n",
            "['0', '1', '0', '0', '1', '0', '1', '0', '0', '1', '1', '0', '1', '1']\n",
            "['1', '0', '1', '1', '0', '1', '0', '1', '0', '1', '0', '0', '1', '1']\n",
            "['1', '0', '1', '1', '0', '1', '0', '1', '0', '1', '0', '0', '1', '1']\n",
            "['0', '1', '0', '0', '1', '0', '1', '0', '0', '1', '1', '0', '1', '1']\n",
            "Before: ['1', '0', '1', '1', '0', '1', '0', '1', '0', '1', '0', '0', '1', '1']\n",
            "After:  ['1', '0', '1', '1', '0', '1', '0', '1', '0', '1', '0', '0', '1', '1']\n",
            "Before: ['0', '1', '0', '0', '1', '0', '1', '0', '0', '1', '1', '0', '1', '1']\n",
            "After:  ['0', '1', '0', '0', '1', '0', '1', '0', '0', '1', '1', '0', '1', '1']\n",
            "\n",
            " 1 1\n",
            "['0', '0', '1', '1', '0', '1', '1', '1', '0', '0', '1', '0', '1', '1']\n",
            "['0', '0', '1', '1', '0', '1', '1', '1', '0', '0', '1', '0', '1', '1']\n",
            "['0', '0', '1', '1', '0', '1', '1', '1', '0', '0', '1', '0', '1', '1']\n",
            "['0', '0', '1', '1', '0', '1', '1', '1', '0', '0', '1', '0', '1', '1']\n",
            "Before: ['0', '0', '1', '1', '0', '1', '1', '1', '0', '0', '1', '0', '1', '1']\n",
            "After:  ['0', '0', '1', '1', '0', '1', '1', '1', '0', '0', '1', '0', '1', '1']\n",
            "Before: ['0', '0', '1', '1', '0', '1', '1', '1', '0', '0', '1', '0', '1', '1']\n",
            "After:  ['0', '0', '1', '1', '0', '1', '1', '1', '0', '0', '1', '0', '1', '1']\n",
            "\n",
            " 7 1\n",
            "['0', '1', '0', '0', '1', '0', '1', '0', '0', '1', '1', '0', '1', '1']\n",
            "['0', '0', '1', '1', '0', '1', '1', '1', '0', '0', '1', '0', '1', '1']\n",
            "['0', '0', '1', '1', '0', '1', '1', '1', '0', '0', '1', '0', '1', '1']\n",
            "['0', '1', '0', '0', '1', '0', '1', '0', '0', '1', '1', '0', '1', '1']\n",
            "Before: ['0', '0', '1', '1', '0', '1', '1', '1', '0', '0', '1', '0', '1', '1']\n",
            "After:  ['0', '0', '1', '1', '0', '1', '1', '1', '0', '0', '1', '0', '1', '1']\n",
            "Before: ['0', '1', '0', '0', '1', '0', '1', '0', '0', '1', '1', '0', '1', '1']\n",
            "After:  ['0', '1', '0', '0', '1', '0', '1', '0', '0', '1', '1', '0', '1', '1']\n",
            "\n",
            " 2 0\n",
            "['1', '0', '1', '1', '0', '1', '0', '1', '0', '1', '1', '0', '1', '0']\n",
            "['1', '0', '1', '1', '0', '1', '0', '1', '0', '1', '0', '0', '1', '1']\n",
            "['1', '0', '1', '1', '0', '1', '0', '1', '0', '1', '1', '0', '1', '0']\n",
            "['1', '0', '1', '1', '0', '1', '0', '1', '0', '1', '0', '0', '1', '1']\n",
            "Before: ['1', '0', '1', '1', '0', '1', '0', '1', '0', '1', '1', '0', '1', '0']\n",
            "After:  ['1', '0', '1', '1', '0', '1', '0', '1', '0', '1', '1', '0', '1', '0']\n",
            "Before: ['1', '0', '1', '1', '0', '1', '0', '1', '0', '1', '0', '0', '1', '1']\n",
            "After:  ['1', '0', '1', '1', '0', '1', '0', '1', '0', '1', '0', '0', '1', '1']\n",
            "\n",
            " 0 1\n",
            "['1', '0', '1', '1', '0', '1', '0', '1', '0', '1', '0', '0', '1', '1']\n",
            "['0', '0', '1', '1', '0', '1', '1', '1', '0', '0', '1', '0', '1', '1']\n",
            "['0', '0', '1', '1', '0', '1', '0', '1', '0', '1', '0', '0', '1', '1']\n",
            "['1', '0', '1', '1', '0', '1', '1', '1', '0', '0', '1', '0', '1', '1']\n",
            "Before: ['0', '0', '1', '1', '0', '1', '0', '1', '0', '1', '0', '0', '1', '1']\n",
            "After:  ['0', '0', '1', '1', '0', '1', '0', '1', '0', '1', '0', '0', '1', '1']\n",
            "Before: ['1', '0', '1', '1', '0', '1', '1', '1', '0', '0', '1', '0', '1', '1']\n",
            "After:  ['1', '0', '1', '1', '0', '1', '1', '1', '0', '0', '1', '0', '1', '1']\n"
          ]
        }
      ]
    },
    {
      "cell_type": "markdown",
      "metadata": {
        "id": "G_ia0U1OsQ7R"
      },
      "source": [
        "# Putting all together"
      ]
    },
    {
      "cell_type": "code",
      "metadata": {
        "colab": {
          "base_uri": "https://localhost:8080/"
        },
        "id": "oPz5to7bsS4-",
        "outputId": "0115c905-f19c-4da6-eb2a-87d1916f728b"
      },
      "source": [
        "products_list = []\n",
        "products_list.append(Product(\"Refrigerator A\", 0.751, 999.90))\n",
        "products_list.append(Product(\"Cell phone\", 0.0000899, 2911.12))\n",
        "products_list.append(Product(\"TV 55' \", 0.400, 4346.99))\n",
        "products_list.append(Product(\"TV 50' \", 0.290, 3999.90))\n",
        "products_list.append(Product(\"TV 42' \", 0.200, 2999.00))\n",
        "products_list.append(Product(\"Notebook A\", 0.00350, 2499.90))\n",
        "products_list.append(Product(\"Ventilator\", 0.496, 199.90))\n",
        "products_list.append(Product(\"Microwave A\", 0.0424, 308.66))\n",
        "products_list.append(Product(\"Microwave B\", 0.0544, 429.90))\n",
        "products_list.append(Product(\"Microwave C\", 0.0319, 299.29))\n",
        "products_list.append(Product(\"Refrigerator B\", 0.635, 849.00))\n",
        "products_list.append(Product(\"Refrigerator C\", 0.870, 1199.89))\n",
        "products_list.append(Product(\"Notebook B\", 0.498, 1999.90))\n",
        "products_list.append(Product(\"Notebook C\", 0.527, 3999.00))\n",
        "spaces = []\n",
        "prices = []\n",
        "names = []\n",
        "for product in products_list:\n",
        "  spaces.append(product.space)\n",
        "  prices.append(product.price)\n",
        "  names.append(product.name)\n",
        "limit = 3\n",
        "population_size = 20\n",
        "mutation_probability = 0.01\n",
        "number_of_generations = 100\n",
        "ga = GeneticAlgorithm(population_size)\n",
        "result = ga.solve(mutation_probability, number_of_generations, spaces, prices, limit)\n",
        "print(result)\n",
        "for i in range(len(products_list)):\n",
        "  if result[i] == '1':\n",
        "    print('Name: ', products_list[i].name, ' - Price: ', products_list[i].price)"
      ],
      "execution_count": null,
      "outputs": [
        {
          "output_type": "stream",
          "name": "stdout",
          "text": [
            "Generation:  0 Total price:  18412.86 Space:  2.3358898999999997 Chromosome:  ['0', '1', '1', '0', '1', '1', '1', '1', '0', '1', '1', '0', '0', '1']\n",
            "Generation:  1 Total price:  11504.449999999999 Space:  1.8654 Chromosome:  ['0', '0', '1', '1', '0', '0', '0', '1', '0', '0', '1', '0', '1', '0']\n",
            "Generation:  2 Total price:  1 Space:  3.1093 Chromosome:  ['1', '0', '1', '1', '1', '1', '0', '1', '1', '0', '0', '1', '1', '0']\n",
            "Generation:  3 Total price:  1 Space:  3.4543 Chromosome:  ['1', '0', '1', '0', '1', '1', '0', '1', '1', '0', '1', '1', '1', '0']\n",
            "Generation:  4 Total price:  14784.139999999998 Space:  2.8193 Chromosome:  ['1', '0', '1', '0', '1', '1', '0', '1', '1', '0', '0', '1', '1', '0']\n",
            "Generation:  5 Total price:  14648.46 Space:  2.5412898999999998 Chromosome:  ['1', '1', '0', '1', '0', '1', '0', '1', '1', '1', '0', '1', '1', '0']\n",
            "Generation:  6 Total price:  16185.19 Space:  2.0833899000000002 Chromosome:  ['0', '1', '1', '0', '1', '0', '0', '0', '1', '1', '0', '1', '0', '1']\n",
            "Generation:  7 Total price:  12186.19 Space:  1.5563899 Chromosome:  ['0', '1', '1', '0', '1', '0', '0', '0', '1', '1', '0', '1', '0', '0']\n",
            "Generation:  8 Total price:  13186.09 Space:  2.3073899 Chromosome:  ['1', '1', '1', '0', '1', '0', '0', '0', '1', '1', '0', '1', '0', '0']\n",
            "Generation:  9 Total price:  13186.09 Space:  2.3073899 Chromosome:  ['1', '1', '1', '0', '1', '0', '0', '0', '1', '1', '0', '1', '0', '0']\n",
            "Generation:  10 Total price:  14686.09 Space:  1.5598899 Chromosome:  ['0', '1', '1', '0', '1', '1', '0', '0', '1', '1', '0', '1', '0', '0']\n",
            "Generation:  11 Total price:  14686.09 Space:  1.5598899 Chromosome:  ['0', '1', '1', '0', '1', '1', '0', '0', '1', '1', '0', '1', '0', '0']\n",
            "Generation:  12 Total price:  15685.99 Space:  2.3108899000000003 Chromosome:  ['1', '1', '1', '0', '1', '1', '0', '0', '1', '1', '0', '1', '0', '0']\n",
            "Generation:  13 Total price:  15685.99 Space:  2.3108899000000003 Chromosome:  ['1', '1', '1', '0', '1', '1', '0', '0', '1', '1', '0', '1', '0', '0']\n",
            "Generation:  14 Total price:  7839.2 Space:  1.1563899 Chromosome:  ['0', '1', '0', '0', '1', '0', '0', '0', '1', '1', '0', '1', '0', '0']\n",
            "Generation:  15 Total price:  10187.09 Space:  2.1073899000000003 Chromosome:  ['1', '1', '1', '0', '0', '0', '0', '0', '1', '1', '0', '1', '0', '0']\n",
            "Generation:  16 Total price:  17985.1 Space:  2.4623899000000002 Chromosome:  ['1', '1', '1', '0', '1', '0', '0', '0', '1', '1', '0', '0', '1', '1']\n",
            "Generation:  17 Total price:  17985.1 Space:  2.4623899000000002 Chromosome:  ['1', '1', '1', '0', '1', '0', '0', '0', '1', '1', '0', '0', '1', '1']\n",
            "Generation:  18 Total price:  20485.0 Space:  2.4658899 Chromosome:  ['1', '1', '1', '0', '1', '1', '0', '0', '1', '1', '0', '0', '1', '1']\n",
            "Generation:  19 Total price:  17985.1 Space:  2.4623899000000002 Chromosome:  ['1', '1', '1', '0', '1', '0', '0', '0', '1', '1', '0', '0', '1', '1']\n",
            "Generation:  20 Total price:  14986.1 Space:  2.2623899 Chromosome:  ['1', '1', '1', '0', '0', '0', '0', '0', '1', '1', '0', '0', '1', '1']\n",
            "Generation:  21 Total price:  18293.760000000002 Space:  2.5047899 Chromosome:  ['1', '1', '1', '0', '1', '0', '0', '1', '1', '1', '0', '0', '1', '1']\n",
            "Generation:  22 Total price:  17985.1 Space:  2.4623899000000002 Chromosome:  ['1', '1', '1', '0', '1', '0', '0', '0', '1', '1', '0', '0', '1', '1']\n",
            "Generation:  23 Total price:  16985.2 Space:  1.7113899 Chromosome:  ['0', '1', '1', '0', '1', '0', '0', '0', '1', '1', '0', '0', '1', '1']\n",
            "Generation:  24 Total price:  17985.1 Space:  2.4623899000000002 Chromosome:  ['1', '1', '1', '0', '1', '0', '0', '0', '1', '1', '0', '0', '1', '1']\n",
            "Generation:  25 Total price:  17985.1 Space:  2.4623899000000002 Chromosome:  ['1', '1', '1', '0', '1', '0', '0', '0', '1', '1', '0', '0', '1', '1']\n",
            "Generation:  26 Total price:  10639.11 Space:  1.8623899000000002 Chromosome:  ['1', '1', '0', '0', '0', '0', '0', '0', '1', '1', '0', '0', '1', '1']\n",
            "Generation:  27 Total price:  20485.0 Space:  2.4658899 Chromosome:  ['1', '1', '1', '0', '1', '1', '0', '0', '1', '1', '0', '0', '1', '1']\n",
            "Generation:  28 Total price:  18293.760000000002 Space:  2.5047899 Chromosome:  ['1', '1', '1', '0', '1', '0', '0', '1', '1', '1', '0', '0', '1', '1']\n",
            "Generation:  29 Total price:  15985.2 Space:  1.9643899 Chromosome:  ['1', '1', '1', '0', '1', '0', '0', '0', '1', '1', '0', '0', '0', '1']\n",
            "Generation:  30 Total price:  16985.2 Space:  1.7113899 Chromosome:  ['0', '1', '1', '0', '1', '0', '0', '0', '1', '1', '0', '0', '1', '1']\n",
            "Generation:  31 Total price:  17295.67 Space:  2.7432898999999997 Chromosome:  ['1', '1', '0', '0', '1', '1', '0', '1', '1', '1', '1', '0', '1', '1']\n",
            "Generation:  32 Total price:  20793.66 Space:  2.5082899000000003 Chromosome:  ['1', '1', '1', '0', '1', '1', '0', '1', '1', '1', '0', '0', '1', '1']\n",
            "Generation:  33 Total price:  18293.760000000002 Space:  2.5047899 Chromosome:  ['1', '1', '1', '0', '1', '0', '0', '1', '1', '1', '0', '0', '1', '1']\n",
            "Generation:  34 Total price:  12774.869999999999 Space:  2.3108 Chromosome:  ['1', '0', '1', '0', '1', '1', '0', '0', '1', '1', '0', '1', '0', '0']\n",
            "Generation:  35 Total price:  13487.0 Space:  1.7388899000000002 Chromosome:  ['1', '1', '1', '0', '0', '1', '0', '0', '1', '1', '0', '0', '1', '0']\n",
            "Generation:  36 Total price:  15486.1 Space:  1.1878899 Chromosome:  ['0', '1', '1', '0', '1', '1', '0', '0', '1', '1', '0', '0', '1', '0']\n",
            "Generation:  37 Total price:  9140.01 Space:  1.3388898999999999 Chromosome:  ['1', '1', '0', '0', '0', '1', '0', '0', '1', '1', '0', '0', '1', '0']\n",
            "Generation:  38 Total price:  19185.809999999998 Space:  1.6829899 Chromosome:  ['0', '1', '1', '0', '1', '1', '0', '0', '1', '0', '0', '0', '1', '1']\n",
            "Generation:  39 Total price:  15486.1 Space:  1.1878899 Chromosome:  ['0', '1', '1', '0', '1', '1', '0', '0', '1', '1', '0', '0', '1', '0']\n",
            "Generation:  40 Total price:  19838.62 Space:  2.3239899 Chromosome:  ['1', '1', '0', '1', '1', '1', '0', '0', '1', '0', '0', '0', '1', '1']\n",
            "Generation:  41 Total price:  19838.62 Space:  2.3239899 Chromosome:  ['1', '1', '0', '1', '1', '1', '0', '0', '1', '0', '0', '0', '1', '1']\n",
            "Generation:  42 Total price:  19838.62 Space:  2.3239899 Chromosome:  ['1', '1', '0', '1', '1', '1', '0', '0', '1', '0', '0', '0', '1', '1']\n",
            "Generation:  43 Total price:  16863.96 Space:  1.6993899 Chromosome:  ['0', '1', '1', '0', '1', '0', '0', '1', '0', '1', '0', '0', '1', '1']\n",
            "Generation:  44 Total price:  19485.1 Space:  1.7148899000000002 Chromosome:  ['0', '1', '1', '0', '1', '1', '0', '0', '1', '1', '0', '0', '1', '1']\n",
            "Generation:  45 Total price:  16557.11 Space:  2.6464898999999997 Chromosome:  ['1', '1', '0', '0', '1', '1', '0', '0', '0', '1', '1', '0', '1', '1']\n",
            "Generation:  46 Total price:  15557.210000000001 Space:  1.8954899000000003 Chromosome:  ['0', '1', '0', '0', '1', '1', '0', '0', '0', '1', '1', '0', '1', '1']\n",
            "Generation:  47 Total price:  19185.809999999998 Space:  1.6829899 Chromosome:  ['0', '1', '1', '0', '1', '1', '0', '0', '1', '0', '0', '0', '1', '1']\n",
            "Generation:  48 Total price:  20363.760000000002 Space:  2.4538899 Chromosome:  ['1', '1', '1', '0', '1', '1', '0', '1', '0', '1', '0', '0', '1', '1']\n",
            "Generation:  49 Total price:  23185.710000000003 Space:  1.9729899 Chromosome:  ['0', '1', '1', '1', '1', '1', '0', '0', '1', '0', '0', '0', '1', '1']\n",
            "Generation:  50 Total price:  24334.000000000004 Space:  2.6398899 Chromosome:  ['0', '1', '1', '1', '1', '1', '0', '0', '1', '1', '1', '0', '1', '1']\n",
            "Generation:  51 Total price:  19793.760000000002 Space:  1.7572899 Chromosome:  ['0', '1', '1', '0', '1', '1', '0', '1', '1', '1', '0', '0', '1', '1']\n",
            "Generation:  52 Total price:  17535.45 Space:  2.3982 Chromosome:  ['1', '0', '0', '1', '1', '1', '0', '1', '1', '1', '0', '0', '1', '1']\n",
            "Generation:  53 Total price:  20793.66 Space:  2.5082899000000003 Chromosome:  ['1', '1', '1', '0', '1', '1', '0', '1', '1', '1', '0', '0', '1', '1']\n",
            "Generation:  54 Total price:  23485.000000000004 Space:  2.0048899000000002 Chromosome:  ['0', '1', '1', '1', '1', '1', '0', '0', '1', '1', '0', '0', '1', '1']\n",
            "Generation:  55 Total price:  19793.760000000002 Space:  1.7572899 Chromosome:  ['0', '1', '1', '0', '1', '1', '0', '1', '1', '1', '0', '0', '1', '1']\n",
            "Generation:  56 Total price:  19138.010000000002 Space:  1.6048898999999999 Chromosome:  ['0', '1', '0', '1', '1', '1', '0', '0', '1', '1', '0', '0', '1', '1']\n",
            "Generation:  57 Total price:  23793.660000000003 Space:  2.0472899 Chromosome:  ['0', '1', '1', '1', '1', '1', '0', '1', '1', '1', '0', '0', '1', '1']\n",
            "Generation:  58 Total price:  23185.710000000003 Space:  1.9729899 Chromosome:  ['0', '1', '1', '1', '1', '1', '0', '0', '1', '0', '0', '0', '1', '1']\n",
            "Generation:  59 Total price:  23185.710000000003 Space:  1.9729899 Chromosome:  ['0', '1', '1', '1', '1', '1', '0', '0', '1', '0', '0', '0', '1', '1']\n",
            "Generation:  60 Total price:  23185.710000000003 Space:  1.9729899 Chromosome:  ['0', '1', '1', '1', '1', '1', '0', '0', '1', '0', '0', '0', '1', '1']\n",
            "Generation:  61 Total price:  23485.000000000004 Space:  2.0048899000000002 Chromosome:  ['0', '1', '1', '1', '1', '1', '0', '0', '1', '1', '0', '0', '1', '1']\n",
            "Generation:  62 Total price:  23485.000000000004 Space:  2.0048899000000002 Chromosome:  ['0', '1', '1', '1', '1', '1', '0', '0', '1', '1', '0', '0', '1', '1']\n",
            "Generation:  63 Total price:  23485.000000000004 Space:  2.0048899000000002 Chromosome:  ['0', '1', '1', '1', '1', '1', '0', '0', '1', '1', '0', '0', '1', '1']\n",
            "Generation:  64 Total price:  23485.000000000004 Space:  2.0048899000000002 Chromosome:  ['0', '1', '1', '1', '1', '1', '0', '0', '1', '1', '0', '0', '1', '1']\n",
            "Generation:  65 Total price:  23684.900000000005 Space:  2.5008898999999998 Chromosome:  ['0', '1', '1', '1', '1', '1', '1', '0', '1', '1', '0', '0', '1', '1']\n",
            "Generation:  66 Total price:  23904.100000000002 Space:  2.5854899 Chromosome:  ['0', '1', '1', '1', '1', '1', '0', '0', '0', '1', '1', '0', '1', '1']\n",
            "Generation:  67 Total price:  20573.88 Space:  2.0048 Chromosome:  ['0', '0', '1', '1', '1', '1', '0', '0', '1', '1', '0', '0', '1', '1']\n",
            "Generation:  68 Total price:  20573.88 Space:  2.0048 Chromosome:  ['0', '0', '1', '1', '1', '1', '0', '0', '1', '1', '0', '0', '1', '1']\n",
            "Generation:  69 Total price:  23055.100000000002 Space:  1.9504899 Chromosome:  ['0', '1', '1', '1', '1', '1', '0', '0', '0', '1', '0', '0', '1', '1']\n",
            "Generation:  70 Total price:  19485.1 Space:  1.7148899000000002 Chromosome:  ['0', '1', '1', '0', '1', '1', '0', '0', '1', '1', '0', '0', '1', '1']\n",
            "Generation:  71 Total price:  23485.000000000004 Space:  2.0048899000000002 Chromosome:  ['0', '1', '1', '1', '1', '1', '0', '0', '1', '1', '0', '0', '1', '1']\n",
            "Generation:  72 Total price:  23385.610000000004 Space:  2.4689899 Chromosome:  ['0', '1', '1', '1', '1', '1', '1', '0', '1', '0', '0', '0', '1', '1']\n",
            "Generation:  73 Total price:  21274.489999999998 Space:  2.7239000000000004 Chromosome:  ['1', '0', '1', '1', '1', '1', '0', '0', '1', '0', '0', '0', '1', '1']\n",
            "Generation:  74 Total price:  21274.489999999998 Space:  2.7239000000000004 Chromosome:  ['1', '0', '1', '1', '1', '1', '0', '0', '1', '0', '0', '0', '1', '1']\n",
            "Generation:  75 Total price:  22755.81 Space:  1.9185899000000002 Chromosome:  ['0', '1', '1', '1', '1', '1', '0', '0', '0', '0', '0', '0', '1', '1']\n",
            "Generation:  76 Total price:  23485.000000000004 Space:  2.0048899000000002 Chromosome:  ['0', '1', '1', '1', '1', '1', '0', '0', '1', '1', '0', '0', '1', '1']\n",
            "Generation:  77 Total price:  22755.81 Space:  1.9185899000000002 Chromosome:  ['0', '1', '1', '1', '1', '1', '0', '0', '0', '0', '0', '0', '1', '1']\n",
            "Generation:  78 Total price:  23185.710000000003 Space:  1.9729899 Chromosome:  ['0', '1', '1', '1', '1', '1', '0', '0', '1', '0', '0', '0', '1', '1']\n",
            "Generation:  79 Total price:  18755.91 Space:  1.6285899000000001 Chromosome:  ['0', '1', '1', '0', '1', '1', '0', '0', '0', '0', '0', '0', '1', '1']\n",
            "Generation:  80 Total price:  23055.100000000002 Space:  1.9504899 Chromosome:  ['0', '1', '1', '1', '1', '1', '0', '0', '0', '1', '0', '0', '1', '1']\n",
            "Generation:  81 Total price:  20573.88 Space:  2.0048 Chromosome:  ['0', '0', '1', '1', '1', '1', '0', '0', '1', '1', '0', '0', '1', '1']\n",
            "Generation:  82 Total price:  19756.809999999998 Space:  1.7185899 Chromosome:  ['0', '1', '1', '1', '0', '1', '0', '0', '0', '0', '0', '0', '1', '1']\n",
            "Generation:  83 Total price:  16845.69 Space:  1.7185000000000001 Chromosome:  ['0', '0', '1', '1', '0', '1', '0', '0', '0', '0', '0', '0', '1', '1']\n",
            "Generation:  84 Total price:  23185.710000000003 Space:  1.9729899 Chromosome:  ['0', '1', '1', '1', '1', '1', '0', '0', '1', '0', '0', '0', '1', '1']\n",
            "Generation:  85 Total price:  20056.1 Space:  1.7504899000000003 Chromosome:  ['0', '1', '1', '1', '0', '1', '0', '0', '0', '1', '0', '0', '1', '1']\n",
            "Generation:  86 Total price:  23055.100000000002 Space:  1.9504899 Chromosome:  ['0', '1', '1', '1', '1', '1', '0', '0', '0', '1', '0', '0', '1', '1']\n",
            "Generation:  87 Total price:  23955.7 Space:  2.7885899 Chromosome:  ['0', '1', '1', '1', '1', '1', '0', '0', '0', '0', '0', '1', '1', '1']\n",
            "Generation:  88 Total price:  23955.7 Space:  2.7885899 Chromosome:  ['0', '1', '1', '1', '1', '1', '0', '0', '0', '0', '0', '1', '1', '1']\n",
            "Generation:  89 Total price:  20956.7 Space:  2.5885899 Chromosome:  ['0', '1', '1', '1', '0', '1', '0', '0', '0', '0', '0', '1', '1', '1']\n",
            "Generation:  90 Total price:  19756.809999999998 Space:  1.7185899 Chromosome:  ['0', '1', '1', '1', '0', '1', '0', '0', '0', '0', '0', '0', '1', '1']\n",
            "Generation:  91 Total price:  24385.600000000002 Space:  2.8429899 Chromosome:  ['0', '1', '1', '1', '1', '1', '0', '0', '1', '0', '0', '1', '1', '1']\n",
            "Generation:  92 Total price:  21044.579999999998 Space:  2.7885 Chromosome:  ['0', '0', '1', '1', '1', '1', '0', '0', '0', '0', '0', '1', '1', '1']\n",
            "Generation:  93 Total price:  24385.600000000002 Space:  2.8429899 Chromosome:  ['0', '1', '1', '1', '1', '1', '0', '0', '1', '0', '0', '1', '1', '1']\n",
            "Generation:  94 Total price:  24385.600000000002 Space:  2.8429899 Chromosome:  ['0', '1', '1', '1', '1', '1', '0', '0', '1', '0', '0', '1', '1', '1']\n",
            "Generation:  95 Total price:  22755.81 Space:  1.9185899000000002 Chromosome:  ['0', '1', '1', '1', '1', '1', '0', '0', '0', '0', '0', '0', '1', '1']\n",
            "Generation:  96 Total price:  19608.71 Space:  2.3885899 Chromosome:  ['0', '1', '0', '1', '1', '1', '0', '0', '0', '0', '0', '1', '1', '1']\n",
            "Generation:  97 Total price:  23055.100000000002 Space:  1.9504899 Chromosome:  ['0', '1', '1', '1', '1', '1', '0', '0', '0', '1', '0', '0', '1', '1']\n",
            "Generation:  98 Total price:  23055.100000000002 Space:  1.9504899 Chromosome:  ['0', '1', '1', '1', '1', '1', '0', '0', '0', '1', '0', '0', '1', '1']\n",
            "Generation:  99 Total price:  21044.579999999998 Space:  2.7885 Chromosome:  ['0', '0', '1', '1', '1', '1', '0', '0', '0', '0', '0', '1', '1', '1']\n",
            "Generation:  100 Total price:  24385.600000000002 Space:  2.8429899 Chromosome:  ['0', '1', '1', '1', '1', '1', '0', '0', '1', '0', '0', '1', '1', '1']\n",
            "**** Best solution - Generation:  91 Total price:  24385.600000000002 Space:  2.8429899 Chromosome:  ['0', '1', '1', '1', '1', '1', '0', '0', '1', '0', '0', '1', '1', '1']\n",
            "['0', '1', '1', '1', '1', '1', '0', '0', '1', '0', '0', '1', '1', '1']\n",
            "Name:  Cell phone  - Price:  2911.12\n",
            "Name:  TV 55'   - Price:  4346.99\n",
            "Name:  TV 50'   - Price:  3999.9\n",
            "Name:  TV 42'   - Price:  2999.0\n",
            "Name:  Notebook A  - Price:  2499.9\n",
            "Name:  Microwave B  - Price:  429.9\n",
            "Name:  Refrigerator C  - Price:  1199.89\n",
            "Name:  Notebook B  - Price:  1999.9\n",
            "Name:  Notebook C  - Price:  3999.0\n"
          ]
        }
      ]
    },
    {
      "cell_type": "code",
      "metadata": {
        "id": "xdVKmGjexcnv"
      },
      "source": [
        "for value in ga.list_of_solutions:\n",
        "  print(value)"
      ],
      "execution_count": null,
      "outputs": []
    },
    {
      "cell_type": "code",
      "metadata": {
        "colab": {
          "base_uri": "https://localhost:8080/"
        },
        "id": "iaifYM4Pxm-m",
        "outputId": "4a220466-569f-4e6e-c277-2ac48ab7972d"
      },
      "source": [
        "import plotly.express as px\n",
        "figure = px.line(x = range(0,101), y = ga.list_of_solutions, title = 'Genetic algorithm results')\n",
        "figure.show()"
      ],
      "execution_count": null,
      "outputs": [
        {
          "output_type": "display_data",
          "data": {
            "text/html": [
              "<html>\n",
              "<head><meta charset=\"utf-8\" /></head>\n",
              "<body>\n",
              "    <div>\n",
              "            <script src=\"https://cdnjs.cloudflare.com/ajax/libs/mathjax/2.7.5/MathJax.js?config=TeX-AMS-MML_SVG\"></script><script type=\"text/javascript\">if (window.MathJax) {MathJax.Hub.Config({SVG: {font: \"STIX-Web\"}});}</script>\n",
              "                <script type=\"text/javascript\">window.PlotlyConfig = {MathJaxConfig: 'local'};</script>\n",
              "        <script src=\"https://cdn.plot.ly/plotly-latest.min.js\"></script>    \n",
              "            <div id=\"77c7b2b3-9cf6-4a42-90ab-551e09bec236\" class=\"plotly-graph-div\" style=\"height:525px; width:100%;\"></div>\n",
              "            <script type=\"text/javascript\">\n",
              "                \n",
              "                    window.PLOTLYENV=window.PLOTLYENV || {};\n",
              "                    \n",
              "                if (document.getElementById(\"77c7b2b3-9cf6-4a42-90ab-551e09bec236\")) {\n",
              "                    Plotly.newPlot(\n",
              "                        '77c7b2b3-9cf6-4a42-90ab-551e09bec236',\n",
              "                        [{\"hoverlabel\": {\"namelength\": 0}, \"hovertemplate\": \"x=%{x}<br>y=%{y}\", \"legendgroup\": \"\", \"line\": {\"color\": \"#636efa\", \"dash\": \"solid\"}, \"mode\": \"lines\", \"name\": \"\", \"showlegend\": false, \"type\": \"scatter\", \"x\": [0, 1, 2, 3, 4, 5, 6, 7, 8, 9, 10, 11, 12, 13, 14, 15, 16, 17, 18, 19, 20, 21, 22, 23, 24, 25, 26, 27, 28, 29, 30, 31, 32, 33, 34, 35, 36, 37, 38, 39, 40, 41, 42, 43, 44, 45, 46, 47, 48, 49, 50, 51, 52, 53, 54, 55, 56, 57, 58, 59, 60, 61, 62, 63, 64, 65, 66, 67, 68, 69, 70, 71, 72, 73, 74, 75, 76, 77, 78, 79, 80, 81, 82, 83, 84, 85, 86, 87, 88, 89, 90, 91, 92, 93, 94, 95, 96, 97, 98, 99, 100], \"xaxis\": \"x\", \"y\": [18412.86, 11504.449999999999, 1.0, 1.0, 14784.139999999998, 14648.46, 16185.19, 12186.19, 13186.09, 13186.09, 14686.09, 14686.09, 15685.99, 15685.99, 7839.2, 10187.09, 17985.1, 17985.1, 20485.0, 17985.1, 14986.1, 18293.760000000002, 17985.1, 16985.2, 17985.1, 17985.1, 10639.11, 20485.0, 18293.760000000002, 15985.2, 16985.2, 17295.67, 20793.66, 18293.760000000002, 12774.869999999999, 13487.0, 15486.1, 9140.01, 19185.809999999998, 15486.1, 19838.62, 19838.62, 19838.62, 16863.96, 19485.1, 16557.11, 15557.210000000001, 19185.809999999998, 20363.760000000002, 23185.710000000003, 24334.000000000004, 19793.760000000002, 17535.45, 20793.66, 23485.000000000004, 19793.760000000002, 19138.010000000002, 23793.660000000003, 23185.710000000003, 23185.710000000003, 23185.710000000003, 23485.000000000004, 23485.000000000004, 23485.000000000004, 23485.000000000004, 23684.900000000005, 23904.100000000002, 20573.88, 20573.88, 23055.100000000002, 19485.1, 23485.000000000004, 23385.610000000004, 21274.489999999998, 21274.489999999998, 22755.81, 23485.000000000004, 22755.81, 23185.710000000003, 18755.91, 23055.100000000002, 20573.88, 19756.809999999998, 16845.69, 23185.710000000003, 20056.1, 23055.100000000002, 23955.7, 23955.7, 20956.7, 19756.809999999998, 24385.600000000002, 21044.579999999998, 24385.600000000002, 24385.600000000002, 22755.81, 19608.71, 23055.100000000002, 23055.100000000002, 21044.579999999998, 24385.600000000002], \"yaxis\": \"y\"}],\n",
              "                        {\"legend\": {\"tracegroupgap\": 0}, \"template\": {\"data\": {\"bar\": [{\"error_x\": {\"color\": \"#2a3f5f\"}, \"error_y\": {\"color\": \"#2a3f5f\"}, \"marker\": {\"line\": {\"color\": \"#E5ECF6\", \"width\": 0.5}}, \"type\": \"bar\"}], \"barpolar\": [{\"marker\": {\"line\": {\"color\": \"#E5ECF6\", \"width\": 0.5}}, \"type\": \"barpolar\"}], \"carpet\": [{\"aaxis\": {\"endlinecolor\": \"#2a3f5f\", \"gridcolor\": \"white\", \"linecolor\": \"white\", \"minorgridcolor\": \"white\", \"startlinecolor\": \"#2a3f5f\"}, \"baxis\": {\"endlinecolor\": \"#2a3f5f\", \"gridcolor\": \"white\", \"linecolor\": \"white\", \"minorgridcolor\": \"white\", \"startlinecolor\": \"#2a3f5f\"}, \"type\": \"carpet\"}], \"choropleth\": [{\"colorbar\": {\"outlinewidth\": 0, \"ticks\": \"\"}, \"type\": \"choropleth\"}], \"contour\": [{\"colorbar\": {\"outlinewidth\": 0, \"ticks\": \"\"}, \"colorscale\": [[0.0, \"#0d0887\"], [0.1111111111111111, \"#46039f\"], [0.2222222222222222, \"#7201a8\"], [0.3333333333333333, \"#9c179e\"], [0.4444444444444444, \"#bd3786\"], [0.5555555555555556, \"#d8576b\"], [0.6666666666666666, \"#ed7953\"], [0.7777777777777778, \"#fb9f3a\"], [0.8888888888888888, \"#fdca26\"], [1.0, \"#f0f921\"]], \"type\": \"contour\"}], \"contourcarpet\": [{\"colorbar\": {\"outlinewidth\": 0, \"ticks\": \"\"}, \"type\": \"contourcarpet\"}], \"heatmap\": [{\"colorbar\": {\"outlinewidth\": 0, \"ticks\": \"\"}, \"colorscale\": [[0.0, \"#0d0887\"], [0.1111111111111111, \"#46039f\"], [0.2222222222222222, \"#7201a8\"], [0.3333333333333333, \"#9c179e\"], [0.4444444444444444, \"#bd3786\"], [0.5555555555555556, \"#d8576b\"], [0.6666666666666666, \"#ed7953\"], [0.7777777777777778, \"#fb9f3a\"], [0.8888888888888888, \"#fdca26\"], [1.0, \"#f0f921\"]], \"type\": \"heatmap\"}], \"heatmapgl\": [{\"colorbar\": {\"outlinewidth\": 0, \"ticks\": \"\"}, \"colorscale\": [[0.0, \"#0d0887\"], [0.1111111111111111, \"#46039f\"], [0.2222222222222222, \"#7201a8\"], [0.3333333333333333, \"#9c179e\"], [0.4444444444444444, \"#bd3786\"], [0.5555555555555556, \"#d8576b\"], [0.6666666666666666, \"#ed7953\"], [0.7777777777777778, \"#fb9f3a\"], [0.8888888888888888, \"#fdca26\"], [1.0, \"#f0f921\"]], \"type\": \"heatmapgl\"}], \"histogram\": [{\"marker\": {\"colorbar\": {\"outlinewidth\": 0, \"ticks\": \"\"}}, \"type\": \"histogram\"}], \"histogram2d\": [{\"colorbar\": {\"outlinewidth\": 0, \"ticks\": \"\"}, \"colorscale\": [[0.0, \"#0d0887\"], [0.1111111111111111, \"#46039f\"], [0.2222222222222222, \"#7201a8\"], [0.3333333333333333, \"#9c179e\"], [0.4444444444444444, \"#bd3786\"], [0.5555555555555556, \"#d8576b\"], [0.6666666666666666, \"#ed7953\"], [0.7777777777777778, \"#fb9f3a\"], [0.8888888888888888, \"#fdca26\"], [1.0, \"#f0f921\"]], \"type\": \"histogram2d\"}], \"histogram2dcontour\": [{\"colorbar\": {\"outlinewidth\": 0, \"ticks\": \"\"}, \"colorscale\": [[0.0, \"#0d0887\"], [0.1111111111111111, \"#46039f\"], [0.2222222222222222, \"#7201a8\"], [0.3333333333333333, \"#9c179e\"], [0.4444444444444444, \"#bd3786\"], [0.5555555555555556, \"#d8576b\"], [0.6666666666666666, \"#ed7953\"], [0.7777777777777778, \"#fb9f3a\"], [0.8888888888888888, \"#fdca26\"], [1.0, \"#f0f921\"]], \"type\": \"histogram2dcontour\"}], \"mesh3d\": [{\"colorbar\": {\"outlinewidth\": 0, \"ticks\": \"\"}, \"type\": \"mesh3d\"}], \"parcoords\": [{\"line\": {\"colorbar\": {\"outlinewidth\": 0, \"ticks\": \"\"}}, \"type\": \"parcoords\"}], \"pie\": [{\"automargin\": true, \"type\": \"pie\"}], \"scatter\": [{\"marker\": {\"colorbar\": {\"outlinewidth\": 0, \"ticks\": \"\"}}, \"type\": \"scatter\"}], \"scatter3d\": [{\"line\": {\"colorbar\": {\"outlinewidth\": 0, \"ticks\": \"\"}}, \"marker\": {\"colorbar\": {\"outlinewidth\": 0, \"ticks\": \"\"}}, \"type\": \"scatter3d\"}], \"scattercarpet\": [{\"marker\": {\"colorbar\": {\"outlinewidth\": 0, \"ticks\": \"\"}}, \"type\": \"scattercarpet\"}], \"scattergeo\": [{\"marker\": {\"colorbar\": {\"outlinewidth\": 0, \"ticks\": \"\"}}, \"type\": \"scattergeo\"}], \"scattergl\": [{\"marker\": {\"colorbar\": {\"outlinewidth\": 0, \"ticks\": \"\"}}, \"type\": \"scattergl\"}], \"scattermapbox\": [{\"marker\": {\"colorbar\": {\"outlinewidth\": 0, \"ticks\": \"\"}}, \"type\": \"scattermapbox\"}], \"scatterpolar\": [{\"marker\": {\"colorbar\": {\"outlinewidth\": 0, \"ticks\": \"\"}}, \"type\": \"scatterpolar\"}], \"scatterpolargl\": [{\"marker\": {\"colorbar\": {\"outlinewidth\": 0, \"ticks\": \"\"}}, \"type\": \"scatterpolargl\"}], \"scatterternary\": [{\"marker\": {\"colorbar\": {\"outlinewidth\": 0, \"ticks\": \"\"}}, \"type\": \"scatterternary\"}], \"surface\": [{\"colorbar\": {\"outlinewidth\": 0, \"ticks\": \"\"}, \"colorscale\": [[0.0, \"#0d0887\"], [0.1111111111111111, \"#46039f\"], [0.2222222222222222, \"#7201a8\"], [0.3333333333333333, \"#9c179e\"], [0.4444444444444444, \"#bd3786\"], [0.5555555555555556, \"#d8576b\"], [0.6666666666666666, \"#ed7953\"], [0.7777777777777778, \"#fb9f3a\"], [0.8888888888888888, \"#fdca26\"], [1.0, \"#f0f921\"]], \"type\": \"surface\"}], \"table\": [{\"cells\": {\"fill\": {\"color\": \"#EBF0F8\"}, \"line\": {\"color\": \"white\"}}, \"header\": {\"fill\": {\"color\": \"#C8D4E3\"}, \"line\": {\"color\": \"white\"}}, \"type\": \"table\"}]}, \"layout\": {\"annotationdefaults\": {\"arrowcolor\": \"#2a3f5f\", \"arrowhead\": 0, \"arrowwidth\": 1}, \"coloraxis\": {\"colorbar\": {\"outlinewidth\": 0, \"ticks\": \"\"}}, \"colorscale\": {\"diverging\": [[0, \"#8e0152\"], [0.1, \"#c51b7d\"], [0.2, \"#de77ae\"], [0.3, \"#f1b6da\"], [0.4, \"#fde0ef\"], [0.5, \"#f7f7f7\"], [0.6, \"#e6f5d0\"], [0.7, \"#b8e186\"], [0.8, \"#7fbc41\"], [0.9, \"#4d9221\"], [1, \"#276419\"]], \"sequential\": [[0.0, \"#0d0887\"], [0.1111111111111111, \"#46039f\"], [0.2222222222222222, \"#7201a8\"], [0.3333333333333333, \"#9c179e\"], [0.4444444444444444, \"#bd3786\"], [0.5555555555555556, \"#d8576b\"], [0.6666666666666666, \"#ed7953\"], [0.7777777777777778, \"#fb9f3a\"], [0.8888888888888888, \"#fdca26\"], [1.0, \"#f0f921\"]], \"sequentialminus\": [[0.0, \"#0d0887\"], [0.1111111111111111, \"#46039f\"], [0.2222222222222222, \"#7201a8\"], [0.3333333333333333, \"#9c179e\"], [0.4444444444444444, \"#bd3786\"], [0.5555555555555556, \"#d8576b\"], [0.6666666666666666, \"#ed7953\"], [0.7777777777777778, \"#fb9f3a\"], [0.8888888888888888, \"#fdca26\"], [1.0, \"#f0f921\"]]}, \"colorway\": [\"#636efa\", \"#EF553B\", \"#00cc96\", \"#ab63fa\", \"#FFA15A\", \"#19d3f3\", \"#FF6692\", \"#B6E880\", \"#FF97FF\", \"#FECB52\"], \"font\": {\"color\": \"#2a3f5f\"}, \"geo\": {\"bgcolor\": \"white\", \"lakecolor\": \"white\", \"landcolor\": \"#E5ECF6\", \"showlakes\": true, \"showland\": true, \"subunitcolor\": \"white\"}, \"hoverlabel\": {\"align\": \"left\"}, \"hovermode\": \"closest\", \"mapbox\": {\"style\": \"light\"}, \"paper_bgcolor\": \"white\", \"plot_bgcolor\": \"#E5ECF6\", \"polar\": {\"angularaxis\": {\"gridcolor\": \"white\", \"linecolor\": \"white\", \"ticks\": \"\"}, \"bgcolor\": \"#E5ECF6\", \"radialaxis\": {\"gridcolor\": \"white\", \"linecolor\": \"white\", \"ticks\": \"\"}}, \"scene\": {\"xaxis\": {\"backgroundcolor\": \"#E5ECF6\", \"gridcolor\": \"white\", \"gridwidth\": 2, \"linecolor\": \"white\", \"showbackground\": true, \"ticks\": \"\", \"zerolinecolor\": \"white\"}, \"yaxis\": {\"backgroundcolor\": \"#E5ECF6\", \"gridcolor\": \"white\", \"gridwidth\": 2, \"linecolor\": \"white\", \"showbackground\": true, \"ticks\": \"\", \"zerolinecolor\": \"white\"}, \"zaxis\": {\"backgroundcolor\": \"#E5ECF6\", \"gridcolor\": \"white\", \"gridwidth\": 2, \"linecolor\": \"white\", \"showbackground\": true, \"ticks\": \"\", \"zerolinecolor\": \"white\"}}, \"shapedefaults\": {\"line\": {\"color\": \"#2a3f5f\"}}, \"ternary\": {\"aaxis\": {\"gridcolor\": \"white\", \"linecolor\": \"white\", \"ticks\": \"\"}, \"baxis\": {\"gridcolor\": \"white\", \"linecolor\": \"white\", \"ticks\": \"\"}, \"bgcolor\": \"#E5ECF6\", \"caxis\": {\"gridcolor\": \"white\", \"linecolor\": \"white\", \"ticks\": \"\"}}, \"title\": {\"x\": 0.05}, \"xaxis\": {\"automargin\": true, \"gridcolor\": \"white\", \"linecolor\": \"white\", \"ticks\": \"\", \"title\": {\"standoff\": 15}, \"zerolinecolor\": \"white\", \"zerolinewidth\": 2}, \"yaxis\": {\"automargin\": true, \"gridcolor\": \"white\", \"linecolor\": \"white\", \"ticks\": \"\", \"title\": {\"standoff\": 15}, \"zerolinecolor\": \"white\", \"zerolinewidth\": 2}}}, \"title\": {\"text\": \"Genetic algorithm results\"}, \"xaxis\": {\"anchor\": \"y\", \"domain\": [0.0, 1.0], \"title\": {\"text\": \"x\"}}, \"yaxis\": {\"anchor\": \"x\", \"domain\": [0.0, 1.0], \"title\": {\"text\": \"y\"}}},\n",
              "                        {\"responsive\": true}\n",
              "                    ).then(function(){\n",
              "                            \n",
              "var gd = document.getElementById('77c7b2b3-9cf6-4a42-90ab-551e09bec236');\n",
              "var x = new MutationObserver(function (mutations, observer) {{\n",
              "        var display = window.getComputedStyle(gd).display;\n",
              "        if (!display || display === 'none') {{\n",
              "            console.log([gd, 'removed!']);\n",
              "            Plotly.purge(gd);\n",
              "            observer.disconnect();\n",
              "        }}\n",
              "}});\n",
              "\n",
              "// Listen for the removal of the full notebook cells\n",
              "var notebookContainer = gd.closest('#notebook-container');\n",
              "if (notebookContainer) {{\n",
              "    x.observe(notebookContainer, {childList: true});\n",
              "}}\n",
              "\n",
              "// Listen for the clearing of the current output cell\n",
              "var outputEl = gd.closest('.output');\n",
              "if (outputEl) {{\n",
              "    x.observe(outputEl, {childList: true});\n",
              "}}\n",
              "\n",
              "                        })\n",
              "                };\n",
              "                \n",
              "            </script>\n",
              "        </div>\n",
              "</body>\n",
              "</html>"
            ]
          },
          "metadata": {}
        }
      ]
    },
    {
      "cell_type": "markdown",
      "metadata": {
        "id": "aM4ZkdnbxIKM"
      },
      "source": [
        "# DEAP library - transport of products\n",
        "\n",
        "- https://github.com/deap/deap"
      ]
    },
    {
      "cell_type": "code",
      "metadata": {
        "colab": {
          "base_uri": "https://localhost:8080/"
        },
        "id": "lNq6ksn8xLXr",
        "outputId": "cb4c29a7-6060-438c-8984-45e9bdd631d8"
      },
      "source": [
        "!pip install deap\n",
        "#pip install deap == 1.3.1"
      ],
      "execution_count": null,
      "outputs": [
        {
          "output_type": "stream",
          "name": "stdout",
          "text": [
            "Collecting deap\n",
            "  Downloading deap-1.3.1-cp37-cp37m-manylinux_2_5_x86_64.manylinux1_x86_64.manylinux_2_12_x86_64.manylinux2010_x86_64.whl (160 kB)\n",
            "\u001b[?25l\r\u001b[K     |██                              | 10 kB 24.4 MB/s eta 0:00:01\r\u001b[K     |████                            | 20 kB 12.9 MB/s eta 0:00:01\r\u001b[K     |██████                          | 30 kB 9.9 MB/s eta 0:00:01\r\u001b[K     |████████▏                       | 40 kB 8.9 MB/s eta 0:00:01\r\u001b[K     |██████████▏                     | 51 kB 5.0 MB/s eta 0:00:01\r\u001b[K     |████████████▏                   | 61 kB 5.6 MB/s eta 0:00:01\r\u001b[K     |██████████████▎                 | 71 kB 5.5 MB/s eta 0:00:01\r\u001b[K     |████████████████▎               | 81 kB 6.2 MB/s eta 0:00:01\r\u001b[K     |██████████████████▎             | 92 kB 6.1 MB/s eta 0:00:01\r\u001b[K     |████████████████████▍           | 102 kB 5.1 MB/s eta 0:00:01\r\u001b[K     |██████████████████████▍         | 112 kB 5.1 MB/s eta 0:00:01\r\u001b[K     |████████████████████████▍       | 122 kB 5.1 MB/s eta 0:00:01\r\u001b[K     |██████████████████████████▌     | 133 kB 5.1 MB/s eta 0:00:01\r\u001b[K     |████████████████████████████▌   | 143 kB 5.1 MB/s eta 0:00:01\r\u001b[K     |██████████████████████████████▌ | 153 kB 5.1 MB/s eta 0:00:01\r\u001b[K     |████████████████████████████████| 160 kB 5.1 MB/s \n",
            "\u001b[?25hRequirement already satisfied: numpy in /usr/local/lib/python3.7/dist-packages (from deap) (1.19.5)\n",
            "Installing collected packages: deap\n",
            "Successfully installed deap-1.3.1\n"
          ]
        }
      ]
    },
    {
      "cell_type": "code",
      "metadata": {
        "id": "MYG5NNrwynki"
      },
      "source": [
        "class Product():\n",
        "    def __init__(self, name, space, price):\n",
        "        self.name = name\n",
        "        self.space = space\n",
        "        self.price = price"
      ],
      "execution_count": null,
      "outputs": []
    },
    {
      "cell_type": "code",
      "metadata": {
        "id": "9HDXDNffytUq"
      },
      "source": [
        "products_list = []\n",
        "products_list.append(Product(\"Refrigerator A\", 0.751, 999.90))\n",
        "products_list.append(Product(\"Cell phone\", 0.0000899, 2911.12))\n",
        "products_list.append(Product(\"TV 55' \", 0.400, 4346.99))\n",
        "products_list.append(Product(\"TV 50' \", 0.290, 3999.90))\n",
        "products_list.append(Product(\"TV 42' \", 0.200, 2999.00))\n",
        "products_list.append(Product(\"Notebook A\", 0.00350, 2499.90))\n",
        "products_list.append(Product(\"Ventilator\", 0.496, 199.90))\n",
        "products_list.append(Product(\"Microwave A\", 0.0424, 308.66))\n",
        "products_list.append(Product(\"Microwave B\", 0.0544, 429.90))\n",
        "products_list.append(Product(\"Microwave C\", 0.0319, 299.29))\n",
        "products_list.append(Product(\"Refrigerator B\", 0.635, 849.00))\n",
        "products_list.append(Product(\"Refrigerator C\", 0.870, 1199.89))\n",
        "products_list.append(Product(\"Notebook B\", 0.498, 1999.90))\n",
        "products_list.append(Product(\"Notebook C\", 0.527, 3999.00))\n",
        "spaces = []\n",
        "prices = []\n",
        "names = []\n",
        "for product in products_list:\n",
        "  spaces.append(product.space)\n",
        "  prices.append(product.price)\n",
        "  names.append(product.name)\n",
        "limit = 3\n",
        "population_size = 20\n",
        "mutation_probability = 0.01\n",
        "number_of_generations = 100 "
      ],
      "execution_count": null,
      "outputs": []
    },
    {
      "cell_type": "code",
      "metadata": {
        "id": "ndSjWluCy4Sb"
      },
      "source": [
        "import numpy\n",
        "import random\n",
        "from deap import base\n",
        "from deap import creator\n",
        "from deap import algorithms\n",
        "from deap import tools"
      ],
      "execution_count": null,
      "outputs": []
    },
    {
      "cell_type": "code",
      "metadata": {
        "id": "p_W4tiSZzGrs"
      },
      "source": [
        "# [0, 1, 1, 1, 1, 1, 0, 1, 1, 1, 0, 1, 1, 1]\n",
        "def fitness(solution):\n",
        "  cost = 0\n",
        "  sum_space = 0\n",
        "  for i in range(len(solution)):\n",
        "    if solution[i] == 1:\n",
        "      cost += prices[i]\n",
        "      sum_space += spaces[i]\n",
        "  if sum_space > limit:\n",
        "    cost = 1\n",
        "  return cost,"
      ],
      "execution_count": null,
      "outputs": []
    },
    {
      "cell_type": "code",
      "metadata": {
        "id": "1x5JDwrtz1EI"
      },
      "source": [
        "toolbox = base.Toolbox()\n",
        "creator.create('FitnessMax', base.Fitness, weights=(1.0,))\n",
        "creator.create('Individual', list, fitness=creator.FitnessMax)"
      ],
      "execution_count": null,
      "outputs": []
    },
    {
      "cell_type": "code",
      "metadata": {
        "id": "zSJgddwL0hbd"
      },
      "source": [
        "toolbox.register('attr_bool', random.randint, 0, 1)\n",
        "toolbox.register('individual', tools.initRepeat, creator.Individual, toolbox.attr_bool, n=14)\n",
        "toolbox.register('population', tools.initRepeat, list, toolbox.individual)\n",
        "toolbox.register('evaluate', fitness)\n",
        "toolbox.register('mate', tools.cxOnePoint)\n",
        "toolbox.register('mutate', tools.mutFlipBit, indpb = 0.01)\n",
        "toolbox.register('select', tools.selRoulette)"
      ],
      "execution_count": null,
      "outputs": []
    },
    {
      "cell_type": "code",
      "metadata": {
        "colab": {
          "base_uri": "https://localhost:8080/"
        },
        "id": "9PDmxFSg3bKQ",
        "outputId": "dfb2e5cf-3bfd-431c-b390-c3aac9b0a554"
      },
      "source": [
        "population = toolbox.population(n = 20)\n",
        "crossover_probability = 1.0\n",
        "number_of_generations = 100\n",
        "\n",
        "statistics = tools.Statistics(key = lambda individual: individual.fitness.values)\n",
        "statistics.register('max', numpy.max)\n",
        "statistics.register('min', numpy.min)\n",
        "statistics.register('med', numpy.mean)\n",
        "statistics.register('std', numpy.std)\n",
        "\n",
        "population, info = algorithms.eaSimple(population, toolbox, crossover_probability, mutation_probability,\n",
        "                                       number_of_generations, statistics)"
      ],
      "execution_count": null,
      "outputs": [
        {
          "output_type": "stream",
          "name": "stdout",
          "text": [
            "gen\tnevals\tmax    \tmin\tmed    \tstd    \n",
            "0  \t20    \t16995.5\t1  \t9871.51\t6182.37\n",
            "1  \t20    \t18195.3\t1  \t9956.41\t5757.5 \n",
            "2  \t20    \t17283.2\t1  \t10644.3\t4672.78\n",
            "3  \t20    \t20194.4\t7776.69\t13039  \t3760.04\n",
            "4  \t20    \t21255.1\t1      \t14386.1\t5365.76\n",
            "5  \t20    \t21255.1\t11105.8\t16910.9\t3191.31\n",
            "6  \t20    \t22694.3\t10909.1\t18033.2\t2986.47\n",
            "7  \t20    \t22694.3\t12756.2\t18044.8\t2680.06\n",
            "8  \t20    \t22255  \t14755.3\t18900.4\t1896.69\n",
            "9  \t20    \t22255  \t1      \t16358.7\t7091.34\n",
            "10 \t20    \t22385.6\t15386.7\t19164.9\t2045.09\n",
            "11 \t20    \t21255.1\t1      \t17445.7\t4595.73\n",
            "12 \t20    \t22255  \t13275.6\t18478.8\t2670.15\n",
            "13 \t20    \t22255  \t15386.7\t19785.9\t2070.12\n",
            "14 \t20    \t22385.6\t1      \t18115.3\t4968.94\n",
            "15 \t20    \t23034.7\t15486.1\t19938.5\t2137.81\n",
            "16 \t20    \t22684.9\t15344  \t20143.4\t1964.62\n",
            "17 \t20    \t23034.7\t15344  \t19950.4\t2496.39\n",
            "18 \t20    \t22485  \t1      \t19255.4\t5079.27\n",
            "19 \t20    \t22684.9\t13774.8\t20753.1\t2247.7 \n",
            "20 \t20    \t22684.9\t1      \t19435.5\t5158.16\n",
            "21 \t20    \t22684.9\t11345  \t20198.3\t2595.89\n",
            "22 \t20    \t22684.9\t15145  \t20524.7\t2316.25\n",
            "23 \t20    \t22684.9\t18055.2\t21656.1\t1514.2 \n",
            "24 \t20    \t22684.9\t18056.1\t21707.6\t1494.93\n",
            "25 \t20    \t22684.9\t18056.1\t21343.3\t1692.53\n",
            "26 \t20    \t22684.9\t18056.1\t21101.9\t1834.76\n",
            "27 \t20    \t22684.9\t18056.1\t21466.3\t1781.46\n",
            "28 \t20    \t22684.9\t18056.1\t21431.7\t1795.58\n",
            "29 \t20    \t22684.9\t18256  \t20813.4\t1902.16\n",
            "30 \t20    \t22684.9\t18256  \t20950.4\t1762.24\n",
            "31 \t20    \t22684.9\t18056.1\t21645.7\t1380.53\n",
            "32 \t20    \t22684.9\t18056.1\t21444.2\t1556.71\n",
            "33 \t20    \t22684.9\t18056.1\t21338.3\t1649.13\n",
            "34 \t20    \t22684.9\t18056.1\t21569.7\t1489.33\n",
            "35 \t20    \t22684.9\t18056.1\t21758.2\t1248.47\n",
            "36 \t20    \t22684.9\t18056.1\t22021.1\t941.151\n",
            "37 \t20    \t22684.9\t18056.1\t21969.6\t920.43 \n",
            "38 \t20    \t22684.9\t18056.1\t21496.7\t1452.19\n",
            "39 \t20    \t22684.9\t22055.1\t22149.6\t224.884\n",
            "40 \t20    \t22684.9\t22055.1\t22118.1\t188.94 \n",
            "41 \t20    \t22684.9\t22055.1\t22118.1\t164.635\n",
            "42 \t20    \t22485  \t22055.1\t22128.1\t138.384\n",
            "43 \t20    \t22485  \t22055.1\t22136.6\t120.798\n",
            "44 \t20    \t22485  \t22055.1\t22136.6\t120.798\n",
            "45 \t20    \t22485  \t22055.1\t22191.1\t168.728\n",
            "46 \t20    \t22485  \t22055.1\t22169.6\t156.879\n",
            "47 \t20    \t22485  \t22055.1\t22178  \t139.1  \n",
            "48 \t20    \t22684.9\t22055.1\t22169.6\t182.222\n",
            "49 \t20    \t22485  \t22055.1\t22149.6\t157.453\n",
            "50 \t20    \t22485  \t22055.1\t22096.6\t107.311\n",
            "51 \t20    \t22485  \t22055.1\t22138.1\t139.962\n",
            "52 \t20    \t22485  \t22055.1\t22169.6\t156.879\n",
            "53 \t20    \t22485  \t22055.1\t22181.1\t170.555\n",
            "54 \t20    \t22485  \t22055.1\t22202.6\t180.146\n",
            "55 \t20    \t22485  \t22055.1\t22148.1\t140.815\n",
            "56 \t20    \t22485  \t22055.1\t22148.1\t140.815\n",
            "57 \t20    \t22485  \t22055.1\t22086.6\t101.228\n",
            "58 \t20    \t22485  \t22055.1\t22076.6\t93.6945\n",
            "59 \t20    \t22055.1\t22055.1\t22055.1\t3.63798e-12\n",
            "60 \t20    \t22055.1\t22055.1\t22055.1\t3.63798e-12\n",
            "61 \t20    \t22055.1\t22055.1\t22055.1\t3.63798e-12\n",
            "62 \t20    \t22055.1\t22055.1\t22055.1\t3.63798e-12\n",
            "63 \t20    \t22055.1\t22055.1\t22055.1\t3.63798e-12\n",
            "64 \t20    \t22055.1\t22055.1\t22055.1\t3.63798e-12\n",
            "65 \t20    \t22055.1\t22055.1\t22055.1\t3.63798e-12\n",
            "66 \t20    \t22055.1\t22055.1\t22055.1\t3.63798e-12\n",
            "67 \t20    \t22055.1\t22055.1\t22055.1\t3.63798e-12\n",
            "68 \t20    \t22055.1\t22055.1\t22055.1\t3.63798e-12\n",
            "69 \t20    \t22055.1\t22055.1\t22055.1\t3.63798e-12\n",
            "70 \t20    \t22055.1\t22055.1\t22055.1\t3.63798e-12\n",
            "71 \t20    \t22055.1\t22055.1\t22055.1\t3.63798e-12\n",
            "72 \t20    \t22055.1\t22055.1\t22055.1\t3.63798e-12\n",
            "73 \t20    \t22055.1\t22055.1\t22055.1\t3.63798e-12\n",
            "74 \t20    \t22055.1\t22055.1\t22055.1\t3.63798e-12\n",
            "75 \t20    \t22055.1\t22055.1\t22055.1\t3.63798e-12\n",
            "76 \t20    \t22055.1\t22055.1\t22055.1\t3.63798e-12\n",
            "77 \t20    \t22055.1\t22055.1\t22055.1\t3.63798e-12\n",
            "78 \t20    \t22055.1\t22055.1\t22055.1\t3.63798e-12\n",
            "79 \t20    \t22055.1\t22055.1\t22055.1\t3.63798e-12\n",
            "80 \t20    \t22055.1\t21055.2\t22005.1\t217.923    \n",
            "81 \t20    \t22055.1\t21055.2\t22005.1\t217.923    \n",
            "82 \t20    \t22055.1\t22055.1\t22055.1\t3.63798e-12\n",
            "83 \t20    \t22055.1\t22055.1\t22055.1\t3.63798e-12\n",
            "84 \t20    \t22055.1\t22055.1\t22055.1\t3.63798e-12\n",
            "85 \t20    \t22055.1\t22055.1\t22055.1\t3.63798e-12\n",
            "86 \t20    \t22055.1\t22055.1\t22055.1\t3.63798e-12\n",
            "87 \t20    \t22055.1\t22055.1\t22055.1\t3.63798e-12\n",
            "88 \t20    \t22055.1\t18055.2\t21855.1\t871.758    \n",
            "89 \t20    \t22055.1\t18055.2\t21855.1\t871.758    \n",
            "90 \t20    \t22055.1\t18055.2\t21655.1\t1199.97    \n",
            "91 \t20    \t22055.1\t18055.2\t21855.1\t871.758    \n",
            "92 \t20    \t22055.1\t18055.2\t21655.1\t1199.97    \n",
            "93 \t20    \t22055.1\t18055.2\t21655.1\t1199.97    \n",
            "94 \t20    \t22055.1\t22055.1\t22055.1\t3.63798e-12\n",
            "95 \t20    \t22055.1\t22055.1\t22055.1\t3.63798e-12\n",
            "96 \t20    \t22055.1\t22055.1\t22055.1\t3.63798e-12\n",
            "97 \t20    \t22055.1\t22055.1\t22055.1\t3.63798e-12\n",
            "98 \t20    \t22055.1\t22055.1\t22055.1\t3.63798e-12\n",
            "99 \t20    \t22055.1\t22055.1\t22055.1\t3.63798e-12\n",
            "100\t20    \t22255  \t22055.1\t22065.1\t43.5672    \n"
          ]
        }
      ]
    },
    {
      "cell_type": "code",
      "metadata": {
        "colab": {
          "base_uri": "https://localhost:8080/"
        },
        "id": "0eUT7ADb5ecP",
        "outputId": "dc8775d2-ba64-4518-a7b9-1e97ee796f14"
      },
      "source": [
        "best_solutions = tools.selBest(population, 1)\n",
        "for individual in best_solutions:\n",
        "  print(individual)\n",
        "  print(individual.fitness)\n",
        "  for i in range(len(individual)):\n",
        "    if individual[i] == 1:\n",
        "      print('Name: ', names[i], ' - Price: ', prices[i])"
      ],
      "execution_count": null,
      "outputs": [
        {
          "output_type": "stream",
          "name": "stdout",
          "text": [
            "[1, 1, 1, 1, 1, 1, 1, 0, 0, 1, 0, 0, 0, 1]\n",
            "(22255.000000000004,)\n",
            "Name:  Refrigerator A  - Price:  999.9\n",
            "Name:  Cell phone  - Price:  2911.12\n",
            "Name:  TV 55'   - Price:  4346.99\n",
            "Name:  TV 50'   - Price:  3999.9\n",
            "Name:  TV 42'   - Price:  2999.0\n",
            "Name:  Notebook A  - Price:  2499.9\n",
            "Name:  Ventilator  - Price:  199.9\n",
            "Name:  Microwave C  - Price:  299.29\n",
            "Name:  Notebook C  - Price:  3999.0\n"
          ]
        }
      ]
    },
    {
      "cell_type": "code",
      "metadata": {
        "colab": {
          "base_uri": "https://localhost:8080/"
        },
        "id": "32qozfa46Y5f",
        "outputId": "f82f86d4-ce72-4d8f-dd01-96c668b076c2"
      },
      "source": [
        "info.select('max')"
      ],
      "execution_count": null,
      "outputs": [
        {
          "output_type": "execute_result",
          "data": {
            "text/plain": [
              "[16995.47,\n",
              " 18195.27,\n",
              " 17283.25,\n",
              " 20194.37,\n",
              " 21255.100000000002,\n",
              " 21255.100000000002,\n",
              " 22694.270000000004,\n",
              " 22694.270000000004,\n",
              " 22255.000000000004,\n",
              " 22255.000000000004,\n",
              " 22385.610000000004,\n",
              " 21255.100000000002,\n",
              " 22255.000000000004,\n",
              " 22255.000000000004,\n",
              " 22385.610000000004,\n",
              " 23034.710000000003,\n",
              " 22684.900000000005,\n",
              " 23034.710000000003,\n",
              " 22485.000000000004,\n",
              " 22684.900000000005,\n",
              " 22684.900000000005,\n",
              " 22684.900000000005,\n",
              " 22684.900000000005,\n",
              " 22684.900000000005,\n",
              " 22684.900000000005,\n",
              " 22684.900000000005,\n",
              " 22684.900000000005,\n",
              " 22684.900000000005,\n",
              " 22684.900000000005,\n",
              " 22684.900000000005,\n",
              " 22684.900000000005,\n",
              " 22684.900000000005,\n",
              " 22684.900000000005,\n",
              " 22684.900000000005,\n",
              " 22684.900000000005,\n",
              " 22684.900000000005,\n",
              " 22684.900000000005,\n",
              " 22684.900000000005,\n",
              " 22684.900000000005,\n",
              " 22684.900000000005,\n",
              " 22684.900000000005,\n",
              " 22684.900000000005,\n",
              " 22485.000000000004,\n",
              " 22485.000000000004,\n",
              " 22485.000000000004,\n",
              " 22485.000000000004,\n",
              " 22485.000000000004,\n",
              " 22485.000000000004,\n",
              " 22684.900000000005,\n",
              " 22485.000000000004,\n",
              " 22485.000000000004,\n",
              " 22485.000000000004,\n",
              " 22485.000000000004,\n",
              " 22485.000000000004,\n",
              " 22485.000000000004,\n",
              " 22485.000000000004,\n",
              " 22485.000000000004,\n",
              " 22485.000000000004,\n",
              " 22485.000000000004,\n",
              " 22055.100000000002,\n",
              " 22055.100000000002,\n",
              " 22055.100000000002,\n",
              " 22055.100000000002,\n",
              " 22055.100000000002,\n",
              " 22055.100000000002,\n",
              " 22055.100000000002,\n",
              " 22055.100000000002,\n",
              " 22055.100000000002,\n",
              " 22055.100000000002,\n",
              " 22055.100000000002,\n",
              " 22055.100000000002,\n",
              " 22055.100000000002,\n",
              " 22055.100000000002,\n",
              " 22055.100000000002,\n",
              " 22055.100000000002,\n",
              " 22055.100000000002,\n",
              " 22055.100000000002,\n",
              " 22055.100000000002,\n",
              " 22055.100000000002,\n",
              " 22055.100000000002,\n",
              " 22055.100000000002,\n",
              " 22055.100000000002,\n",
              " 22055.100000000002,\n",
              " 22055.100000000002,\n",
              " 22055.100000000002,\n",
              " 22055.100000000002,\n",
              " 22055.100000000002,\n",
              " 22055.100000000002,\n",
              " 22055.100000000002,\n",
              " 22055.100000000002,\n",
              " 22055.100000000002,\n",
              " 22055.100000000002,\n",
              " 22055.100000000002,\n",
              " 22055.100000000002,\n",
              " 22055.100000000002,\n",
              " 22055.100000000002,\n",
              " 22055.100000000002,\n",
              " 22055.100000000002,\n",
              " 22055.100000000002,\n",
              " 22055.100000000002,\n",
              " 22255.000000000004]"
            ]
          },
          "metadata": {},
          "execution_count": 21
        }
      ]
    },
    {
      "cell_type": "code",
      "metadata": {
        "colab": {
          "base_uri": "https://localhost:8080/",
          "height": 543
        },
        "id": "Wd-cqOk-6g3n",
        "outputId": "b23d388d-bb62-4468-f1da-446e6f0c329c"
      },
      "source": [
        "import plotly.express as px\n",
        "figure = px.line(x = range(0,101), y = info.select('max'), title = 'Genetic algorithm results')\n",
        "figure.show()"
      ],
      "execution_count": null,
      "outputs": [
        {
          "output_type": "display_data",
          "data": {
            "text/html": [
              "<html>\n",
              "<head><meta charset=\"utf-8\" /></head>\n",
              "<body>\n",
              "    <div>\n",
              "            <script src=\"https://cdnjs.cloudflare.com/ajax/libs/mathjax/2.7.5/MathJax.js?config=TeX-AMS-MML_SVG\"></script><script type=\"text/javascript\">if (window.MathJax) {MathJax.Hub.Config({SVG: {font: \"STIX-Web\"}});}</script>\n",
              "                <script type=\"text/javascript\">window.PlotlyConfig = {MathJaxConfig: 'local'};</script>\n",
              "        <script src=\"https://cdn.plot.ly/plotly-latest.min.js\"></script>    \n",
              "            <div id=\"2b8a6afb-5dd7-45e9-ada0-f8e9c6dee2ad\" class=\"plotly-graph-div\" style=\"height:525px; width:100%;\"></div>\n",
              "            <script type=\"text/javascript\">\n",
              "                \n",
              "                    window.PLOTLYENV=window.PLOTLYENV || {};\n",
              "                    \n",
              "                if (document.getElementById(\"2b8a6afb-5dd7-45e9-ada0-f8e9c6dee2ad\")) {\n",
              "                    Plotly.newPlot(\n",
              "                        '2b8a6afb-5dd7-45e9-ada0-f8e9c6dee2ad',\n",
              "                        [{\"hoverlabel\": {\"namelength\": 0}, \"hovertemplate\": \"x=%{x}<br>y=%{y}\", \"legendgroup\": \"\", \"line\": {\"color\": \"#636efa\", \"dash\": \"solid\"}, \"mode\": \"lines\", \"name\": \"\", \"showlegend\": false, \"type\": \"scatter\", \"x\": [0, 1, 2, 3, 4, 5, 6, 7, 8, 9, 10, 11, 12, 13, 14, 15, 16, 17, 18, 19, 20, 21, 22, 23, 24, 25, 26, 27, 28, 29, 30, 31, 32, 33, 34, 35, 36, 37, 38, 39, 40, 41, 42, 43, 44, 45, 46, 47, 48, 49, 50, 51, 52, 53, 54, 55, 56, 57, 58, 59, 60, 61, 62, 63, 64, 65, 66, 67, 68, 69, 70, 71, 72, 73, 74, 75, 76, 77, 78, 79, 80, 81, 82, 83, 84, 85, 86, 87, 88, 89, 90, 91, 92, 93, 94, 95, 96, 97, 98, 99, 100], \"xaxis\": \"x\", \"y\": [16995.47, 18195.27, 17283.25, 20194.37, 21255.100000000002, 21255.100000000002, 22694.270000000004, 22694.270000000004, 22255.000000000004, 22255.000000000004, 22385.610000000004, 21255.100000000002, 22255.000000000004, 22255.000000000004, 22385.610000000004, 23034.710000000003, 22684.900000000005, 23034.710000000003, 22485.000000000004, 22684.900000000005, 22684.900000000005, 22684.900000000005, 22684.900000000005, 22684.900000000005, 22684.900000000005, 22684.900000000005, 22684.900000000005, 22684.900000000005, 22684.900000000005, 22684.900000000005, 22684.900000000005, 22684.900000000005, 22684.900000000005, 22684.900000000005, 22684.900000000005, 22684.900000000005, 22684.900000000005, 22684.900000000005, 22684.900000000005, 22684.900000000005, 22684.900000000005, 22684.900000000005, 22485.000000000004, 22485.000000000004, 22485.000000000004, 22485.000000000004, 22485.000000000004, 22485.000000000004, 22684.900000000005, 22485.000000000004, 22485.000000000004, 22485.000000000004, 22485.000000000004, 22485.000000000004, 22485.000000000004, 22485.000000000004, 22485.000000000004, 22485.000000000004, 22485.000000000004, 22055.100000000002, 22055.100000000002, 22055.100000000002, 22055.100000000002, 22055.100000000002, 22055.100000000002, 22055.100000000002, 22055.100000000002, 22055.100000000002, 22055.100000000002, 22055.100000000002, 22055.100000000002, 22055.100000000002, 22055.100000000002, 22055.100000000002, 22055.100000000002, 22055.100000000002, 22055.100000000002, 22055.100000000002, 22055.100000000002, 22055.100000000002, 22055.100000000002, 22055.100000000002, 22055.100000000002, 22055.100000000002, 22055.100000000002, 22055.100000000002, 22055.100000000002, 22055.100000000002, 22055.100000000002, 22055.100000000002, 22055.100000000002, 22055.100000000002, 22055.100000000002, 22055.100000000002, 22055.100000000002, 22055.100000000002, 22055.100000000002, 22055.100000000002, 22055.100000000002, 22055.100000000002, 22255.000000000004], \"yaxis\": \"y\"}],\n",
              "                        {\"legend\": {\"tracegroupgap\": 0}, \"template\": {\"data\": {\"bar\": [{\"error_x\": {\"color\": \"#2a3f5f\"}, \"error_y\": {\"color\": \"#2a3f5f\"}, \"marker\": {\"line\": {\"color\": \"#E5ECF6\", \"width\": 0.5}}, \"type\": \"bar\"}], \"barpolar\": [{\"marker\": {\"line\": {\"color\": \"#E5ECF6\", \"width\": 0.5}}, \"type\": \"barpolar\"}], \"carpet\": [{\"aaxis\": {\"endlinecolor\": \"#2a3f5f\", \"gridcolor\": \"white\", \"linecolor\": \"white\", \"minorgridcolor\": \"white\", \"startlinecolor\": \"#2a3f5f\"}, \"baxis\": {\"endlinecolor\": \"#2a3f5f\", \"gridcolor\": \"white\", \"linecolor\": \"white\", \"minorgridcolor\": \"white\", \"startlinecolor\": \"#2a3f5f\"}, \"type\": \"carpet\"}], \"choropleth\": [{\"colorbar\": {\"outlinewidth\": 0, \"ticks\": \"\"}, \"type\": \"choropleth\"}], \"contour\": [{\"colorbar\": {\"outlinewidth\": 0, \"ticks\": \"\"}, \"colorscale\": [[0.0, \"#0d0887\"], [0.1111111111111111, \"#46039f\"], [0.2222222222222222, \"#7201a8\"], [0.3333333333333333, \"#9c179e\"], [0.4444444444444444, \"#bd3786\"], [0.5555555555555556, \"#d8576b\"], [0.6666666666666666, \"#ed7953\"], [0.7777777777777778, \"#fb9f3a\"], [0.8888888888888888, \"#fdca26\"], [1.0, \"#f0f921\"]], \"type\": \"contour\"}], \"contourcarpet\": [{\"colorbar\": {\"outlinewidth\": 0, \"ticks\": \"\"}, \"type\": \"contourcarpet\"}], \"heatmap\": [{\"colorbar\": {\"outlinewidth\": 0, \"ticks\": \"\"}, \"colorscale\": [[0.0, \"#0d0887\"], [0.1111111111111111, \"#46039f\"], [0.2222222222222222, \"#7201a8\"], [0.3333333333333333, \"#9c179e\"], [0.4444444444444444, \"#bd3786\"], [0.5555555555555556, \"#d8576b\"], [0.6666666666666666, \"#ed7953\"], [0.7777777777777778, \"#fb9f3a\"], [0.8888888888888888, \"#fdca26\"], [1.0, \"#f0f921\"]], \"type\": \"heatmap\"}], \"heatmapgl\": [{\"colorbar\": {\"outlinewidth\": 0, \"ticks\": \"\"}, \"colorscale\": [[0.0, \"#0d0887\"], [0.1111111111111111, \"#46039f\"], [0.2222222222222222, \"#7201a8\"], [0.3333333333333333, \"#9c179e\"], [0.4444444444444444, \"#bd3786\"], [0.5555555555555556, \"#d8576b\"], [0.6666666666666666, \"#ed7953\"], [0.7777777777777778, \"#fb9f3a\"], [0.8888888888888888, \"#fdca26\"], [1.0, \"#f0f921\"]], \"type\": \"heatmapgl\"}], \"histogram\": [{\"marker\": {\"colorbar\": {\"outlinewidth\": 0, \"ticks\": \"\"}}, \"type\": \"histogram\"}], \"histogram2d\": [{\"colorbar\": {\"outlinewidth\": 0, \"ticks\": \"\"}, \"colorscale\": [[0.0, \"#0d0887\"], [0.1111111111111111, \"#46039f\"], [0.2222222222222222, \"#7201a8\"], [0.3333333333333333, \"#9c179e\"], [0.4444444444444444, \"#bd3786\"], [0.5555555555555556, \"#d8576b\"], [0.6666666666666666, \"#ed7953\"], [0.7777777777777778, \"#fb9f3a\"], [0.8888888888888888, \"#fdca26\"], [1.0, \"#f0f921\"]], \"type\": \"histogram2d\"}], \"histogram2dcontour\": [{\"colorbar\": {\"outlinewidth\": 0, \"ticks\": \"\"}, \"colorscale\": [[0.0, \"#0d0887\"], [0.1111111111111111, \"#46039f\"], [0.2222222222222222, \"#7201a8\"], [0.3333333333333333, \"#9c179e\"], [0.4444444444444444, \"#bd3786\"], [0.5555555555555556, \"#d8576b\"], [0.6666666666666666, \"#ed7953\"], [0.7777777777777778, \"#fb9f3a\"], [0.8888888888888888, \"#fdca26\"], [1.0, \"#f0f921\"]], \"type\": \"histogram2dcontour\"}], \"mesh3d\": [{\"colorbar\": {\"outlinewidth\": 0, \"ticks\": \"\"}, \"type\": \"mesh3d\"}], \"parcoords\": [{\"line\": {\"colorbar\": {\"outlinewidth\": 0, \"ticks\": \"\"}}, \"type\": \"parcoords\"}], \"pie\": [{\"automargin\": true, \"type\": \"pie\"}], \"scatter\": [{\"marker\": {\"colorbar\": {\"outlinewidth\": 0, \"ticks\": \"\"}}, \"type\": \"scatter\"}], \"scatter3d\": [{\"line\": {\"colorbar\": {\"outlinewidth\": 0, \"ticks\": \"\"}}, \"marker\": {\"colorbar\": {\"outlinewidth\": 0, \"ticks\": \"\"}}, \"type\": \"scatter3d\"}], \"scattercarpet\": [{\"marker\": {\"colorbar\": {\"outlinewidth\": 0, \"ticks\": \"\"}}, \"type\": \"scattercarpet\"}], \"scattergeo\": [{\"marker\": {\"colorbar\": {\"outlinewidth\": 0, \"ticks\": \"\"}}, \"type\": \"scattergeo\"}], \"scattergl\": [{\"marker\": {\"colorbar\": {\"outlinewidth\": 0, \"ticks\": \"\"}}, \"type\": \"scattergl\"}], \"scattermapbox\": [{\"marker\": {\"colorbar\": {\"outlinewidth\": 0, \"ticks\": \"\"}}, \"type\": \"scattermapbox\"}], \"scatterpolar\": [{\"marker\": {\"colorbar\": {\"outlinewidth\": 0, \"ticks\": \"\"}}, \"type\": \"scatterpolar\"}], \"scatterpolargl\": [{\"marker\": {\"colorbar\": {\"outlinewidth\": 0, \"ticks\": \"\"}}, \"type\": \"scatterpolargl\"}], \"scatterternary\": [{\"marker\": {\"colorbar\": {\"outlinewidth\": 0, \"ticks\": \"\"}}, \"type\": \"scatterternary\"}], \"surface\": [{\"colorbar\": {\"outlinewidth\": 0, \"ticks\": \"\"}, \"colorscale\": [[0.0, \"#0d0887\"], [0.1111111111111111, \"#46039f\"], [0.2222222222222222, \"#7201a8\"], [0.3333333333333333, \"#9c179e\"], [0.4444444444444444, \"#bd3786\"], [0.5555555555555556, \"#d8576b\"], [0.6666666666666666, \"#ed7953\"], [0.7777777777777778, \"#fb9f3a\"], [0.8888888888888888, \"#fdca26\"], [1.0, \"#f0f921\"]], \"type\": \"surface\"}], \"table\": [{\"cells\": {\"fill\": {\"color\": \"#EBF0F8\"}, \"line\": {\"color\": \"white\"}}, \"header\": {\"fill\": {\"color\": \"#C8D4E3\"}, \"line\": {\"color\": \"white\"}}, \"type\": \"table\"}]}, \"layout\": {\"annotationdefaults\": {\"arrowcolor\": \"#2a3f5f\", \"arrowhead\": 0, \"arrowwidth\": 1}, \"coloraxis\": {\"colorbar\": {\"outlinewidth\": 0, \"ticks\": \"\"}}, \"colorscale\": {\"diverging\": [[0, \"#8e0152\"], [0.1, \"#c51b7d\"], [0.2, \"#de77ae\"], [0.3, \"#f1b6da\"], [0.4, \"#fde0ef\"], [0.5, \"#f7f7f7\"], [0.6, \"#e6f5d0\"], [0.7, \"#b8e186\"], [0.8, \"#7fbc41\"], [0.9, \"#4d9221\"], [1, \"#276419\"]], \"sequential\": [[0.0, \"#0d0887\"], [0.1111111111111111, \"#46039f\"], [0.2222222222222222, \"#7201a8\"], [0.3333333333333333, \"#9c179e\"], [0.4444444444444444, \"#bd3786\"], [0.5555555555555556, \"#d8576b\"], [0.6666666666666666, \"#ed7953\"], [0.7777777777777778, \"#fb9f3a\"], [0.8888888888888888, \"#fdca26\"], [1.0, \"#f0f921\"]], \"sequentialminus\": [[0.0, \"#0d0887\"], [0.1111111111111111, \"#46039f\"], [0.2222222222222222, \"#7201a8\"], [0.3333333333333333, \"#9c179e\"], [0.4444444444444444, \"#bd3786\"], [0.5555555555555556, \"#d8576b\"], [0.6666666666666666, \"#ed7953\"], [0.7777777777777778, \"#fb9f3a\"], [0.8888888888888888, \"#fdca26\"], [1.0, \"#f0f921\"]]}, \"colorway\": [\"#636efa\", \"#EF553B\", \"#00cc96\", \"#ab63fa\", \"#FFA15A\", \"#19d3f3\", \"#FF6692\", \"#B6E880\", \"#FF97FF\", \"#FECB52\"], \"font\": {\"color\": \"#2a3f5f\"}, \"geo\": {\"bgcolor\": \"white\", \"lakecolor\": \"white\", \"landcolor\": \"#E5ECF6\", \"showlakes\": true, \"showland\": true, \"subunitcolor\": \"white\"}, \"hoverlabel\": {\"align\": \"left\"}, \"hovermode\": \"closest\", \"mapbox\": {\"style\": \"light\"}, \"paper_bgcolor\": \"white\", \"plot_bgcolor\": \"#E5ECF6\", \"polar\": {\"angularaxis\": {\"gridcolor\": \"white\", \"linecolor\": \"white\", \"ticks\": \"\"}, \"bgcolor\": \"#E5ECF6\", \"radialaxis\": {\"gridcolor\": \"white\", \"linecolor\": \"white\", \"ticks\": \"\"}}, \"scene\": {\"xaxis\": {\"backgroundcolor\": \"#E5ECF6\", \"gridcolor\": \"white\", \"gridwidth\": 2, \"linecolor\": \"white\", \"showbackground\": true, \"ticks\": \"\", \"zerolinecolor\": \"white\"}, \"yaxis\": {\"backgroundcolor\": \"#E5ECF6\", \"gridcolor\": \"white\", \"gridwidth\": 2, \"linecolor\": \"white\", \"showbackground\": true, \"ticks\": \"\", \"zerolinecolor\": \"white\"}, \"zaxis\": {\"backgroundcolor\": \"#E5ECF6\", \"gridcolor\": \"white\", \"gridwidth\": 2, \"linecolor\": \"white\", \"showbackground\": true, \"ticks\": \"\", \"zerolinecolor\": \"white\"}}, \"shapedefaults\": {\"line\": {\"color\": \"#2a3f5f\"}}, \"ternary\": {\"aaxis\": {\"gridcolor\": \"white\", \"linecolor\": \"white\", \"ticks\": \"\"}, \"baxis\": {\"gridcolor\": \"white\", \"linecolor\": \"white\", \"ticks\": \"\"}, \"bgcolor\": \"#E5ECF6\", \"caxis\": {\"gridcolor\": \"white\", \"linecolor\": \"white\", \"ticks\": \"\"}}, \"title\": {\"x\": 0.05}, \"xaxis\": {\"automargin\": true, \"gridcolor\": \"white\", \"linecolor\": \"white\", \"ticks\": \"\", \"title\": {\"standoff\": 15}, \"zerolinecolor\": \"white\", \"zerolinewidth\": 2}, \"yaxis\": {\"automargin\": true, \"gridcolor\": \"white\", \"linecolor\": \"white\", \"ticks\": \"\", \"title\": {\"standoff\": 15}, \"zerolinecolor\": \"white\", \"zerolinewidth\": 2}}}, \"title\": {\"text\": \"Genetic algorithm results\"}, \"xaxis\": {\"anchor\": \"y\", \"domain\": [0.0, 1.0], \"title\": {\"text\": \"x\"}}, \"yaxis\": {\"anchor\": \"x\", \"domain\": [0.0, 1.0], \"title\": {\"text\": \"y\"}}},\n",
              "                        {\"responsive\": true}\n",
              "                    ).then(function(){\n",
              "                            \n",
              "var gd = document.getElementById('2b8a6afb-5dd7-45e9-ada0-f8e9c6dee2ad');\n",
              "var x = new MutationObserver(function (mutations, observer) {{\n",
              "        var display = window.getComputedStyle(gd).display;\n",
              "        if (!display || display === 'none') {{\n",
              "            console.log([gd, 'removed!']);\n",
              "            Plotly.purge(gd);\n",
              "            observer.disconnect();\n",
              "        }}\n",
              "}});\n",
              "\n",
              "// Listen for the removal of the full notebook cells\n",
              "var notebookContainer = gd.closest('#notebook-container');\n",
              "if (notebookContainer) {{\n",
              "    x.observe(notebookContainer, {childList: true});\n",
              "}}\n",
              "\n",
              "// Listen for the clearing of the current output cell\n",
              "var outputEl = gd.closest('.output');\n",
              "if (outputEl) {{\n",
              "    x.observe(outputEl, {childList: true});\n",
              "}}\n",
              "\n",
              "                        })\n",
              "                };\n",
              "                \n",
              "            </script>\n",
              "        </div>\n",
              "</body>\n",
              "</html>"
            ]
          },
          "metadata": {}
        }
      ]
    },
    {
      "cell_type": "markdown",
      "metadata": {
        "id": "u_rsSQ_97BaQ"
      },
      "source": [
        "# MLROSe library - transport of products\n",
        "\n",
        "- Documentation: https://mlrose.readthedocs.io/en/stable/source/tutorial1.html#"
      ]
    },
    {
      "cell_type": "code",
      "metadata": {
        "colab": {
          "base_uri": "https://localhost:8080/"
        },
        "id": "u7vQkber7CN0",
        "outputId": "e9711b80-a39a-4e46-dab7-7ee5503d823a"
      },
      "source": [
        "!pip install mlrose\n",
        "#!pip install mlrose == 1.3.0"
      ],
      "execution_count": null,
      "outputs": [
        {
          "output_type": "stream",
          "name": "stdout",
          "text": [
            "Collecting mlrose\n",
            "  Downloading mlrose-1.3.0-py3-none-any.whl (27 kB)\n",
            "Requirement already satisfied: numpy in /usr/local/lib/python3.7/dist-packages (from mlrose) (1.19.5)\n",
            "Requirement already satisfied: scipy in /usr/local/lib/python3.7/dist-packages (from mlrose) (1.4.1)\n",
            "Requirement already satisfied: sklearn in /usr/local/lib/python3.7/dist-packages (from mlrose) (0.0)\n",
            "Requirement already satisfied: scikit-learn in /usr/local/lib/python3.7/dist-packages (from sklearn->mlrose) (0.22.2.post1)\n",
            "Requirement already satisfied: joblib>=0.11 in /usr/local/lib/python3.7/dist-packages (from scikit-learn->sklearn->mlrose) (1.0.1)\n",
            "Installing collected packages: mlrose\n",
            "Successfully installed mlrose-1.3.0\n"
          ]
        }
      ]
    },
    {
      "cell_type": "code",
      "metadata": {
        "id": "vxpT_RQo_A8F"
      },
      "source": [
        "import mlrose"
      ],
      "execution_count": null,
      "outputs": []
    },
    {
      "cell_type": "code",
      "metadata": {
        "id": "Ar22TSxl_H8K"
      },
      "source": [
        "products = [('Refrigerator A', 0.751, 999.90),\n",
        "            ('Cell phone', 0.0000899, 2911.12),\n",
        "            ('TV 55', 0.400, 4346.99),\n",
        "            ('TV 50', 0.290, 3999.90),\n",
        "            ('TV 42', 0.200, 2999.00),\n",
        "            ('Notebook A', 0.00350, 2499.90),\n",
        "            ('Ventilator', 0.496, 199.90),\n",
        "            ('Microwave A', 0.0424, 308.66),\n",
        "            ('Microwave B', 0.0544, 429.90),\n",
        "            ('Microwave C', 0.0319, 299.29),\n",
        "            ('Refrigerator B', 0.635, 849.00),\n",
        "            ('Refrigerator C', 0.870, 1199.89),\n",
        "            ('Notebook B', 0.498, 1999.90),\n",
        "            ('Notebook C', 0.527, 3999.00)]"
      ],
      "execution_count": null,
      "outputs": []
    },
    {
      "cell_type": "code",
      "metadata": {
        "colab": {
          "base_uri": "https://localhost:8080/"
        },
        "id": "B0Z2AnPK_QKG",
        "outputId": "09460769-76cb-4c9c-da76-d064800d5223"
      },
      "source": [
        "products"
      ],
      "execution_count": null,
      "outputs": [
        {
          "output_type": "execute_result",
          "data": {
            "text/plain": [
              "[('Refrigerator A', 0.751, 999.9),\n",
              " ('Cell phone', 8.99e-05, 2911.12),\n",
              " ('TV 55', 0.4, 4346.99),\n",
              " ('TV 50', 0.29, 3999.9),\n",
              " ('TV 42', 0.2, 2999.0),\n",
              " ('Notebook A', 0.0035, 2499.9),\n",
              " ('Ventilator', 0.496, 199.9),\n",
              " ('Microwave A', 0.0424, 308.66),\n",
              " ('Microwave B', 0.0544, 429.9),\n",
              " ('Microwave C', 0.0319, 299.29),\n",
              " ('Refrigerator B', 0.635, 849.0),\n",
              " ('Refrigerator C', 0.87, 1199.89),\n",
              " ('Notebook B', 0.498, 1999.9),\n",
              " ('Notebook C', 0.527, 3999.0)]"
            ]
          },
          "metadata": {},
          "execution_count": 27
        }
      ]
    },
    {
      "cell_type": "code",
      "metadata": {
        "id": "1Mr3ikYt_Sjk"
      },
      "source": [
        "limit = 3"
      ],
      "execution_count": null,
      "outputs": []
    },
    {
      "cell_type": "code",
      "metadata": {
        "id": "RopcQkGM_XMs"
      },
      "source": [
        "def fitness_function(solution):\n",
        "  cost = 0\n",
        "  sum_space = 0\n",
        "  for i in range(len(solution)):\n",
        "    if solution[i] == 1:\n",
        "      cost += products[i][2]\n",
        "      sum_space += products[i][1]\n",
        "  if sum_space > limit:\n",
        "    cost = 1\n",
        "  return cost"
      ],
      "execution_count": null,
      "outputs": []
    },
    {
      "cell_type": "code",
      "metadata": {
        "id": "f1MeTS21_jmd"
      },
      "source": [
        "fitness = mlrose.CustomFitness(fitness_function)"
      ],
      "execution_count": null,
      "outputs": []
    },
    {
      "cell_type": "code",
      "metadata": {
        "colab": {
          "base_uri": "https://localhost:8080/"
        },
        "id": "iSDG8FsU_ynT",
        "outputId": "9b96ae44-084c-414d-c0fd-d3c55aee7280"
      },
      "source": [
        "len(products)"
      ],
      "execution_count": null,
      "outputs": [
        {
          "output_type": "execute_result",
          "data": {
            "text/plain": [
              "14"
            ]
          },
          "metadata": {},
          "execution_count": 32
        }
      ]
    },
    {
      "cell_type": "code",
      "metadata": {
        "id": "a5mWKjD6_rlv"
      },
      "source": [
        "problem = mlrose.DiscreteOpt(length=len(products), fitness_fn=fitness, maximize=True, max_val=2) # 0, 1"
      ],
      "execution_count": null,
      "outputs": []
    },
    {
      "cell_type": "code",
      "metadata": {
        "colab": {
          "base_uri": "https://localhost:8080/"
        },
        "id": "Q3vXKaG0ALfs",
        "outputId": "ed8531bd-10fa-4f8e-bae5-6ba83962be23"
      },
      "source": [
        "best_solution, best_fitness = mlrose.genetic_alg(problem, pop_size=20, mutation_prob=0.01)\n",
        "best_solution, best_fitness"
      ],
      "execution_count": null,
      "outputs": [
        {
          "output_type": "execute_result",
          "data": {
            "text/plain": [
              "(array([0, 1, 1, 1, 1, 1, 1, 0, 1, 1, 0, 0, 1, 1]), 23684.900000000005)"
            ]
          },
          "metadata": {},
          "execution_count": 41
        }
      ]
    },
    {
      "cell_type": "code",
      "metadata": {
        "colab": {
          "base_uri": "https://localhost:8080/"
        },
        "id": "OkXJWW0LA5kj",
        "outputId": "c09011eb-ba6c-43f3-f70e-f0e343801e15"
      },
      "source": [
        "products[1][0], products[1][2]"
      ],
      "execution_count": null,
      "outputs": [
        {
          "output_type": "execute_result",
          "data": {
            "text/plain": [
              "('Cell phone', 2911.12)"
            ]
          },
          "metadata": {},
          "execution_count": 45
        }
      ]
    },
    {
      "cell_type": "code",
      "metadata": {
        "colab": {
          "base_uri": "https://localhost:8080/"
        },
        "id": "ukGb_TG-ArFT",
        "outputId": "5e67595e-75c5-4631-df1f-5af776e763ed"
      },
      "source": [
        "for i in range(len(best_solution)):\n",
        "  if best_solution[i] == 1:\n",
        "    print('Name: ', products[i][0], ' - Price: ', products[i][2])"
      ],
      "execution_count": null,
      "outputs": [
        {
          "output_type": "stream",
          "name": "stdout",
          "text": [
            "Name:  Cell phone  - Price:  2911.12\n",
            "Name:  TV 55  - Price:  4346.99\n",
            "Name:  TV 50  - Price:  3999.9\n",
            "Name:  TV 42  - Price:  2999.0\n",
            "Name:  Notebook A  - Price:  2499.9\n",
            "Name:  Ventilator  - Price:  199.9\n",
            "Name:  Microwave B  - Price:  429.9\n",
            "Name:  Microwave C  - Price:  299.29\n",
            "Name:  Notebook B  - Price:  1999.9\n",
            "Name:  Notebook C  - Price:  3999.0\n"
          ]
        }
      ]
    },
    {
      "cell_type": "markdown",
      "metadata": {
        "id": "Kj6xAssNEHQU"
      },
      "source": [
        "# Flight schedule - representing the problem"
      ]
    },
    {
      "cell_type": "code",
      "metadata": {
        "id": "S2PJJF1fEL3k"
      },
      "source": [
        "people = [('Lisbon', 'LIS'),\n",
        "          ('Madrid', 'MAD'),\n",
        "          ('Paris', 'CDG'),\n",
        "          ('Dublin', 'DUB'),\n",
        "          ('Brussels', 'BRU'),\n",
        "          ('London', 'LHR')]"
      ],
      "execution_count": null,
      "outputs": []
    },
    {
      "cell_type": "code",
      "metadata": {
        "colab": {
          "base_uri": "https://localhost:8080/"
        },
        "id": "nD0lDbVBFjpO",
        "outputId": "c1619353-6e03-4128-89ca-fa6e535ff50b"
      },
      "source": [
        "people"
      ],
      "execution_count": null,
      "outputs": [
        {
          "output_type": "execute_result",
          "data": {
            "text/plain": [
              "[('Lisbon', 'LIS'),\n",
              " ('Madrid', 'MAD'),\n",
              " ('Paris', 'CDG'),\n",
              " ('Dublin', 'DUB'),\n",
              " ('Brussels', 'BRU'),\n",
              " ('London', 'LHR')]"
            ]
          },
          "metadata": {},
          "execution_count": 50
        }
      ]
    },
    {
      "cell_type": "code",
      "metadata": {
        "colab": {
          "base_uri": "https://localhost:8080/"
        },
        "id": "ek1NcbhBFma_",
        "outputId": "9179b2d5-8340-41d6-b9d3-0f889e6c43b2"
      },
      "source": [
        "people[3]"
      ],
      "execution_count": null,
      "outputs": [
        {
          "output_type": "execute_result",
          "data": {
            "text/plain": [
              "('Dublin', 'DUB')"
            ]
          },
          "metadata": {},
          "execution_count": 52
        }
      ]
    },
    {
      "cell_type": "code",
      "metadata": {
        "id": "-zLsjs1zF1q0"
      },
      "source": [
        "destiny = 'FCO'"
      ],
      "execution_count": null,
      "outputs": []
    },
    {
      "cell_type": "code",
      "metadata": {
        "id": "w_T1maMOF6Uj"
      },
      "source": [
        "flights = {('BRU', 'FCO'): ['15:44', '18:55', 382]}"
      ],
      "execution_count": null,
      "outputs": []
    },
    {
      "cell_type": "code",
      "metadata": {
        "colab": {
          "base_uri": "https://localhost:8080/"
        },
        "id": "DFHRmplgGRqy",
        "outputId": "056227e0-a2c5-49b6-a9b3-8039a42a12ac"
      },
      "source": [
        "flights"
      ],
      "execution_count": null,
      "outputs": [
        {
          "output_type": "execute_result",
          "data": {
            "text/plain": [
              "{('BRU', 'FCO'): ['15:44', '18:55', 382]}"
            ]
          },
          "metadata": {},
          "execution_count": 55
        }
      ]
    },
    {
      "cell_type": "code",
      "metadata": {
        "colab": {
          "base_uri": "https://localhost:8080/"
        },
        "id": "glmTvUQaGV0L",
        "outputId": "b61537be-f776-4b08-cbaa-fdb4fab16009"
      },
      "source": [
        "flights[('BRU', 'FCO')]"
      ],
      "execution_count": null,
      "outputs": [
        {
          "output_type": "execute_result",
          "data": {
            "text/plain": [
              "['15:44', '18:55', 382]"
            ]
          },
          "metadata": {},
          "execution_count": 56
        }
      ]
    },
    {
      "cell_type": "code",
      "metadata": {
        "colab": {
          "base_uri": "https://localhost:8080/"
        },
        "id": "56lMqZ7SGhQO",
        "outputId": "41e7290a-a62d-4280-9a18-9110ac3d476d"
      },
      "source": [
        "flights[('BRU', 'FCO')][0], flights[('BRU', 'FCO')][1], flights[('BRU', 'FCO')][2]"
      ],
      "execution_count": null,
      "outputs": [
        {
          "output_type": "execute_result",
          "data": {
            "text/plain": [
              "('15:44', '18:55', 382)"
            ]
          },
          "metadata": {},
          "execution_count": 59
        }
      ]
    },
    {
      "cell_type": "code",
      "metadata": {
        "id": "3inlcjuCHTPn"
      },
      "source": [
        "flights = {}\n",
        "for row in open('flights.txt'):\n",
        "  #print(row)\n",
        "  #print(row.split(','))\n",
        "  origin, destiny, departure, arrival, price = row.split(',')\n",
        "  #print(origin, destiny, departure, arrival, price)\n",
        "  flights.setdefault((origin, destiny), [])\n",
        "  #print(flights)\n",
        "  flights[(origin, destiny)].append((departure, arrival, int(price)))"
      ],
      "execution_count": null,
      "outputs": []
    },
    {
      "cell_type": "code",
      "metadata": {
        "colab": {
          "base_uri": "https://localhost:8080/"
        },
        "id": "j1IDdCPdIoHr",
        "outputId": "f2902b73-f654-44b8-cbb7-412857f80ef3"
      },
      "source": [
        "flights"
      ],
      "execution_count": null,
      "outputs": [
        {
          "output_type": "execute_result",
          "data": {
            "text/plain": [
              "{('BRU', 'FCO'): [('6:12', '10:22', 230),\n",
              "  ('7:53', '11:37', 433),\n",
              "  ('9:08', '12:12', 364),\n",
              "  ('10:30', '14:57', 290),\n",
              "  ('12:19', '15:25', 342),\n",
              "  ('13:54', '18:02', 294),\n",
              "  ('15:44', '18:55', 382),\n",
              "  ('16:52', '20:48', 448),\n",
              "  ('18:26', '21:29', 464),\n",
              "  ('20:07', '23:27', 473)],\n",
              " ('CDG', 'FCO'): [('6:25', '9:30', 335),\n",
              "  ('7:34', '9:40', 324),\n",
              "  ('9:15', '12:29', 225),\n",
              "  ('11:28', '14:40', 248),\n",
              "  ('12:05', '15:30', 330),\n",
              "  ('14:01', '17:24', 338),\n",
              "  ('15:34', '18:11', 326),\n",
              "  ('17:07', '20:04', 291),\n",
              "  ('18:23', '21:35', 134),\n",
              "  ('19:53', '22:21', 173)],\n",
              " ('DUB', 'FCO'): [('6:17', '8:26', 89),\n",
              "  ('8:04', '10:11', 95),\n",
              "  ('9:45', '11:50', 172),\n",
              "  ('11:16', '13:29', 83),\n",
              "  ('12:34', '15:02', 109),\n",
              "  ('13:40', '15:37', 138),\n",
              "  ('15:27', '17:18', 151),\n",
              "  ('17:11', '18:30', 108),\n",
              "  ('18:34', '19:36', 136),\n",
              "  ('20:17', '22:22', 102)],\n",
              " ('FCO', 'BRU'): [('6:09', '9:49', 414),\n",
              "  ('7:57', '11:15', 347),\n",
              "  ('9:49', '13:51', 229),\n",
              "  ('10:51', '14:16', 256),\n",
              "  ('12:20', '16:34', 500),\n",
              "  ('14:20', '17:32', 332),\n",
              "  ('15:49', '20:10', 497),\n",
              "  ('17:14', '20:59', 277),\n",
              "  ('18:44', '22:42', 351),\n",
              "  ('19:57', '23:15', 512)],\n",
              " ('FCO', 'CDG'): [('6:33', '9:14', 172),\n",
              "  ('8:23', '11:07', 143),\n",
              "  ('9:25', '12:46', 295),\n",
              "  ('11:08', '14:38', 262),\n",
              "  ('12:37', '15:05', 170),\n",
              "  ('14:08', '16:09', 232),\n",
              "  ('15:23', '18:49', 150),\n",
              "  ('16:50', '19:26', 304),\n",
              "  ('18:07', '21:30', 355),\n",
              "  ('20:27', '23:42', 169)],\n",
              " ('FCO', 'DUB'): [('6:39', '8:09', 86),\n",
              "  ('8:23', '10:28', 149),\n",
              "  ('9:58', '11:18', 130),\n",
              "  ('10:33', '12:03', 74),\n",
              "  ('12:08', '14:05', 142),\n",
              "  ('13:39', '15:30', 74),\n",
              "  ('15:25', '16:58', 62),\n",
              "  ('17:03', '18:03', 103),\n",
              "  ('18:24', '20:49', 124),\n",
              "  ('19:58', '21:23', 142)],\n",
              " ('FCO', 'LHR'): [('6:58', '9:01', 238),\n",
              "  ('8:19', '11:16', 122),\n",
              "  ('9:58', '12:56', 249),\n",
              "  ('10:32', '13:16', 139),\n",
              "  ('12:01', '13:41', 267),\n",
              "  ('13:37', '15:33', 142),\n",
              "  ('15:50', '18:45', 243),\n",
              "  ('16:33', '18:15', 253),\n",
              "  ('18:17', '21:04', 259),\n",
              "  ('19:46', '21:45', 214)],\n",
              " ('FCO', 'LIS'): [('6:19', '8:13', 239),\n",
              "  ('8:04', '10:59', 136),\n",
              "  ('9:31', '11:43', 210),\n",
              "  ('11:07', '13:24', 171),\n",
              "  ('12:31', '14:02', 234),\n",
              "  ('14:05', '15:47', 226),\n",
              "  ('15:07', '17:21', 129),\n",
              "  ('16:35', '18:56', 144),\n",
              "  ('18:25', '20:34', 205),\n",
              "  ('20:05', '21:44', 172)],\n",
              " ('FCO', 'MAD'): [('6:03', '8:43', 219),\n",
              "  ('7:50', '10:08', 164),\n",
              "  ('9:11', '10:42', 172),\n",
              "  ('10:33', '13:11', 132),\n",
              "  ('12:08', '14:47', 231),\n",
              "  ('14:19', '17:09', 190),\n",
              "  ('15:04', '17:23', 189),\n",
              "  ('17:06', '20:00', 95),\n",
              "  ('18:33', '20:22', 143),\n",
              "  ('19:32', '21:25', 160)],\n",
              " ('LHR', 'FCO'): [('6:08', '8:06', 224),\n",
              "  ('8:27', '10:45', 139),\n",
              "  ('9:15', '12:14', 247),\n",
              "  ('10:53', '13:36', 189),\n",
              "  ('12:08', '14:59', 149),\n",
              "  ('13:40', '15:38', 137),\n",
              "  ('15:23', '17:25', 232),\n",
              "  ('17:08', '19:08', 262),\n",
              "  ('18:35', '20:28', 204),\n",
              "  ('20:30', '23:11', 114)],\n",
              " ('LIS', 'FCO'): [('6:11', '8:31', 249),\n",
              "  ('7:39', '10:24', 219),\n",
              "  ('9:15', '12:03', 99),\n",
              "  ('11:08', '13:07', 175),\n",
              "  ('12:18', '14:56', 172),\n",
              "  ('13:37', '15:08', 250),\n",
              "  ('15:03', '16:42', 135),\n",
              "  ('16:51', '19:09', 147),\n",
              "  ('18:12', '20:17', 242),\n",
              "  ('20:05', '22:06', 261)],\n",
              " ('MAD', 'FCO'): [('6:05', '8:32', 174),\n",
              "  ('8:25', '10:34', 157),\n",
              "  ('9:42', '11:32', 169),\n",
              "  ('11:01', '12:39', 260),\n",
              "  ('12:44', '14:17', 134),\n",
              "  ('14:22', '16:32', 126),\n",
              "  ('15:58', '18:40', 173),\n",
              "  ('16:43', '19:00', 246),\n",
              "  ('18:48', '21:45', 246),\n",
              "  ('19:50', '22:24', 269)]}"
            ]
          },
          "metadata": {},
          "execution_count": 65
        }
      ]
    },
    {
      "cell_type": "code",
      "metadata": {
        "colab": {
          "base_uri": "https://localhost:8080/"
        },
        "id": "dqg5khVOI-r2",
        "outputId": "250195b2-3cce-4f43-e804-b37cfcbbea68"
      },
      "source": [
        "flights[('LIS', 'FCO')]"
      ],
      "execution_count": null,
      "outputs": [
        {
          "output_type": "execute_result",
          "data": {
            "text/plain": [
              "[('6:11', '8:31', 249),\n",
              " ('7:39', '10:24', 219),\n",
              " ('9:15', '12:03', 99),\n",
              " ('11:08', '13:07', 175),\n",
              " ('12:18', '14:56', 172),\n",
              " ('13:37', '15:08', 250),\n",
              " ('15:03', '16:42', 135),\n",
              " ('16:51', '19:09', 147),\n",
              " ('18:12', '20:17', 242),\n",
              " ('20:05', '22:06', 261)]"
            ]
          },
          "metadata": {},
          "execution_count": 66
        }
      ]
    },
    {
      "cell_type": "code",
      "metadata": {
        "colab": {
          "base_uri": "https://localhost:8080/"
        },
        "id": "9EoTkGoEJEII",
        "outputId": "a81bab18-79ae-40b8-f32a-2d1b2a2f0fed"
      },
      "source": [
        "flights[('FCO', 'LIS')]"
      ],
      "execution_count": null,
      "outputs": [
        {
          "output_type": "execute_result",
          "data": {
            "text/plain": [
              "[('6:19', '8:13', 239),\n",
              " ('8:04', '10:59', 136),\n",
              " ('9:31', '11:43', 210),\n",
              " ('11:07', '13:24', 171),\n",
              " ('12:31', '14:02', 234),\n",
              " ('14:05', '15:47', 226),\n",
              " ('15:07', '17:21', 129),\n",
              " ('16:35', '18:56', 144),\n",
              " ('18:25', '20:34', 205),\n",
              " ('20:05', '21:44', 172)]"
            ]
          },
          "metadata": {},
          "execution_count": 67
        }
      ]
    },
    {
      "cell_type": "code",
      "metadata": {
        "colab": {
          "base_uri": "https://localhost:8080/"
        },
        "id": "bfMXlUV_K2cR",
        "outputId": "b70e37b8-a134-4da1-ae4f-ab0fba85d57f"
      },
      "source": [
        "flights[('MAD', 'FCO')]"
      ],
      "execution_count": null,
      "outputs": [
        {
          "output_type": "execute_result",
          "data": {
            "text/plain": [
              "[('6:05', '8:32', 174),\n",
              " ('8:25', '10:34', 157),\n",
              " ('9:42', '11:32', 169),\n",
              " ('11:01', '12:39', 260),\n",
              " ('12:44', '14:17', 134),\n",
              " ('14:22', '16:32', 126),\n",
              " ('15:58', '18:40', 173),\n",
              " ('16:43', '19:00', 246),\n",
              " ('18:48', '21:45', 246),\n",
              " ('19:50', '22:24', 269)]"
            ]
          },
          "metadata": {},
          "execution_count": 69
        }
      ]
    },
    {
      "cell_type": "code",
      "metadata": {
        "colab": {
          "base_uri": "https://localhost:8080/"
        },
        "id": "akrZSW9LK4Xp",
        "outputId": "2d70da0c-df61-484b-803c-ac3440a616e1"
      },
      "source": [
        "flights[('FCO', 'MAD')]"
      ],
      "execution_count": null,
      "outputs": [
        {
          "output_type": "execute_result",
          "data": {
            "text/plain": [
              "[('6:03', '8:43', 219),\n",
              " ('7:50', '10:08', 164),\n",
              " ('9:11', '10:42', 172),\n",
              " ('10:33', '13:11', 132),\n",
              " ('12:08', '14:47', 231),\n",
              " ('14:19', '17:09', 190),\n",
              " ('15:04', '17:23', 189),\n",
              " ('17:06', '20:00', 95),\n",
              " ('18:33', '20:22', 143),\n",
              " ('19:32', '21:25', 160)]"
            ]
          },
          "metadata": {},
          "execution_count": 70
        }
      ]
    },
    {
      "cell_type": "code",
      "metadata": {
        "colab": {
          "base_uri": "https://localhost:8080/"
        },
        "id": "0k8pnZAjKSHq",
        "outputId": "4b25fd6e-1eab-4b57-d28b-ffe9e5b6da10"
      },
      "source": [
        "schedule = [1,0, 3,2, 7,3, 6,3, 2,4, 5,3]\n",
        "len(schedule)"
      ],
      "execution_count": null,
      "outputs": [
        {
          "output_type": "execute_result",
          "data": {
            "text/plain": [
              "12"
            ]
          },
          "metadata": {},
          "execution_count": 91
        }
      ]
    },
    {
      "cell_type": "code",
      "metadata": {
        "colab": {
          "base_uri": "https://localhost:8080/"
        },
        "id": "RdV_a3sjLbzq",
        "outputId": "3dcac075-def3-4f5f-9fe2-12f0237b5483"
      },
      "source": [
        "len(schedule) // 2"
      ],
      "execution_count": null,
      "outputs": [
        {
          "output_type": "execute_result",
          "data": {
            "text/plain": [
              "6"
            ]
          },
          "metadata": {},
          "execution_count": 74
        }
      ]
    },
    {
      "cell_type": "code",
      "metadata": {
        "id": "xwWsV37LLu6k"
      },
      "source": [
        "def print_schedule(schedule):\n",
        "  flight_id = -1\n",
        "  total_price = 0\n",
        "  for i in range(len(schedule) // 2):\n",
        "    name = people[i][0]\n",
        "    #print(name)\n",
        "    origin = people[i][1]\n",
        "    #print(origin)\n",
        "    flight_id += 1\n",
        "    going = flights[(origin, destiny)][schedule[flight_id]]\n",
        "    #print(going)\n",
        "    total_price += going[2]\n",
        "    flight_id += 1\n",
        "    returning = flights[(destiny, origin)][schedule[flight_id]]\n",
        "    total_price += returning[2]\n",
        "    #print('\\n')\n",
        "    print('%10s%10s %5s-%5s %3s %5s-%5s %3s' % (name, origin, going[0], going[1], going[2],\n",
        "                                                returning[0], returning[1], returning[2]))                                                \n",
        "  print('Total price:', total_price)"
      ],
      "execution_count": null,
      "outputs": []
    },
    {
      "cell_type": "code",
      "metadata": {
        "colab": {
          "base_uri": "https://localhost:8080/"
        },
        "id": "H1i3UZ8ZMDKv",
        "outputId": "305d4998-c52f-451f-e8c8-46817371a524"
      },
      "source": [
        "print_schedule(schedule)"
      ],
      "execution_count": null,
      "outputs": [
        {
          "output_type": "stream",
          "name": "stdout",
          "text": [
            "    Lisbon       LIS  7:39-10:24 219  6:19- 8:13 239\n",
            "    Madrid       MAD 11:01-12:39 260  9:11-10:42 172\n",
            "     Paris       CDG 17:07-20:04 291 11:08-14:38 262\n",
            "    Dublin       DUB 15:27-17:18 151 10:33-12:03  74\n",
            "  Brussels       BRU  9:08-12:12 364 12:20-16:34 500\n",
            "    London       LHR 13:40-15:38 137 10:32-13:16 139\n",
            "Total price: 2808\n"
          ]
        }
      ]
    },
    {
      "cell_type": "code",
      "metadata": {
        "id": "gXURRqykPL67"
      },
      "source": [
        "def fitness_function_deap(schedule):\n",
        "  flight_id = -1\n",
        "  total_price = 0\n",
        "  for i in range(0, 6):\n",
        "    origin = people[i][1]\n",
        "    flight_id += 1\n",
        "    going = flights[(origin, destiny)][schedule[flight_id]]\n",
        "    total_price += going[2]\n",
        "    flight_id += 1\n",
        "    returning = flights[(destiny, origin)][schedule[flight_id]]\n",
        "    total_price += returning[2]\n",
        "  \n",
        "  return total_price,"
      ],
      "execution_count": null,
      "outputs": []
    },
    {
      "cell_type": "code",
      "metadata": {
        "id": "6p39A80MPgIr"
      },
      "source": [
        "def fitness_function_mlrose(schedule):\n",
        "  flight_id = -1\n",
        "  total_price = 0\n",
        "  for i in range(0, 6):\n",
        "    origin = people[i][1]\n",
        "    flight_id += 1\n",
        "    going = flights[(origin, destiny)][schedule[flight_id]]\n",
        "    total_price += going[2]\n",
        "    flight_id += 1\n",
        "    returning = flights[(destiny, origin)][schedule[flight_id]]\n",
        "    total_price += returning[2]\n",
        "  \n",
        "  return total_price"
      ],
      "execution_count": null,
      "outputs": []
    },
    {
      "cell_type": "markdown",
      "metadata": {
        "id": "Fb34g6cnQ-7u"
      },
      "source": [
        "# DEAP library - Flight schedule"
      ]
    },
    {
      "cell_type": "code",
      "metadata": {
        "colab": {
          "base_uri": "https://localhost:8080/"
        },
        "id": "84yfIAs3Q_0L",
        "outputId": "6a7eb08a-1af1-476a-ec5c-d24f2b5ea643"
      },
      "source": [
        "toolbox = base.Toolbox()\n",
        "creator.create('FitnessMin', base.Fitness, weights=(-1.0,))\n",
        "creator.create('Individual', list, fitness=creator.FitnessMin)\n",
        "toolbox.register('attr_int', random.randint, a = 0, b = 9)\n",
        "toolbox.register('individual', tools.initRepeat, creator.Individual, toolbox.attr_int, n=12)\n",
        "toolbox.register('population', tools.initRepeat, list, toolbox.individual)\n",
        "toolbox.register('evaluate', fitness_function_deap)\n",
        "toolbox.register('mate', tools.cxOnePoint)\n",
        "toolbox.register('mutate', tools.mutFlipBit, indpb = 0.01)\n",
        "toolbox.register('select', tools.selTournament, tournsize=3)\n",
        "population = toolbox.population(n = 500)\n",
        "crossover_probability = 0.7\n",
        "mutation_probability = 0.3\n",
        "number_of_generations = 100\n",
        "\n",
        "statistics = tools.Statistics(key=lambda individuo: individuo.fitness.values)\n",
        "statistics.register(\"max\", numpy.max)\n",
        "statistics.register(\"min\", numpy.min)\n",
        "statistics.register(\"med\", numpy.mean)\n",
        "statistics.register(\"std\", numpy.std)\n",
        "    \n",
        "population, info = algorithms.eaSimple(population, toolbox,\n",
        "                                       crossover_probability, mutation_probability,\n",
        "                                       number_of_generations, statistics)"
      ],
      "execution_count": null,
      "outputs": [
        {
          "output_type": "stream",
          "name": "stderr",
          "text": [
            "/usr/local/lib/python3.7/dist-packages/deap/creator.py:141: RuntimeWarning:\n",
            "\n",
            "A class named 'FitnessMin' has already been created and it will be overwritten. Consider deleting previous creation of that class or rename it.\n",
            "\n",
            "/usr/local/lib/python3.7/dist-packages/deap/creator.py:141: RuntimeWarning:\n",
            "\n",
            "A class named 'Individual' has already been created and it will be overwritten. Consider deleting previous creation of that class or rename it.\n",
            "\n"
          ]
        },
        {
          "output_type": "stream",
          "name": "stdout",
          "text": [
            "gen\tnevals\tmax \tmin \tmed    \tstd    \n",
            "0  \t500   \t3176\t1833\t2643.69\t206.068\n",
            "1  \t391   \t2957\t1861\t2478.49\t162.041\n",
            "2  \t399   \t2872\t1861\t2346.94\t143.342\n",
            "3  \t409   \t2657\t1861\t2237.3 \t132.042\n",
            "4  \t391   \t2538\t1803\t2117.59\t118.667\n",
            "5  \t375   \t2409\t1721\t2023.61\t104.86 \n",
            "6  \t412   \t2280\t1696\t1943.36\t88.1382\n",
            "7  \t385   \t2169\t1696\t1873.37\t72.5033\n",
            "8  \t404   \t2162\t1662\t1815.86\t63.676 \n",
            "9  \t394   \t1954\t1622\t1764.96\t53.0747\n",
            "10 \t406   \t1982\t1596\t1726.16\t47.4363\n",
            "11 \t415   \t1853\t1585\t1690.88\t37.1378\n",
            "12 \t387   \t1919\t1579\t1665   \t40.9808\n",
            "13 \t405   \t1843\t1573\t1635.47\t35.4322\n",
            "14 \t395   \t1808\t1572\t1610.48\t33.1158\n",
            "15 \t400   \t2130\t1572\t1594.45\t38.2075\n",
            "16 \t394   \t1786\t1572\t1583.27\t25.0015\n",
            "17 \t391   \t1782\t1566\t1578.46\t22.8334\n",
            "18 \t387   \t1867\t1566\t1577.96\t28.2307\n",
            "19 \t385   \t1833\t1566\t1576.1 \t25.1877\n",
            "20 \t400   \t1775\t1566\t1574.81\t24.1348\n",
            "21 \t409   \t1767\t1566\t1570.77\t17.4843\n",
            "22 \t379   \t1769\t1566\t1571.82\t29.068 \n",
            "23 \t410   \t1769\t1566\t1569.43\t22.7524\n",
            "24 \t397   \t1769\t1566\t1570.74\t25.6846\n",
            "25 \t381   \t1786\t1566\t1570.21\t23.7636\n",
            "26 \t406   \t1769\t1566\t1568.88\t20.1934\n",
            "27 \t372   \t1806\t1566\t1570.86\t27.3541\n",
            "28 \t409   \t1780\t1566\t1569.98\t25.4694\n",
            "29 \t403   \t1769\t1566\t1571.06\t26.9619\n",
            "30 \t387   \t1767\t1566\t1568.69\t18.7958\n",
            "31 \t418   \t1970\t1566\t1571.01\t31.8658\n",
            "32 \t392   \t1804\t1566\t1568.7 \t19.9018\n",
            "33 \t383   \t1769\t1566\t1569.03\t19.9411\n",
            "34 \t394   \t1769\t1566\t1571.2 \t28.4196\n",
            "35 \t382   \t1767\t1566\t1567.23\t13.4879\n",
            "36 \t402   \t1769\t1566\t1568.7 \t18.6439\n",
            "37 \t387   \t1780\t1566\t1568.76\t21.0279\n",
            "38 \t392   \t1769\t1566\t1571.52\t29.5369\n",
            "39 \t396   \t1840\t1566\t1572.25\t32.1857\n",
            "40 \t397   \t1826\t1566\t1570.86\t25.8584\n",
            "41 \t395   \t1769\t1566\t1568.68\t20.3538\n",
            "42 \t411   \t1769\t1566\t1571.43\t27.3345\n",
            "43 \t388   \t1767\t1566\t1568.93\t20.4229\n",
            "44 \t404   \t1840\t1566\t1569.76\t25.091 \n",
            "45 \t401   \t1767\t1566\t1568.15\t18.4502\n",
            "46 \t386   \t1769\t1566\t1570.09\t24.1905\n",
            "47 \t404   \t1769\t1566\t1570.39\t24.6518\n",
            "48 \t395   \t1769\t1566\t1569.61\t21.4871\n",
            "49 \t413   \t1769\t1566\t1569.83\t24.0546\n",
            "50 \t406   \t1867\t1566\t1570.63\t28.187 \n",
            "51 \t400   \t1769\t1566\t1569.53\t23.3225\n",
            "52 \t389   \t1891\t1566\t1570.31\t27.3302\n",
            "53 \t405   \t1792\t1566\t1570.27\t25.1547\n",
            "54 \t397   \t1793\t1566\t1570.58\t27.9379\n",
            "55 \t381   \t1767\t1566\t1569.42\t21.7815\n",
            "56 \t389   \t1769\t1566\t1570.56\t27.2555\n",
            "57 \t403   \t1875\t1566\t1570.96\t29.4192\n",
            "58 \t392   \t1800\t1566\t1568.79\t20.6878\n",
            "59 \t402   \t1769\t1566\t1569.57\t23.7482\n",
            "60 \t399   \t1769\t1566\t1569.41\t23.2429\n",
            "61 \t392   \t1769\t1566\t1570.33\t26.1699\n",
            "62 \t396   \t1800\t1566\t1569.97\t26.8931\n",
            "63 \t393   \t1861\t1566\t1569.99\t24.6587\n",
            "64 \t381   \t1769\t1566\t1571.35\t28.6318\n",
            "65 \t388   \t1970\t1566\t1571.24\t32.2994\n",
            "66 \t404   \t1832\t1566\t1569.36\t22.9313\n",
            "67 \t401   \t1775\t1566\t1569.82\t23.371 \n",
            "68 \t383   \t1769\t1566\t1570.79\t27.775 \n",
            "69 \t390   \t1775\t1566\t1569.4 \t23.015 \n",
            "70 \t404   \t1780\t1566\t1570.58\t27.1902\n",
            "71 \t398   \t1769\t1566\t1569.6 \t23.201 \n",
            "72 \t394   \t1885\t1566\t1568.32\t21.223 \n",
            "73 \t409   \t1796\t1566\t1569.93\t23.9554\n",
            "74 \t385   \t1769\t1566\t1567.99\t17.0115\n",
            "75 \t382   \t1791\t1566\t1568.89\t21.351 \n",
            "76 \t385   \t1769\t1566\t1567.79\t14.56  \n",
            "77 \t371   \t1769\t1566\t1570.31\t24.5428\n",
            "78 \t388   \t1919\t1566\t1568.88\t23.274 \n",
            "79 \t377   \t1767\t1566\t1570.19\t23.4854\n",
            "80 \t381   \t1769\t1566\t1568.94\t20.224 \n",
            "81 \t372   \t1799\t1566\t1570.12\t25.5818\n",
            "82 \t398   \t1840\t1566\t1571.56\t28.5119\n",
            "83 \t392   \t1769\t1566\t1569.97\t23.2071\n",
            "84 \t386   \t1792\t1566\t1569.05\t21.1223\n",
            "85 \t404   \t1769\t1566\t1568.65\t19.0774\n",
            "86 \t385   \t1767\t1566\t1569.29\t23.1793\n",
            "87 \t386   \t1769\t1566\t1569.91\t25.2684\n",
            "88 \t405   \t1769\t1566\t1570.95\t26.7262\n",
            "89 \t400   \t1769\t1566\t1569.59\t22.985 \n",
            "90 \t388   \t1769\t1566\t1569.72\t24.0523\n",
            "91 \t395   \t1970\t1566\t1570.87\t29.7636\n",
            "92 \t397   \t1952\t1566\t1570.61\t29.3981\n",
            "93 \t402   \t1879\t1566\t1571.72\t31.0982\n",
            "94 \t379   \t1767\t1566\t1568.92\t21.2367\n",
            "95 \t400   \t1919\t1566\t1568.89\t22.6918\n",
            "96 \t372   \t1861\t1566\t1568.62\t20.2263\n",
            "97 \t385   \t1769\t1566\t1569.16\t22.5141\n",
            "98 \t392   \t1954\t1566\t1573.12\t34.8172\n",
            "99 \t377   \t1769\t1566\t1571.57\t28.7605\n",
            "100\t368   \t1769\t1566\t1569.15\t21.7217\n"
          ]
        }
      ]
    },
    {
      "cell_type": "code",
      "metadata": {
        "colab": {
          "base_uri": "https://localhost:8080/"
        },
        "id": "HzETgCvZUZor",
        "outputId": "17ded8ee-f6f6-4a6f-bdd5-70f933a8823f"
      },
      "source": [
        "best_solution = tools.selBest(population, 1)\n",
        "for individual in best_solution:\n",
        "  print(individual)\n",
        "  print(individual.fitness)"
      ],
      "execution_count": null,
      "outputs": [
        {
          "output_type": "stream",
          "name": "stdout",
          "text": [
            "[2, 6, 5, 7, 8, 1, 3, 6, 0, 2, 9, 1]\n",
            "(1566.0,)\n"
          ]
        }
      ]
    },
    {
      "cell_type": "code",
      "metadata": {
        "colab": {
          "base_uri": "https://localhost:8080/"
        },
        "id": "BDBITTVfUmqy",
        "outputId": "b5932464-009d-41bf-96d5-86c04f9cb904"
      },
      "source": [
        "print_schedule(individual)"
      ],
      "execution_count": null,
      "outputs": [
        {
          "output_type": "stream",
          "name": "stdout",
          "text": [
            "    Lisbon       LIS  9:15-12:03  99 15:07-17:21 129\n",
            "    Madrid       MAD 14:22-16:32 126 17:06-20:00  95\n",
            "     Paris       CDG 18:23-21:35 134  8:23-11:07 143\n",
            "    Dublin       DUB 11:16-13:29  83 15:25-16:58  62\n",
            "  Brussels       BRU  6:12-10:22 230  9:49-13:51 229\n",
            "    London       LHR 20:30-23:11 114  8:19-11:16 122\n",
            "Total price: 1566\n"
          ]
        }
      ]
    },
    {
      "cell_type": "markdown",
      "metadata": {
        "id": "rpET-c0qVFsk"
      },
      "source": [
        "# MLROSe library - Flight schedule"
      ]
    },
    {
      "cell_type": "code",
      "metadata": {
        "id": "KnezqxvcVGjd"
      },
      "source": [
        "fitness = mlrose.CustomFitness(fitness_function_mlrose)"
      ],
      "execution_count": null,
      "outputs": []
    },
    {
      "cell_type": "code",
      "metadata": {
        "id": "saTykP9BVSXZ"
      },
      "source": [
        "problem = mlrose.DiscreteOpt(length=12, fitness_fn=fitness, maximize = False, max_val=10) # 0 - 9"
      ],
      "execution_count": null,
      "outputs": []
    },
    {
      "cell_type": "code",
      "metadata": {
        "colab": {
          "base_uri": "https://localhost:8080/"
        },
        "id": "YzW6Y20jVlwj",
        "outputId": "526deb31-dfa5-40f5-a82c-04245b655b0b"
      },
      "source": [
        "best_solution, best_fitness = mlrose.genetic_alg(problem, pop_size=500, mutation_prob=0.3)\n",
        "best_solution, best_fitness"
      ],
      "execution_count": null,
      "outputs": [
        {
          "output_type": "execute_result",
          "data": {
            "text/plain": [
              "(array([2, 7, 2, 8, 9, 1, 8, 6, 0, 2, 5, 5]), 1807.0)"
            ]
          },
          "metadata": {},
          "execution_count": 111
        }
      ]
    },
    {
      "cell_type": "code",
      "metadata": {
        "colab": {
          "base_uri": "https://localhost:8080/"
        },
        "id": "L1ntOcYKV4Sj",
        "outputId": "fc0cc797-4e92-4cc3-83bb-cd218b29b5c6"
      },
      "source": [
        "print_schedule(best_solution)"
      ],
      "execution_count": null,
      "outputs": [
        {
          "output_type": "stream",
          "name": "stdout",
          "text": [
            "    Lisbon       LIS  9:15-12:03  99 16:35-18:56 144\n",
            "    Madrid       MAD  9:42-11:32 169 18:33-20:22 143\n",
            "     Paris       CDG 19:53-22:21 173  8:23-11:07 143\n",
            "    Dublin       DUB 18:34-19:36 136 15:25-16:58  62\n",
            "  Brussels       BRU  6:12-10:22 230  9:49-13:51 229\n",
            "    London       LHR 13:40-15:38 137 13:37-15:33 142\n",
            "Total price: 1807\n"
          ]
        }
      ]
    }
  ]
}