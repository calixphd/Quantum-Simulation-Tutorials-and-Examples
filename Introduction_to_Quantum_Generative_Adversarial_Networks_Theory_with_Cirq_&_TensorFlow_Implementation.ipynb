{
  "nbformat": 4,
  "nbformat_minor": 0,
  "metadata": {
    "colab": {
      "provenance": [],
      "collapsed_sections": [],
      "authorship_tag": "ABX9TyOtjweSIdVPp8WLx8Fsrg+M",
      "include_colab_link": true
    },
    "kernelspec": {
      "name": "python3",
      "display_name": "Python 3"
    },
    "language_info": {
      "name": "python"
    }
  },
  "cells": [
    {
      "cell_type": "markdown",
      "metadata": {
        "id": "view-in-github",
        "colab_type": "text"
      },
      "source": [
        "<a href=\"https://colab.research.google.com/github/calixphd/Quantum-Simulation-Tutorials-and-Examples/blob/main/Introduction_to_Quantum_Generative_Adversarial_Networks_Theory_with_Cirq_%26_TensorFlow_Implementation.ipynb\" target=\"_parent\"><img src=\"https://colab.research.google.com/assets/colab-badge.svg\" alt=\"Open In Colab\"/></a>"
      ]
    },
    {
      "cell_type": "code",
      "execution_count": null,
      "metadata": {
        "id": "6vVAHTrDfTv_"
      },
      "outputs": [],
      "source": [
        "!pip install pennylane"
      ]
    },
    {
      "cell_type": "code",
      "source": [
        "! pip install pennylane-cirq"
      ],
      "metadata": {
        "colab": {
          "base_uri": "https://localhost:8080/"
        },
        "id": "GDwAXNaijouP",
        "outputId": "8529eb44-3b43-4836-8a27-d3f4110e0da5"
      },
      "execution_count": 22,
      "outputs": [
        {
          "output_type": "stream",
          "name": "stdout",
          "text": [
            "Installing collected packages: pennylane-cirq\n",
            "Successfully installed pennylane-cirq-0.24.0\n"
          ]
        }
      ]
    },
    {
      "cell_type": "markdown",
      "source": [
        "# Introduction to Quantum Generative Adversarial Networks: Theory with Cirq & TensorFlow Implementation"
      ],
      "metadata": {
        "id": "R0pZVonpf3Cq"
      }
    },
    {
      "cell_type": "markdown",
      "source": [
        "# Introduction"
      ],
      "metadata": {
        "id": "f_kweIfwhCa6"
      }
    },
    {
      "cell_type": "markdown",
      "source": [
        "We present two implementations  a Quantum Generative Adversarial Network (QGAN) (Lloyd and Weedbrook (2018), Dallaire-Demers and Killoran (2018)). The first implementation \n",
        "\n",
        "\n",
        " using two subcircuits, a generator and a discriminator. The generator attempts to generate synthetic quantum data to match a pattern of “real” data, while the discriminator tries to discern real data from fake data. The gradient of the discriminator’s output provides a training signal for the generator to improve its fake generated data."
      ],
      "metadata": {
        "id": "Q8tJIPOKgPRi"
      }
    },
    {
      "cell_type": "markdown",
      "source": [
        "## We begin by importing PennyLane, NumPy, and TensorFlow."
      ],
      "metadata": {
        "id": "uGhHQ5P7jOLY"
      }
    },
    {
      "cell_type": "markdown",
      "source": [
        "We begin by importing PennyLane, NumPy, and TensorFlow."
      ],
      "metadata": {
        "id": "9f_hz6DkjaHJ"
      }
    },
    {
      "cell_type": "code",
      "source": [
        "import pennylane as qml\n",
        "import numpy as np\n",
        "import tensorflow as tf"
      ],
      "metadata": {
        "id": "dnZ-HdznjIoO"
      },
      "execution_count": 23,
      "outputs": []
    },
    {
      "cell_type": "markdown",
      "source": [
        "Declare a 3-qubit simulator device on Cirq."
      ],
      "metadata": {
        "id": "6RvXiCnPj4sq"
      }
    },
    {
      "cell_type": "code",
      "source": [
        "dev = qml.device('cirq.simulator', wires=3, shots=1000)"
      ],
      "metadata": {
        "id": "MZOGFKr6jsEa"
      },
      "execution_count": 24,
      "outputs": []
    },
    {
      "cell_type": "markdown",
      "source": [
        "# The Adversaries: Generator and Discriminator"
      ],
      "metadata": {
        "id": "u5sqtq6tnkji"
      }
    },
    {
      "cell_type": "markdown",
      "source": [
        "The usual starting point is to draw samples either from some “real data” distribution, or from the generator, and feed them to the discriminator. In this tutorial we will use a quantum circuit to generate the real data.\n",
        "\n",
        "For this simple example, our real data will be a qubit that has been rotated (from the starting state |0⟩) to some arbitrary, but fixed, state."
      ],
      "metadata": {
        "id": "sv9grbEMnlwM"
      }
    },
    {
      "cell_type": "code",
      "source": [
        "def real(angles, **kwargs):\n",
        "    qml.Hadamard(wires=0)\n",
        "    qml.Rot(*angles, wires=0)"
      ],
      "metadata": {
        "id": "k4yXmTPmoNSb"
      },
      "execution_count": 25,
      "outputs": []
    },
    {
      "cell_type": "markdown",
      "source": [
        "For the generator and discriminator, we will choose the same basic circuit structure, but acting on different wires.\n",
        "\n",
        "Both the real data circuit and the generator will output on wire 0, which will be connected as an input to the discriminator. Wire 1 is provided as a workspace for the generator, while the discriminator’s output will be on wire 2."
      ],
      "metadata": {
        "id": "0HPPiaTUoPPK"
      }
    },
    {
      "cell_type": "code",
      "source": [
        "def generator(w, **kwargs):\n",
        "    qml.Hadamard(wires=0)\n",
        "    qml.RX(w[0], wires=0)\n",
        "    qml.RX(w[1], wires=1)\n",
        "    qml.RY(w[2], wires=0)\n",
        "    qml.RY(w[3], wires=1)\n",
        "    qml.RZ(w[4], wires=0)\n",
        "    qml.RZ(w[5], wires=1)\n",
        "    qml.CNOT(wires=[0, 1])\n",
        "    qml.RX(w[6], wires=0)\n",
        "    qml.RY(w[7], wires=0)\n",
        "    qml.RZ(w[8], wires=0)\n",
        "\n",
        "\n",
        "def discriminator(w):\n",
        "    qml.Hadamard(wires=0)\n",
        "    qml.RX(w[0], wires=0)\n",
        "    qml.RX(w[1], wires=2)\n",
        "    qml.RY(w[2], wires=0)\n",
        "    qml.RY(w[3], wires=2)\n",
        "    qml.RZ(w[4], wires=0)\n",
        "    qml.RZ(w[5], wires=2)\n",
        "    qml.CNOT(wires=[0, 2])\n",
        "    qml.RX(w[6], wires=2)\n",
        "    qml.RY(w[7], wires=2)\n",
        "    qml.RZ(w[8], wires=2)"
      ],
      "metadata": {
        "id": "Z_8rklR5oYBf"
      },
      "execution_count": 26,
      "outputs": []
    },
    {
      "cell_type": "markdown",
      "source": [
        "We create two QNodes. One where the real data source is wired up to the discriminator, and one where the generator is connected to the discriminator. In order to pass TensorFlow Variables into the quantum circuits, we specify the \"tf\" interface."
      ],
      "metadata": {
        "id": "GnZ0rOaXoiJw"
      }
    },
    {
      "cell_type": "code",
      "source": [
        "@qml.qnode(dev, interface=\"tf\")\n",
        "def real_disc_circuit(phi, theta, omega, disc_weights):\n",
        "    real([phi, theta, omega])\n",
        "    discriminator(disc_weights)\n",
        "    return qml.expval(qml.PauliZ(2))\n",
        "\n",
        "\n",
        "@qml.qnode(dev, interface=\"tf\")\n",
        "def gen_disc_circuit(gen_weights, disc_weights):\n",
        "    generator(gen_weights)\n",
        "    discriminator(disc_weights)\n",
        "    return qml.expval(qml.PauliZ(2))"
      ],
      "metadata": {
        "id": "9_GZqbuLoj_u"
      },
      "execution_count": 27,
      "outputs": []
    },
    {
      "cell_type": "markdown",
      "source": [
        "# Cost Functions, Training & Optimization"
      ],
      "metadata": {
        "id": "E59xUTrooqDX"
      }
    },
    {
      "cell_type": "markdown",
      "source": [
        "There are two cost functions of interest, corresponding to the two stages of QGAN training. These cost functions are built from two pieces: the first piece is the probability that the discriminator correctly classifies real data as real. The second piece is the probability that the discriminator classifies fake data (i.e., a state prepared by the generator) as real.\n",
        "\n",
        "The discriminator is trained to maximize the probability of correctly classifying real data, while minimizing the probability of mistakenly classifying fake data.\n",
        "\n",
        "CostD=Pr(real|fake)−Pr(real|real)\n",
        "The generator is trained to maximize the probability that the discriminator accepts fake data as real.\n",
        "\n",
        "CostG=−Pr(real|fake)"
      ],
      "metadata": {
        "id": "_wr4IK8Nov5X"
      }
    },
    {
      "cell_type": "code",
      "source": [
        "def prob_real_true(disc_weights):\n",
        "    true_disc_output = real_disc_circuit(phi, theta, omega, disc_weights)\n",
        "    # convert to probability\n",
        "    prob_real_true = (true_disc_output + 1) / 2\n",
        "    return prob_real_true\n",
        "\n",
        "\n",
        "def prob_fake_true(gen_weights, disc_weights):\n",
        "    fake_disc_output = gen_disc_circuit(gen_weights, disc_weights)\n",
        "    # convert to probability\n",
        "    prob_fake_true = (fake_disc_output + 1) / 2\n",
        "    return prob_fake_true\n",
        "\n",
        "\n",
        "def disc_cost(disc_weights):\n",
        "    cost = prob_fake_true(gen_weights, disc_weights) - prob_real_true(disc_weights)\n",
        "    return cost\n",
        "\n",
        "\n",
        "def gen_cost(gen_weights):\n",
        "    return -prob_fake_true(gen_weights, disc_weights)"
      ],
      "metadata": {
        "id": "O5BBG4D-pFgv"
      },
      "execution_count": 34,
      "outputs": []
    },
    {
      "cell_type": "markdown",
      "source": [
        "### The Training Phase"
      ],
      "metadata": {
        "id": "5MDt5TVbpRvr"
      }
    },
    {
      "cell_type": "markdown",
      "source": [
        "We initialize the fixed angles of the “real data” circuit, as well as the initial parameters for both generator and discriminator. These are chosen so that the generator initially prepares a state on wire 0 that is very close to the |1⟩ state."
      ],
      "metadata": {
        "id": "3zWj_b7ApZ3M"
      }
    },
    {
      "cell_type": "code",
      "source": [
        "phi = np.pi / 6\n",
        "theta = np.pi / 2\n",
        "omega = np.pi / 7\n",
        "np.random.seed(0)\n",
        "eps = 1e-2\n",
        "init_gen_weights = np.array([np.pi] + [0] * 8) + \\\n",
        "                   np.random.normal(scale=eps, size=(9,))\n",
        "init_disc_weights = np.random.normal(size=(9,))\n",
        "\n",
        "gen_weights = tf.Variable(init_gen_weights)\n",
        "disc_weights = tf.Variable(init_disc_weights)"
      ],
      "metadata": {
        "id": "r1pGG9yZpavA"
      },
      "execution_count": 38,
      "outputs": []
    },
    {
      "cell_type": "markdown",
      "source": [
        "### Create an optimizer"
      ],
      "metadata": {
        "id": "DAtjzTE_psrr"
      }
    },
    {
      "cell_type": "code",
      "source": [
        "opt = tf.keras.optimizers.SGD(0.4)"
      ],
      "metadata": {
        "id": "qOTQI1R4p1NK"
      },
      "execution_count": 39,
      "outputs": []
    },
    {
      "cell_type": "markdown",
      "source": [
        "### First, optimize the discriminator while keeping the generator parameters fixed."
      ],
      "metadata": {
        "id": "iWbi3RQcp-0R"
      }
    },
    {
      "cell_type": "code",
      "source": [
        "cost = lambda: disc_cost(disc_weights)\n",
        "\n",
        "for step in range(50):\n",
        "    opt.minimize(cost, disc_weights)\n",
        "    if step % 5 == 0:\n",
        "        cost_val = cost().numpy()\n",
        "        print(\"Step {}: cost = {}\".format(step, cost_val))"
      ],
      "metadata": {
        "colab": {
          "base_uri": "https://localhost:8080/"
        },
        "id": "Fn39kxtYp_f0",
        "outputId": "58b5effc-fc66-4140-cf60-765dd0a0ef86"
      },
      "execution_count": 40,
      "outputs": [
        {
          "output_type": "stream",
          "name": "stdout",
          "text": [
            "Step 0: cost = -0.07400000000000001\n",
            "Step 5: cost = -0.27299999999999996\n",
            "Step 10: cost = -0.445\n",
            "Step 15: cost = -0.4780000000000001\n",
            "Step 20: cost = -0.46799999999999997\n",
            "Step 25: cost = -0.498\n",
            "Step 30: cost = -0.512\n",
            "Step 35: cost = -0.492\n",
            "Step 40: cost = -0.495\n",
            "Step 45: cost = -0.496\n"
          ]
        }
      ]
    },
    {
      "cell_type": "markdown",
      "source": [
        "As the discriminator becomes optimal, the probability for the discriminator to correctly classify the real data should becomes close to one."
      ],
      "metadata": {
        "id": "L_SXF_BSquEq"
      }
    },
    {
      "cell_type": "code",
      "source": [
        "print(\"Prob(real classified as real): \", prob_real_true(disc_weights).numpy())"
      ],
      "metadata": {
        "colab": {
          "base_uri": "https://localhost:8080/"
        },
        "id": "mslqH0twq4I_",
        "outputId": "df2e53b3-06a1-4ab0-dfa3-49cd598c6750"
      },
      "execution_count": 41,
      "outputs": [
        {
          "output_type": "stream",
          "name": "stdout",
          "text": [
            "Prob(real classified as real):  0.997\n"
          ]
        }
      ]
    },
    {
      "cell_type": "markdown",
      "source": [
        "### Sanity check \n",
        "\n",
        "How does the discriminator classify the generator’s (still unoptimized) fake data:\n",
        "\n"
      ],
      "metadata": {
        "id": "oI_fIFYPrDJe"
      }
    },
    {
      "cell_type": "code",
      "source": [
        "print(\"Prob(fake classified as real): \", prob_fake_true(gen_weights, disc_weights).numpy())"
      ],
      "metadata": {
        "colab": {
          "base_uri": "https://localhost:8080/"
        },
        "id": "t_oZriJYq84R",
        "outputId": "c8344670-aa2a-4a2d-dd2b-994cec337f61"
      },
      "execution_count": 42,
      "outputs": [
        {
          "output_type": "stream",
          "name": "stdout",
          "text": [
            "Prob(fake classified as real):  0.505\n"
          ]
        }
      ]
    },
    {
      "cell_type": "markdown",
      "source": [
        "### Fooling the discriminator\n",
        "To play the adversarial game, train the generator to better fool the discriminator. For this simple tutorial, we only perform one stage of the game. For more complex models, we would continue training the models in an alternating fashion until we reach the optimum point of the two-player adversarial game."
      ],
      "metadata": {
        "id": "phcqrno9rWtv"
      }
    },
    {
      "cell_type": "code",
      "source": [
        "cost = lambda: gen_cost(gen_weights)\n",
        "\n",
        "for step in range(50):\n",
        "    opt.minimize(cost, gen_weights)\n",
        "    if step % 5 == 0:\n",
        "        cost_val = cost().numpy()\n",
        "        print(\"Step {}: cost = {}\".format(step, cost_val))"
      ],
      "metadata": {
        "colab": {
          "base_uri": "https://localhost:8080/"
        },
        "id": "2POyyoN5r3Es",
        "outputId": "c8e98cb7-ad8a-4978-91dd-70c51a16f7e3"
      },
      "execution_count": 43,
      "outputs": [
        {
          "output_type": "stream",
          "name": "stdout",
          "text": [
            "Step 0: cost = -0.605\n",
            "Step 5: cost = -0.884\n",
            "Step 10: cost = -0.982\n",
            "Step 15: cost = -0.994\n",
            "Step 20: cost = -0.999\n",
            "Step 25: cost = -0.999\n",
            "Step 30: cost = -1.0\n",
            "Step 35: cost = -1.0\n",
            "Step 40: cost = -1.0\n",
            "Step 45: cost = -1.0\n"
          ]
        }
      ]
    },
    {
      "cell_type": "code",
      "source": [],
      "metadata": {
        "id": "9h-8FYy2r5Cm"
      },
      "execution_count": null,
      "outputs": []
    },
    {
      "cell_type": "markdown",
      "source": [
        "At the optimum of the generator, the probability for the discriminator to be fooled should be close to 1."
      ],
      "metadata": {
        "id": "yd8h9rHFr96d"
      }
    },
    {
      "cell_type": "code",
      "source": [
        "print(\"Prob(fake classified as real): \", prob_fake_true(gen_weights, disc_weights).numpy())"
      ],
      "metadata": {
        "colab": {
          "base_uri": "https://localhost:8080/"
        },
        "id": "2nWjHz9qsB9F",
        "outputId": "68eea091-9fd1-4287-f28f-c76ed181280d"
      },
      "execution_count": 44,
      "outputs": [
        {
          "output_type": "stream",
          "name": "stdout",
          "text": [
            "Prob(fake classified as real):  1.0\n"
          ]
        }
      ]
    },
    {
      "cell_type": "markdown",
      "source": [
        "As the two adversaries approach optimum, the discriminator cost will be close to zero, indicating that the discriminator assigns equal probability to both real and generated data indicating that the generator has successfully learned how to simulate the real data enough to fool the discriminator."
      ],
      "metadata": {
        "id": "MPvNOePqsPwG"
      }
    },
    {
      "cell_type": "code",
      "source": [
        "print(\"Discriminator cost: \", disc_cost(disc_weights).numpy())"
      ],
      "metadata": {
        "colab": {
          "base_uri": "https://localhost:8080/"
        },
        "id": "r3IPJpMmslkY",
        "outputId": "238885b2-793f-4ea2-f416-7c995eaf6f93"
      },
      "execution_count": 45,
      "outputs": [
        {
          "output_type": "stream",
          "name": "stdout",
          "text": [
            "Discriminator cost:  0.0030000000000000027\n"
          ]
        }
      ]
    },
    {
      "cell_type": "markdown",
      "source": [
        "# Conclusion\n",
        "\n",
        "Conclude by comparing the states of the real data circuit and the generator. Observe that the generator have learned to be in a state that is very close to the one prepared in the real data circuit. The state of the first qubit is represented through its Bloch sphere representation as follows"
      ],
      "metadata": {
        "id": "fnvh1lc2su0f"
      }
    },
    {
      "cell_type": "code",
      "source": [
        "obs = [qml.PauliX(0), qml.PauliY(0), qml.PauliZ(0)]\n",
        "bloch_vector_real = qml.map(real, obs, dev, interface=\"tf\")\n",
        "bloch_vector_generator = qml.map(generator, obs, dev, interface=\"tf\")\n",
        "\n",
        "print(\"Real Bloch vector: {}\".format(bloch_vector_real([phi, theta, omega])))\n",
        "print(\"Generator Bloch vector: {}\".format(bloch_vector_generator(gen_weights)))"
      ],
      "metadata": {
        "colab": {
          "base_uri": "https://localhost:8080/"
        },
        "id": "dQrqBWNmtK2p",
        "outputId": "352ca7f2-6f99-4f75-ff32-b8fdfd0159d1"
      },
      "execution_count": 46,
      "outputs": [
        {
          "output_type": "stream",
          "name": "stdout",
          "text": [
            "Real Bloch vector: [-0.166  0.422 -0.86 ]\n",
            "Generator Bloch vector: [-0.28   0.424 -0.86 ]\n"
          ]
        }
      ]
    },
    {
      "cell_type": "markdown",
      "source": [
        "# **References**\n",
        "\n"
      ],
      "metadata": {
        "id": "wQFPVsUctWpy"
      }
    }
  ]
}