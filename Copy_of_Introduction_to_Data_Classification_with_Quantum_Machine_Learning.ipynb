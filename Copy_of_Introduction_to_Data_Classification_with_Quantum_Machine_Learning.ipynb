{
  "nbformat": 4,
  "nbformat_minor": 0,
  "metadata": {
    "colab": {
      "provenance": [],
      "collapsed_sections": [],
      "authorship_tag": "ABX9TyO383bWNfbNnxze24aTUrLM",
      "include_colab_link": true
    },
    "kernelspec": {
      "name": "python3",
      "display_name": "Python 3"
    },
    "language_info": {
      "name": "python"
    }
  },
  "cells": [
    {
      "cell_type": "markdown",
      "metadata": {
        "id": "view-in-github",
        "colab_type": "text"
      },
      "source": [
        "<a href=\"https://colab.research.google.com/github/calixphd/Quantum-Simulation-Tutorials-and-Examples/blob/main/Copy_of_Introduction_to_Data_Classification_with_Quantum_Machine_Learning.ipynb\" target=\"_parent\"><img src=\"https://colab.research.google.com/assets/colab-badge.svg\" alt=\"Open In Colab\"/></a>"
      ]
    },
    {
      "cell_type": "markdown",
      "source": [
        "# Data Classification with Quantum Machine Learning \n",
        "\n",
        "Chinonso onah & Obinna Uzoh"
      ],
      "metadata": {
        "id": "PJew-VB8Qto8"
      }
    },
    {
      "cell_type": "code",
      "source": [
        "import numpy as np\n",
        "import scipy\n",
        "from scipy.linalg import expm\n",
        "import matplotlib.pyplot as plt\n",
        "from mpl_toolkits.mplot3d import Axes3D\n",
        "from sklearn import datasets\n",
        "from sklearn.model_selection import train_test_split\n",
        "from sklearn.preprocessing import StandardScaler, MinMaxScaler\n",
        "from sklearn.decomposition import PCA"
      ],
      "metadata": {
        "id": "0aHHc2Q2JmyF"
      },
      "execution_count": null,
      "outputs": []
    },
    {
      "cell_type": "markdown",
      "source": [
        "##Loading Data"
      ],
      "metadata": {
        "id": "6qCyuOlsLivP"
      }
    },
    {
      "cell_type": "code",
      "source": [
        "#Load dataset\n",
        "cancer = datasets.load_breast_cancer()"
      ],
      "metadata": {
        "id": "xImxbrJvJm0w"
      },
      "execution_count": null,
      "outputs": []
    },
    {
      "cell_type": "markdown",
      "source": [
        "Exploring Data"
      ],
      "metadata": {
        "id": "8iWbHlRmL5nN"
      }
    },
    {
      "cell_type": "code",
      "source": [
        "# print the names of the 13 features\n",
        "print(\"Features: \", cancer.feature_names)\n",
        "\n",
        "# print the label type of cancer('malignant' 'benign')\n",
        "print(\"Labels: \", cancer.target_names)\n",
        "# print data(feature)shape\n",
        "cancer.data.shape\n"
      ],
      "metadata": {
        "colab": {
          "base_uri": "https://localhost:8080/"
        },
        "id": "sw3QB27GL6z9",
        "outputId": "21321c63-abf7-4af5-cffe-99397fe00a80"
      },
      "execution_count": null,
      "outputs": [
        {
          "output_type": "stream",
          "name": "stdout",
          "text": [
            "Features:  ['mean radius' 'mean texture' 'mean perimeter' 'mean area'\n",
            " 'mean smoothness' 'mean compactness' 'mean concavity'\n",
            " 'mean concave points' 'mean symmetry' 'mean fractal dimension'\n",
            " 'radius error' 'texture error' 'perimeter error' 'area error'\n",
            " 'smoothness error' 'compactness error' 'concavity error'\n",
            " 'concave points error' 'symmetry error' 'fractal dimension error'\n",
            " 'worst radius' 'worst texture' 'worst perimeter' 'worst area'\n",
            " 'worst smoothness' 'worst compactness' 'worst concavity'\n",
            " 'worst concave points' 'worst symmetry' 'worst fractal dimension']\n",
            "Labels:  ['malignant' 'benign']\n"
          ]
        },
        {
          "output_type": "execute_result",
          "data": {
            "text/plain": [
              "(569, 30)"
            ]
          },
          "metadata": {},
          "execution_count": 4
        }
      ]
    },
    {
      "cell_type": "code",
      "source": [
        "# Import train_test_split function\n",
        "from sklearn.model_selection import train_test_split\n",
        "\n",
        "# Split dataset into training set and test set\n",
        "X_train, X_test, y_train, y_test = train_test_split(cancer.data, cancer.target, test_size=0.3,random_state=109) # 70% training and 30% test"
      ],
      "metadata": {
        "id": "JlQI4qZ2ML8X"
      },
      "execution_count": null,
      "outputs": []
    },
    {
      "cell_type": "code",
      "source": [
        "#Import svm model\n",
        "from sklearn import svm\n",
        "\n",
        "#Create a svm Classifier\n",
        "clf = svm.SVC(kernel='linear') # Linear Kernel\n",
        "\n",
        "#Train the model using the training sets\n",
        "clf.fit(X_train, y_train)\n",
        "\n",
        "#Predict the response for test dataset\n",
        "y_pred = clf.predict(X_test)"
      ],
      "metadata": {
        "id": "-NyqBDN8Mwy0"
      },
      "execution_count": null,
      "outputs": []
    },
    {
      "cell_type": "code",
      "source": [
        "#Import scikit-learn metrics module for accuracy calculation\n",
        "from sklearn import metrics\n",
        "\n",
        "# Model Accuracy: how often is the classifier correct?\n",
        "print(\"Accuracy:\",metrics.accuracy_score(y_test, y_pred))"
      ],
      "metadata": {
        "colab": {
          "base_uri": "https://localhost:8080/"
        },
        "id": "1mwNjp1KNCRI",
        "outputId": "bd9bca0d-3304-4a25-b3d5-48a564b35e60"
      },
      "execution_count": null,
      "outputs": [
        {
          "output_type": "stream",
          "name": "stdout",
          "text": [
            "Accuracy: 0.9649122807017544\n"
          ]
        }
      ]
    },
    {
      "cell_type": "code",
      "source": [
        "training_size=25\n",
        "for k in range(0, 2):\n",
        "  x_axis_data = X_train[y_train == k, 0][:training_size]\n",
        "  y_axis_data = X_train[y_train == k, 1][:training_size]\n",
        "  label = 'Malignant' if k is 1 else 'Benign'\n",
        "  plt.scatter(x_axis_data, y_axis_data, label=label)\n",
        "plt.title(\"Breast Cancer Dataset (Dimensionality Reduced With PCA)\")\n",
        "plt.legend()\n",
        "plt.show()\n",
        "        "
      ],
      "metadata": {
        "colab": {
          "base_uri": "https://localhost:8080/",
          "height": 281
        },
        "id": "PMj6XiSHNbtV",
        "outputId": "213b9eca-398b-402b-83d1-81062ecc3e77"
      },
      "execution_count": null,
      "outputs": [
        {
          "output_type": "display_data",
          "data": {
            "text/plain": [
              "<Figure size 432x288 with 1 Axes>"
            ],
            "image/png": "[encoded data removed]"
          },
          "metadata": {
            "needs_background": "light"
          }
        }
      ]
    },
    {
      "cell_type": "code",
      "source": [
        "test_size=10\n",
        "for k in range(0, 2):\n",
        "  x_axis_data = X_test[y_test == k, 0][:test_size]\n",
        "  y_axis_data = X_test[y_test == k, 1][:test_size]\n",
        "  label = 'Malignant' if k is 1 else 'Benign'\n",
        "  plt.scatter(x_axis_data, y_axis_data, label=label)\n",
        "plt.title(\"Breast Cancer Dataset (Dimensionality Reduced With PCA)\")\n",
        "plt.legend()\n",
        "plt.show()"
      ],
      "metadata": {
        "colab": {
          "base_uri": "https://localhost:8080/",
          "height": 281
        },
        "id": "ee4W6fh-Puwk",
        "outputId": "e4934291-0c13-4fcf-bc40-727d974c848b"
      },
      "execution_count": null,
      "outputs": [
        {
          "output_type": "display_data",
          "data": {
            "text/plain": [
              "<Figure size 432x288 with 1 Axes>"
            ],
            "image/png": "[encoded data removed]"
          },
          "metadata": {
            "needs_background": "light"
          }
        }
      ]
    },
    {
      "cell_type": "markdown",
      "source": [
        "## Classification with Qiskit"
      ],
      "metadata": {
        "id": "_SPzd3CgS2f9"
      }
    },
    {
      "cell_type": "code",
      "source": [
        "!pip install qiskit\n",
        "!pip install qiskit_machine_learning"
      ],
      "metadata": {
        "id": "aSN3y-zRTC46"
      },
      "execution_count": null,
      "outputs": []
    },
    {
      "cell_type": "code",
      "source": [
        "import matplotlib.pyplot as plt\n",
        "import numpy as np\n",
        "\n",
        "from sklearn.svm import SVC\n",
        "from sklearn.cluster import SpectralClustering\n",
        "from sklearn.metrics import normalized_mutual_info_score\n",
        "\n",
        "from qiskit import BasicAer\n",
        "from qiskit.circuit.library import ZZFeatureMap\n",
        "from qiskit.utils import QuantumInstance, algorithm_globals\n",
        "from qiskit_machine_learning.algorithms import QSVC\n",
        "from qiskit_machine_learning.kernels import QuantumKernel\n",
        "from qiskit_machine_learning.datasets import ad_hoc_data\n",
        "\n",
        "seed = 12345\n",
        "algorithm_globals.random_seed = seed"
      ],
      "metadata": {
        "id": "afSUWsJzSXru"
      },
      "execution_count": null,
      "outputs": []
    },
    {
      "cell_type": "markdown",
      "source": [
        "## Classification of qiskit adhoc_data with QVSM"
      ],
      "metadata": {
        "id": "Rx8AMEpsTg7d"
      }
    },
    {
      "cell_type": "code",
      "source": [
        "adhoc_dimension = 2\n",
        "train_features, train_labels, test_features, test_labels, adhoc_total = ad_hoc_data(\n",
        "    training_size=20,\n",
        "    test_size=5,\n",
        "    n=adhoc_dimension,\n",
        "    gap=0.3,\n",
        "    plot_data=False,\n",
        "    one_hot=False,\n",
        "    include_sample_total=True,\n",
        ")\n",
        "\n",
        "plt.figure(figsize=(5, 5))\n",
        "plt.ylim(0, 2 * np.pi)\n",
        "plt.xlim(0, 2 * np.pi)\n",
        "plt.imshow(\n",
        "    np.asmatrix(adhoc_total).T,\n",
        "    interpolation=\"nearest\",\n",
        "    origin=\"lower\",\n",
        "    cmap=\"RdBu\",\n",
        "    extent=[0, 2 * np.pi, 0, 2 * np.pi],\n",
        ")\n",
        "\n",
        "plt.scatter(\n",
        "    train_features[np.where(train_labels[:] == 0), 0],\n",
        "    train_features[np.where(train_labels[:] == 0), 1],\n",
        "    marker=\"s\",\n",
        "    facecolors=\"w\",\n",
        "    edgecolors=\"b\",\n",
        "    label=\"A train\",\n",
        ")\n",
        "plt.scatter(\n",
        "    train_features[np.where(train_labels[:] == 1), 0],\n",
        "    train_features[np.where(train_labels[:] == 1), 1],\n",
        "    marker=\"o\",\n",
        "    facecolors=\"w\",\n",
        "    edgecolors=\"r\",\n",
        "    label=\"B train\",\n",
        ")\n",
        "plt.scatter(\n",
        "    test_features[np.where(test_labels[:] == 0), 0],\n",
        "    test_features[np.where(test_labels[:] == 0), 1],\n",
        "    marker=\"s\",\n",
        "    facecolors=\"b\",\n",
        "    edgecolors=\"w\",\n",
        "    label=\"A test\",\n",
        ")\n",
        "plt.scatter(\n",
        "    test_features[np.where(test_labels[:] == 1), 0],\n",
        "    test_features[np.where(test_labels[:] == 1), 1],\n",
        "    marker=\"o\",\n",
        "    facecolors=\"r\",\n",
        "    edgecolors=\"w\",\n",
        "    label=\"B test\",\n",
        ")\n",
        "\n",
        "plt.legend(bbox_to_anchor=(1.05, 1), loc=\"upper left\", borderaxespad=0.0)\n",
        "plt.title(\"Ad hoc dataset for classification\")\n",
        "\n",
        "plt.show()"
      ],
      "metadata": {
        "colab": {
          "base_uri": "https://localhost:8080/",
          "height": 336
        },
        "id": "iH0CGnspTBx1",
        "outputId": "286c7f41-0ac2-49d0-ebf2-84ff00c1c593"
      },
      "execution_count": null,
      "outputs": [
        {
          "output_type": "display_data",
          "data": {
            "text/plain": [
              "<Figure size 360x360 with 1 Axes>"
            ],
            "image/png": "[encoded data removed]"
          },
          "metadata": {
            "needs_background": "light"
          }
        }
      ]
    },
    {
      "cell_type": "markdown",
      "source": [
        "## Prepare the Quantum kernels"
      ],
      "metadata": {
        "id": "2j2O-hYeTz4M"
      }
    },
    {
      "cell_type": "code",
      "source": [
        "adhoc_feature_map = ZZFeatureMap(feature_dimension=adhoc_dimension, reps=2, entanglement=\"linear\")\n",
        "\n",
        "adhoc_backend = QuantumInstance(\n",
        "    BasicAer.get_backend(\"qasm_simulator\"), shots=1024, seed_simulator=seed, seed_transpiler=seed\n",
        ")\n",
        "\n",
        "adhoc_kernel = QuantumKernel(feature_map=adhoc_feature_map, quantum_instance=adhoc_backend)"
      ],
      "metadata": {
        "id": "fABbNbyRT4En"
      },
      "execution_count": null,
      "outputs": []
    },
    {
      "cell_type": "markdown",
      "source": [
        "## Define a custom kernel for use in classical SVM\n",
        "\n",
        "The scikit-learn svc algorithm allows us to define a custom kernel in two ways: by providing the kernel as a callable function or by precomputing the kernel matrix. We can do either of these using the QuantumKernel class in qiskit.\n",
        "\n",
        "The following code gives the kernel as a callable function:"
      ],
      "metadata": {
        "id": "ryWsF_VJT90F"
      }
    },
    {
      "cell_type": "code",
      "source": [
        "adhoc_svc = SVC(kernel=adhoc_kernel.evaluate)\n",
        "adhoc_svc.fit(train_features, train_labels)\n",
        "adhoc_score = adhoc_svc.score(test_features, test_labels)\n",
        "\n",
        "print(f\"Callable kernel classification test score: {adhoc_score}\")"
      ],
      "metadata": {
        "colab": {
          "base_uri": "https://localhost:8080/"
        },
        "id": "R93IxeZpT-DG",
        "outputId": "01cf6d1f-6286-4bfd-facd-a9104bd27cc4"
      },
      "execution_count": null,
      "outputs": [
        {
          "output_type": "stream",
          "name": "stdout",
          "text": [
            "Callable kernel classification test score: 1.0\n"
          ]
        }
      ]
    },
    {
      "cell_type": "code",
      "source": [
        "adhoc_matrix_train = adhoc_kernel.evaluate(x_vec=train_features)\n",
        "adhoc_matrix_test = adhoc_kernel.evaluate(x_vec=test_features, y_vec=train_features)\n",
        "\n",
        "fig, axs = plt.subplots(1, 2, figsize=(10, 5))\n",
        "axs[0].imshow(\n",
        "    np.asmatrix(adhoc_matrix_train), interpolation=\"nearest\", origin=\"upper\", cmap=\"Blues\"\n",
        ")\n",
        "axs[0].set_title(\"Ad hoc training kernel matrix\")\n",
        "axs[1].imshow(np.asmatrix(adhoc_matrix_test), interpolation=\"nearest\", origin=\"upper\", cmap=\"Reds\")\n",
        "axs[1].set_title(\"Ad hoc testing kernel matrix\")\n",
        "plt.show()\n",
        "\n",
        "adhoc_svc = SVC(kernel=\"precomputed\")\n",
        "adhoc_svc.fit(adhoc_matrix_train, train_labels)\n",
        "adhoc_score = adhoc_svc.score(adhoc_matrix_test, test_labels)\n",
        "\n",
        "print(f\"Precomputed kernel classification test score: {adhoc_score}\")"
      ],
      "metadata": {
        "id": "VkbP2APaUTqj"
      },
      "execution_count": null,
      "outputs": []
    },
    {
      "cell_type": "markdown",
      "source": [
        "## Data Clustering "
      ],
      "metadata": {
        "id": "uu3vVq-qUorF"
      }
    },
    {
      "cell_type": "code",
      "source": [
        "qsvc = QSVC(quantum_kernel=adhoc_kernel)\n",
        "qsvc.fit(train_features, train_labels)\n",
        "qsvc_score = qsvc.score(test_features, test_labels)\n",
        "\n",
        "print(f\"QSVC classification test score: {qsvc_score}\")"
      ],
      "metadata": {
        "colab": {
          "base_uri": "https://localhost:8080/"
        },
        "id": "XPKBu3QvUX14",
        "outputId": "a9155641-48b6-4863-e51a-c6c74f239669"
      },
      "execution_count": null,
      "outputs": [
        {
          "output_type": "stream",
          "name": "stdout",
          "text": [
            "QSVC classification test score: 1.0\n"
          ]
        }
      ]
    },
    {
      "cell_type": "code",
      "source": [
        "adhoc_dimension = 2\n",
        "train_features, train_labels, test_features, test_labels, adhoc_total = ad_hoc_data(\n",
        "    training_size=25,\n",
        "    test_size=0,\n",
        "    n=adhoc_dimension,\n",
        "    gap=0.6,\n",
        "    plot_data=False,\n",
        "    one_hot=False,\n",
        "    include_sample_total=True,\n",
        ")\n",
        "\n",
        "plt.figure(figsize=(5, 5))\n",
        "plt.ylim(0, 2 * np.pi)\n",
        "plt.xlim(0, 2 * np.pi)\n",
        "plt.imshow(\n",
        "    np.asmatrix(adhoc_total).T,\n",
        "    interpolation=\"nearest\",\n",
        "    origin=\"lower\",\n",
        "    cmap=\"RdBu\",\n",
        "    extent=[0, 2 * np.pi, 0, 2 * np.pi],\n",
        ")\n",
        "plt.scatter(\n",
        "    train_features[np.where(train_labels[:] == 0), 0],\n",
        "    train_features[np.where(train_labels[:] == 0), 1],\n",
        "    marker=\"s\",\n",
        "    facecolors=\"w\",\n",
        "    edgecolors=\"b\",\n",
        "    label=\"A\",\n",
        ")\n",
        "plt.scatter(\n",
        "    train_features[np.where(train_labels[:] == 1), 0],\n",
        "    train_features[np.where(train_labels[:] == 1), 1],\n",
        "    marker=\"o\",\n",
        "    facecolors=\"w\",\n",
        "    edgecolors=\"r\",\n",
        "    label=\"B\",\n",
        ")\n",
        "\n",
        "plt.legend(bbox_to_anchor=(1.05, 1), loc=\"upper left\", borderaxespad=0.0)\n",
        "plt.title(\"Ad hoc dataset for clustering\")\n",
        "\n",
        "plt.show()"
      ],
      "metadata": {
        "colab": {
          "base_uri": "https://localhost:8080/",
          "height": 336
        },
        "id": "GrgXkuIHUmKS",
        "outputId": "160e00ff-343c-4ef5-e876-34b9a78fca16"
      },
      "execution_count": null,
      "outputs": [
        {
          "output_type": "display_data",
          "data": {
            "text/plain": [
              "<Figure size 360x360 with 1 Axes>"
            ],
            "image/png": "[encoded data removed]"
          },
          "metadata": {
            "needs_background": "light"
          }
        }
      ]
    },
    {
      "cell_type": "code",
      "source": [
        "adhoc_feature_map = ZZFeatureMap(feature_dimension=adhoc_dimension, reps=2, entanglement=\"linear\")\n",
        "\n",
        "adhoc_backend = QuantumInstance(\n",
        "    BasicAer.get_backend(\"qasm_simulator\"), shots=1024, seed_simulator=seed, seed_transpiler=seed\n",
        ")\n",
        "\n",
        "adhoc_kernel = QuantumKernel(feature_map=adhoc_feature_map, quantum_instance=adhoc_backend)"
      ],
      "metadata": {
        "id": "kaRZMaF-U13M"
      },
      "execution_count": null,
      "outputs": []
    },
    {
      "cell_type": "code",
      "source": [
        "import qiskit.tools.jupyter\n",
        "\n",
        "%qiskit_version_table\n",
        "%qiskit_copyright"
      ],
      "metadata": {
        "colab": {
          "base_uri": "https://localhost:8080/",
          "height": 575
        },
        "id": "h2hyBvuCVCZv",
        "outputId": "0cce4f2c-fd4e-4df2-dd07-09893c801d84"
      },
      "execution_count": null,
      "outputs": [
        {
          "output_type": "display_data",
          "data": {
            "text/plain": [
              "<IPython.core.display.HTML object>"
            ],
            "text/html": [
              "<h3>Version Information</h3><table><tr><th>Qiskit Software</th><th>Version</th></tr><tr><td><code>qiskit-terra</code></td><td>0.22.0</td></tr><tr><td><code>qiskit-aer</code></td><td>0.11.0</td></tr><tr><td><code>qiskit-ibmq-provider</code></td><td>0.19.2</td></tr><tr><td><code>qiskit</code></td><td>0.39.0</td></tr><tr><td><code>qiskit-machine-learning</code></td><td>0.4.0</td></tr><tr><th>System information</th></tr><tr><td>Python version</td><td>3.7.15</td></tr><tr><td>Python compiler</td><td>GCC 7.5.0</td></tr><tr><td>Python build</td><td>default, Oct 12 2022 19:14:55</td></tr><tr><td>OS</td><td>Linux</td></tr><tr><td>CPUs</td><td>1</td></tr><tr><td>Memory (Gb)</td><td>12.681224822998047</td></tr><tr><td colspan='2'>Mon Oct 24 00:11:11 2022 UTC</td></tr></table>"
            ]
          },
          "metadata": {}
        },
        {
          "output_type": "display_data",
          "data": {
            "text/plain": [
              "<IPython.core.display.HTML object>"
            ],
            "text/html": [
              "<div style='width: 100%; background-color:#d5d9e0;padding-left: 10px; padding-bottom: 10px; padding-right: 10px; padding-top: 5px'><h3>This code is a part of Qiskit</h3><p>&copy; Copyright IBM 2017, 2022.</p><p>This code is licensed under the Apache License, Version 2.0. You may<br>obtain a copy of this license in the LICENSE.txt file in the root directory<br> of this source tree or at http://www.apache.org/licenses/LICENSE-2.0.<p>Any modifications or derivative works of this code must retain this<br>copyright notice, and modified files need to carry a notice indicating<br>that they have been altered from the originals.</p></div>"
            ]
          },
          "metadata": {}
        }
      ]
    },
    {
      "cell_type": "markdown",
      "source": [],
      "metadata": {
        "id": "Kmqx4LcKT-n_"
      }
    }
  ]
}